{
  "nbformat": 4,
  "nbformat_minor": 0,
  "metadata": {
    "kernelspec": {
      "display_name": "Python 3",
      "language": "python",
      "name": "python3"
    },
    "language_info": {
      "codemirror_mode": {
        "name": "ipython",
        "version": 3
      },
      "file_extension": ".py",
      "mimetype": "text/x-python",
      "name": "python",
      "nbconvert_exporter": "python",
      "pygments_lexer": "ipython3",
      "version": "3.7.6"
    },
    "toc": {
      "base_numbering": 1,
      "nav_menu": {},
      "number_sections": true,
      "sideBar": true,
      "skip_h1_title": false,
      "title_cell": "Table of Contents",
      "title_sidebar": "Contents",
      "toc_cell": false,
      "toc_position": {},
      "toc_section_display": true,
      "toc_window_display": false
    },
    "varInspector": {
      "cols": {
        "lenName": 16,
        "lenType": 16,
        "lenVar": 40
      },
      "kernels_config": {
        "python": {
          "delete_cmd_postfix": "",
          "delete_cmd_prefix": "del ",
          "library": "var_list.py",
          "varRefreshCmd": "print(var_dic_list())"
        },
        "r": {
          "delete_cmd_postfix": ") ",
          "delete_cmd_prefix": "rm(",
          "library": "var_list.r",
          "varRefreshCmd": "cat(var_dic_list()) "
        }
      },
      "types_to_exclude": [
        "module",
        "function",
        "builtin_function_or_method",
        "instance",
        "_Feature"
      ],
      "window_display": false
    },
    "colab": {
      "provenance": [],
      "toc_visible": true,
      "include_colab_link": true
    }
  },
  "cells": [
    {
      "cell_type": "markdown",
      "metadata": {
        "id": "view-in-github",
        "colab_type": "text"
      },
      "source": [
        "<a href=\"https://colab.research.google.com/github/among5094/SWMilitaryAcademy/blob/main/0628(%EC%88%98)_sklearn__begin.ipynb\" target=\"_parent\"><img src=\"https://colab.research.google.com/assets/colab-badge.svg\" alt=\"Open In Colab\"/></a>"
      ]
    },
    {
      "cell_type": "markdown",
      "metadata": {
        "id": "SlrkBxua_SfH"
      },
      "source": [
        "## scikit-learn 소개\n",
        "https://scikit-learn.org/stable/tutorial/machine_learning_map/index.html\n",
        "\n",
        "모델은 class로 구성되어 있다. 3가지 주요한 추상 class로 부터 만들어 진다.\n",
        "1. Estimator 추론기 #젤 높은\n",
        " - fit(X, y) 메소드와 getparams(파라미터 값 가져오기), setparams(파라미터 값 설정)\n",
        "2. Transformer 변환기 #비지도 학습\n",
        " - transform 메소드를 갖는다.\n",
        " - transform 이전에 fit이 선행되어야 한다.\n",
        " - 모든 Transformer는 Estimator이다.\n",
        "3. Predictor 예측기 #지도학습\n",
        " - predict(X) 메소드를 가지고 있다.\n",
        "\n",
        "## 모델링 과정\n",
        "1. 분석 기획\n",
        " - 목적\n",
        " - 기간/조직/비용/수집 데이터에 식별/정의\n",
        "2. 데이터 수집/저장\n",
        " - [train / validation] / test\n",
        " - train: 모델을 학습하는 데 사용. w 학습\n",
        " - validation: 튜닝 파라미터를 선택\n",
        " - test: 모델의 실제 성능을 측정.\n",
        "\n",
        "\n"
      ]
    },
    {
      "cell_type": "markdown",
      "source": [
        "머신러닝 프로젝트 프로세스\n",
        "\n",
        "\n",
        "1. 기획(어떤 문제인지 -> 만약 반려견 찾기 프로그램을 만든다면 모든 개를 대상으로 할지, 반려견으로 많이 쓰이는 품종 데이터만 넣을것인지 등등\n",
        "      정확도는 얼마나 높이고 어느정도의 기간까지 데이터를 학습시킬 것이고 등등 기획하기  \n",
        "\n",
        "2. 수집 : 데이터를 수집하는 단계 ->유기견 보호소에 가던가 이미지를 구글에서 찾던가\n",
        "\n",
        "3. 탐색 : 탐색을 해보고 수정할 게 있으면 수정하기\n",
        "\n",
        "탐색해봤는데 기획을 수정해야겠다 싶으면 수정하기(1,2,3번을 왔다갔다 함)\n",
        "\n",
        "4. 추출/ 변경/ 라벨링 : 데이터중에 개를 추출하고 싶은데 늑대나 곰이 있으면 제외하고,사진의 해상도 차이가 크면 해상도 맞춰주기(변경)\n",
        "\n",
        "\n",
        "5. 학습\n",
        "\n",
        "6. 성능평가/튜닝 : 원하는 성능이 안 나오면 계속 튜닝하면서 고치기\n",
        "\n",
        "7. 운영\n",
        "\n",
        "\n",
        "\n",
        "      "
      ],
      "metadata": {
        "id": "VVzkCW6peVIB"
      }
    },
    {
      "cell_type": "markdown",
      "source": [],
      "metadata": {
        "id": "vFCwLK8Sd9Jc"
      }
    },
    {
      "cell_type": "markdown",
      "source": [
        "## DecisionTreeClassifier"
      ],
      "metadata": {
        "id": "daafNLSc3xzi"
      }
    },
    {
      "cell_type": "code",
      "metadata": {
        "id": "M6Cedm0d_SfK"
      },
      "source": [
        "import sklearn"
      ],
      "execution_count": null,
      "outputs": []
    },
    {
      "cell_type": "markdown",
      "source": [
        "### 유방암 데이터"
      ],
      "metadata": {
        "id": "hHAuFZul343x"
      }
    },
    {
      "cell_type": "code",
      "metadata": {
        "id": "xFUW429y_SfL",
        "colab": {
          "base_uri": "https://localhost:8080/",
          "height": 75
        },
        "outputId": "f7256db6-ca90-42d2-bfc4-bec5dd095542"
      },
      "source": [
        "from sklearn.datasets import load_breast_cancer\n",
        "from sklearn.model_selection import train_test_split\n",
        "from sklearn.tree import DecisionTreeClassifier\n",
        "\n",
        "data = load_breast_cancer()\n",
        "X_train, X_test, y_train, y_test = train_test_split(data['data'], data.target, random_state=42, )\n",
        "\n",
        "model = DecisionTreeClassifier(criterion='entropy') #criterion ->\n",
        "model"
      ],
      "execution_count": null,
      "outputs": [
        {
          "output_type": "execute_result",
          "data": {
            "text/plain": [
              "DecisionTreeClassifier(criterion='entropy')"
            ],
            "text/html": [
              "<style>#sk-container-id-4 {color: black;background-color: white;}#sk-container-id-4 pre{padding: 0;}#sk-container-id-4 div.sk-toggleable {background-color: white;}#sk-container-id-4 label.sk-toggleable__label {cursor: pointer;display: block;width: 100%;margin-bottom: 0;padding: 0.3em;box-sizing: border-box;text-align: center;}#sk-container-id-4 label.sk-toggleable__label-arrow:before {content: \"▸\";float: left;margin-right: 0.25em;color: #696969;}#sk-container-id-4 label.sk-toggleable__label-arrow:hover:before {color: black;}#sk-container-id-4 div.sk-estimator:hover label.sk-toggleable__label-arrow:before {color: black;}#sk-container-id-4 div.sk-toggleable__content {max-height: 0;max-width: 0;overflow: hidden;text-align: left;background-color: #f0f8ff;}#sk-container-id-4 div.sk-toggleable__content pre {margin: 0.2em;color: black;border-radius: 0.25em;background-color: #f0f8ff;}#sk-container-id-4 input.sk-toggleable__control:checked~div.sk-toggleable__content {max-height: 200px;max-width: 100%;overflow: auto;}#sk-container-id-4 input.sk-toggleable__control:checked~label.sk-toggleable__label-arrow:before {content: \"▾\";}#sk-container-id-4 div.sk-estimator input.sk-toggleable__control:checked~label.sk-toggleable__label {background-color: #d4ebff;}#sk-container-id-4 div.sk-label input.sk-toggleable__control:checked~label.sk-toggleable__label {background-color: #d4ebff;}#sk-container-id-4 input.sk-hidden--visually {border: 0;clip: rect(1px 1px 1px 1px);clip: rect(1px, 1px, 1px, 1px);height: 1px;margin: -1px;overflow: hidden;padding: 0;position: absolute;width: 1px;}#sk-container-id-4 div.sk-estimator {font-family: monospace;background-color: #f0f8ff;border: 1px dotted black;border-radius: 0.25em;box-sizing: border-box;margin-bottom: 0.5em;}#sk-container-id-4 div.sk-estimator:hover {background-color: #d4ebff;}#sk-container-id-4 div.sk-parallel-item::after {content: \"\";width: 100%;border-bottom: 1px solid gray;flex-grow: 1;}#sk-container-id-4 div.sk-label:hover label.sk-toggleable__label {background-color: #d4ebff;}#sk-container-id-4 div.sk-serial::before {content: \"\";position: absolute;border-left: 1px solid gray;box-sizing: border-box;top: 0;bottom: 0;left: 50%;z-index: 0;}#sk-container-id-4 div.sk-serial {display: flex;flex-direction: column;align-items: center;background-color: white;padding-right: 0.2em;padding-left: 0.2em;position: relative;}#sk-container-id-4 div.sk-item {position: relative;z-index: 1;}#sk-container-id-4 div.sk-parallel {display: flex;align-items: stretch;justify-content: center;background-color: white;position: relative;}#sk-container-id-4 div.sk-item::before, #sk-container-id-4 div.sk-parallel-item::before {content: \"\";position: absolute;border-left: 1px solid gray;box-sizing: border-box;top: 0;bottom: 0;left: 50%;z-index: -1;}#sk-container-id-4 div.sk-parallel-item {display: flex;flex-direction: column;z-index: 1;position: relative;background-color: white;}#sk-container-id-4 div.sk-parallel-item:first-child::after {align-self: flex-end;width: 50%;}#sk-container-id-4 div.sk-parallel-item:last-child::after {align-self: flex-start;width: 50%;}#sk-container-id-4 div.sk-parallel-item:only-child::after {width: 0;}#sk-container-id-4 div.sk-dashed-wrapped {border: 1px dashed gray;margin: 0 0.4em 0.5em 0.4em;box-sizing: border-box;padding-bottom: 0.4em;background-color: white;}#sk-container-id-4 div.sk-label label {font-family: monospace;font-weight: bold;display: inline-block;line-height: 1.2em;}#sk-container-id-4 div.sk-label-container {text-align: center;}#sk-container-id-4 div.sk-container {/* jupyter's `normalize.less` sets `[hidden] { display: none; }` but bootstrap.min.css set `[hidden] { display: none !important; }` so we also need the `!important` here to be able to override the default hidden behavior on the sphinx rendered scikit-learn.org. See: https://github.com/scikit-learn/scikit-learn/issues/21755 */display: inline-block !important;position: relative;}#sk-container-id-4 div.sk-text-repr-fallback {display: none;}</style><div id=\"sk-container-id-4\" class=\"sk-top-container\"><div class=\"sk-text-repr-fallback\"><pre>DecisionTreeClassifier(criterion=&#x27;entropy&#x27;)</pre><b>In a Jupyter environment, please rerun this cell to show the HTML representation or trust the notebook. <br />On GitHub, the HTML representation is unable to render, please try loading this page with nbviewer.org.</b></div><div class=\"sk-container\" hidden><div class=\"sk-item\"><div class=\"sk-estimator sk-toggleable\"><input class=\"sk-toggleable__control sk-hidden--visually\" id=\"sk-estimator-id-4\" type=\"checkbox\" checked><label for=\"sk-estimator-id-4\" class=\"sk-toggleable__label sk-toggleable__label-arrow\">DecisionTreeClassifier</label><div class=\"sk-toggleable__content\"><pre>DecisionTreeClassifier(criterion=&#x27;entropy&#x27;)</pre></div></div></div></div></div>"
            ]
          },
          "metadata": {},
          "execution_count": 108
        }
      ]
    },
    {
      "cell_type": "markdown",
      "source": [
        "entropy(무질서도=자연스러운 것)는 하나의 변수에 대해 값이 얼마나 섞여 있는 가를 측정하는 지표\n",
        "- target의 유방암. 1(양성), 0(악성)의 값이 얼마나 섞여있는 가를 기준으로 데이터 집단을 분리한다.\n",
        "+)양성은 제거하지 않아도 되는 종양"
      ],
      "metadata": {
        "id": "FH0fmYhj43RX"
      }
    },
    {
      "cell_type": "code",
      "source": [
        "type(data)"
      ],
      "metadata": {
        "colab": {
          "base_uri": "https://localhost:8080/"
        },
        "id": "eCmpgdQVx8A4",
        "outputId": "a3db0c18-ac15-4f7d-9c14-996bcb5a1ace"
      },
      "execution_count": null,
      "outputs": [
        {
          "output_type": "execute_result",
          "data": {
            "text/plain": [
              "sklearn.utils._bunch.Bunch"
            ]
          },
          "metadata": {},
          "execution_count": 109
        }
      ]
    },
    {
      "cell_type": "code",
      "source": [
        "# (n, p) : n은 데이터의 갯수, p: 변수의 갯수\n",
        "data.data.shape"
      ],
      "metadata": {
        "colab": {
          "base_uri": "https://localhost:8080/"
        },
        "id": "ha7yMH0T7HVc",
        "outputId": "83c7f29a-f1ca-47cc-b3bc-d5e982bd47d4"
      },
      "execution_count": null,
      "outputs": [
        {
          "output_type": "execute_result",
          "data": {
            "text/plain": [
              "(569, 30)"
            ]
          },
          "metadata": {},
          "execution_count": 110
        }
      ]
    },
    {
      "cell_type": "code",
      "source": [
        "data.keys()"
      ],
      "metadata": {
        "colab": {
          "base_uri": "https://localhost:8080/"
        },
        "id": "tH83NPkFx_kX",
        "outputId": "53903af1-f28d-4873-c811-1f6753f527e3"
      },
      "execution_count": null,
      "outputs": [
        {
          "output_type": "execute_result",
          "data": {
            "text/plain": [
              "dict_keys(['data', 'target', 'frame', 'target_names', 'DESCR', 'feature_names', 'filename', 'data_module'])"
            ]
          },
          "metadata": {},
          "execution_count": 111
        }
      ]
    },
    {
      "cell_type": "code",
      "source": [
        "data.feature_names\n",
        "#가장 나쁜 값"
      ],
      "metadata": {
        "colab": {
          "base_uri": "https://localhost:8080/"
        },
        "id": "QzHLGBaK7bb4",
        "outputId": "127a506f-6b0e-4ab4-8804-c0b6deca587f"
      },
      "execution_count": null,
      "outputs": [
        {
          "output_type": "execute_result",
          "data": {
            "text/plain": [
              "array(['mean radius', 'mean texture', 'mean perimeter', 'mean area',\n",
              "       'mean smoothness', 'mean compactness', 'mean concavity',\n",
              "       'mean concave points', 'mean symmetry', 'mean fractal dimension',\n",
              "       'radius error', 'texture error', 'perimeter error', 'area error',\n",
              "       'smoothness error', 'compactness error', 'concavity error',\n",
              "       'concave points error', 'symmetry error',\n",
              "       'fractal dimension error', 'worst radius', 'worst texture',\n",
              "       'worst perimeter', 'worst area', 'worst smoothness',\n",
              "       'worst compactness', 'worst concavity', 'worst concave points',\n",
              "       'worst symmetry', 'worst fractal dimension'], dtype='<U23')"
            ]
          },
          "metadata": {},
          "execution_count": 112
        }
      ]
    },
    {
      "cell_type": "code",
      "source": [
        "data.target_names"
      ],
      "metadata": {
        "colab": {
          "base_uri": "https://localhost:8080/"
        },
        "id": "E5wWuTjx8PaH",
        "outputId": "3cce6344-ed97-4c15-c706-fc9eb74ab3a5"
      },
      "execution_count": null,
      "outputs": [
        {
          "output_type": "execute_result",
          "data": {
            "text/plain": [
              "array(['malignant', 'benign'], dtype='<U9')"
            ]
          },
          "metadata": {},
          "execution_count": 113
        }
      ]
    },
    {
      "cell_type": "code",
      "source": [
        "data.target[:5]"
      ],
      "metadata": {
        "id": "K2QsakGO8eUB",
        "colab": {
          "base_uri": "https://localhost:8080/"
        },
        "outputId": "6c8ec8d3-218d-4b96-9009-2ecea916c10f"
      },
      "execution_count": null,
      "outputs": [
        {
          "output_type": "execute_result",
          "data": {
            "text/plain": [
              "array([0, 0, 0, 0, 0])"
            ]
          },
          "metadata": {},
          "execution_count": 114
        }
      ]
    },
    {
      "cell_type": "code",
      "source": [
        "import numpy as np\n",
        "np.unique(data.target, return_counts=True, ) #unique함수 : 고유한 원소들을 모은 뒤, 1차원 shape으로 변환하고 정렬을 진행한 결과를 반환"
      ],
      "metadata": {
        "colab": {
          "base_uri": "https://localhost:8080/"
        },
        "id": "BbHRUYwV8Tv1",
        "outputId": "c0fe104d-d894-4822-b306-0524cec68bee"
      },
      "execution_count": null,
      "outputs": [
        {
          "output_type": "execute_result",
          "data": {
            "text/plain": [
              "(array([0, 1]), array([212, 357]))"
            ]
          },
          "metadata": {},
          "execution_count": 115
        }
      ]
    },
    {
      "cell_type": "code",
      "source": [
        "mradius = data.data[:, 0] #모든행의0번째 열을 mradius라고 함\n",
        "print(mradius.mean(), mradius.std()) #평균과 표준편차를 구해\n",
        "\n",
        "mmscaled = (mradius - mradius.min()) / (mradius.max() - mradius.min())\n",
        "print(mmscaled.max(), mmscaled.min())\n",
        "print(mmscaled.mean(), mmscaled.std())\n",
        "\n",
        "stdscaled = (mradius - mradius.mean()) / mradius.std() #stdscaled : 평균을 빼고 표준편차로 나눠줌\n",
        "print(stdscaled.max(), stdscaled.min())\n",
        "print(stdscaled.mean(), stdscaled.std())\n"
      ],
      "metadata": {
        "colab": {
          "base_uri": "https://localhost:8080/"
        },
        "id": "_wupIiuqAS7R",
        "outputId": "aef9bc0c-db03-4166-d8e5-1ba0f6ebaf18"
      },
      "execution_count": null,
      "outputs": [
        {
          "output_type": "stream",
          "name": "stdout",
          "text": [
            "14.127291739894552 3.520950760711062\n",
            "1.0 0.0\n",
            "0.3382219574941811 0.16664067209574815\n",
            "3.9712876465451097 -2.0296483039857525\n",
            "-1.3736327053358703e-16 1.0\n"
          ]
        }
      ]
    },
    {
      "cell_type": "code",
      "source": [
        "print(data.DESCR)"
      ],
      "metadata": {
        "colab": {
          "base_uri": "https://localhost:8080/"
        },
        "id": "xueSHPVw80oq",
        "outputId": "ca439a1a-1294-42eb-d1fb-2fb745f7908a"
      },
      "execution_count": null,
      "outputs": [
        {
          "output_type": "stream",
          "name": "stdout",
          "text": [
            ".. _breast_cancer_dataset:\n",
            "\n",
            "Breast cancer wisconsin (diagnostic) dataset\n",
            "--------------------------------------------\n",
            "\n",
            "**Data Set Characteristics:**\n",
            "\n",
            "    :Number of Instances: 569\n",
            "\n",
            "    :Number of Attributes: 30 numeric, predictive attributes and the class\n",
            "\n",
            "    :Attribute Information:\n",
            "        - radius (mean of distances from center to points on the perimeter)\n",
            "        - texture (standard deviation of gray-scale values)\n",
            "        - perimeter\n",
            "        - area\n",
            "        - smoothness (local variation in radius lengths)\n",
            "        - compactness (perimeter^2 / area - 1.0)\n",
            "        - concavity (severity of concave portions of the contour)\n",
            "        - concave points (number of concave portions of the contour)\n",
            "        - symmetry\n",
            "        - fractal dimension (\"coastline approximation\" - 1)\n",
            "\n",
            "        The mean, standard error, and \"worst\" or largest (mean of the three\n",
            "        worst/largest values) of these features were computed for each image,\n",
            "        resulting in 30 features.  For instance, field 0 is Mean Radius, field\n",
            "        10 is Radius SE, field 20 is Worst Radius.\n",
            "\n",
            "        - class:\n",
            "                - WDBC-Malignant\n",
            "                - WDBC-Benign\n",
            "\n",
            "    :Summary Statistics:\n",
            "\n",
            "    ===================================== ====== ======\n",
            "                                           Min    Max\n",
            "    ===================================== ====== ======\n",
            "    radius (mean):                        6.981  28.11\n",
            "    texture (mean):                       9.71   39.28\n",
            "    perimeter (mean):                     43.79  188.5\n",
            "    area (mean):                          143.5  2501.0\n",
            "    smoothness (mean):                    0.053  0.163\n",
            "    compactness (mean):                   0.019  0.345\n",
            "    concavity (mean):                     0.0    0.427\n",
            "    concave points (mean):                0.0    0.201\n",
            "    symmetry (mean):                      0.106  0.304\n",
            "    fractal dimension (mean):             0.05   0.097\n",
            "    radius (standard error):              0.112  2.873\n",
            "    texture (standard error):             0.36   4.885\n",
            "    perimeter (standard error):           0.757  21.98\n",
            "    area (standard error):                6.802  542.2\n",
            "    smoothness (standard error):          0.002  0.031\n",
            "    compactness (standard error):         0.002  0.135\n",
            "    concavity (standard error):           0.0    0.396\n",
            "    concave points (standard error):      0.0    0.053\n",
            "    symmetry (standard error):            0.008  0.079\n",
            "    fractal dimension (standard error):   0.001  0.03\n",
            "    radius (worst):                       7.93   36.04\n",
            "    texture (worst):                      12.02  49.54\n",
            "    perimeter (worst):                    50.41  251.2\n",
            "    area (worst):                         185.2  4254.0\n",
            "    smoothness (worst):                   0.071  0.223\n",
            "    compactness (worst):                  0.027  1.058\n",
            "    concavity (worst):                    0.0    1.252\n",
            "    concave points (worst):               0.0    0.291\n",
            "    symmetry (worst):                     0.156  0.664\n",
            "    fractal dimension (worst):            0.055  0.208\n",
            "    ===================================== ====== ======\n",
            "\n",
            "    :Missing Attribute Values: None\n",
            "\n",
            "    :Class Distribution: 212 - Malignant, 357 - Benign\n",
            "\n",
            "    :Creator:  Dr. William H. Wolberg, W. Nick Street, Olvi L. Mangasarian\n",
            "\n",
            "    :Donor: Nick Street\n",
            "\n",
            "    :Date: November, 1995\n",
            "\n",
            "This is a copy of UCI ML Breast Cancer Wisconsin (Diagnostic) datasets.\n",
            "https://goo.gl/U2Uwz2\n",
            "\n",
            "Features are computed from a digitized image of a fine needle\n",
            "aspirate (FNA) of a breast mass.  They describe\n",
            "characteristics of the cell nuclei present in the image.\n",
            "\n",
            "Separating plane described above was obtained using\n",
            "Multisurface Method-Tree (MSM-T) [K. P. Bennett, \"Decision Tree\n",
            "Construction Via Linear Programming.\" Proceedings of the 4th\n",
            "Midwest Artificial Intelligence and Cognitive Science Society,\n",
            "pp. 97-101, 1992], a classification method which uses linear\n",
            "programming to construct a decision tree.  Relevant features\n",
            "were selected using an exhaustive search in the space of 1-4\n",
            "features and 1-3 separating planes.\n",
            "\n",
            "The actual linear program used to obtain the separating plane\n",
            "in the 3-dimensional space is that described in:\n",
            "[K. P. Bennett and O. L. Mangasarian: \"Robust Linear\n",
            "Programming Discrimination of Two Linearly Inseparable Sets\",\n",
            "Optimization Methods and Software 1, 1992, 23-34].\n",
            "\n",
            "This database is also available through the UW CS ftp server:\n",
            "\n",
            "ftp ftp.cs.wisc.edu\n",
            "cd math-prog/cpo-dataset/machine-learn/WDBC/\n",
            "\n",
            ".. topic:: References\n",
            "\n",
            "   - W.N. Street, W.H. Wolberg and O.L. Mangasarian. Nuclear feature extraction \n",
            "     for breast tumor diagnosis. IS&T/SPIE 1993 International Symposium on \n",
            "     Electronic Imaging: Science and Technology, volume 1905, pages 861-870,\n",
            "     San Jose, CA, 1993.\n",
            "   - O.L. Mangasarian, W.N. Street and W.H. Wolberg. Breast cancer diagnosis and \n",
            "     prognosis via linear programming. Operations Research, 43(4), pages 570-577, \n",
            "     July-August 1995.\n",
            "   - W.H. Wolberg, W.N. Street, and O.L. Mangasarian. Machine learning techniques\n",
            "     to diagnose breast cancer from fine-needle aspirates. Cancer Letters 77 (1994) \n",
            "     163-171.\n"
          ]
        }
      ]
    },
    {
      "cell_type": "markdown",
      "metadata": {
        "id": "mow9g7SZ_SfN"
      },
      "source": [
        "$y \\in \\{0, 1\\}$\n",
        "\n",
        "$p(y=1) + p(y=0) = 1$\n",
        "\n",
        "- Entropy에 의한 : $Loss(p(y=1)) = - y \\log p(y=1) - (1-y)log (1 - p(y=1))$\n",
        "- Giny에 의한: $Loss(p(y=1)) = 1 - y P(y=1)^2 - (1-y)(1 - P(y=1))^2$ <- 지니는 살짝 완만함. 엔트로피보다"
      ]
    },
    {
      "cell_type": "markdown",
      "metadata": {
        "id": "-vMcFdx8_SfO"
      },
      "source": [
        "입력데이터 X는 data.data에 존재합니다. N=569, D=30"
      ]
    },
    {
      "cell_type": "code",
      "metadata": {
        "id": "Km0gMNk3_SfO",
        "colab": {
          "base_uri": "https://localhost:8080/"
        },
        "outputId": "aa542c34-6a8a-45f5-d72a-ea55bcce4ab6"
      },
      "source": [
        "data.data.shape"
      ],
      "execution_count": null,
      "outputs": [
        {
          "output_type": "execute_result",
          "data": {
            "text/plain": [
              "(569, 30)"
            ]
          },
          "metadata": {},
          "execution_count": 118
        }
      ]
    },
    {
      "cell_type": "markdown",
      "source": [
        "데이터의 평균값의 분포가 다양하므로, 스케일링이 필요하다. 다만, tree 기반의 모델은 scaling을 필요로 하지 않는다."
      ],
      "metadata": {
        "id": "s8L2Y-UXruQ0"
      }
    },
    {
      "cell_type": "code",
      "metadata": {
        "id": "kdy7g2q2_SfP",
        "colab": {
          "base_uri": "https://localhost:8080/"
        },
        "outputId": "2cff0bff-c21c-41db-b340-656f194c41d7"
      },
      "source": [
        "data.data.mean(axis=0)"
      ],
      "execution_count": null,
      "outputs": [
        {
          "output_type": "execute_result",
          "data": {
            "text/plain": [
              "array([1.41272917e+01, 1.92896485e+01, 9.19690334e+01, 6.54889104e+02,\n",
              "       9.63602812e-02, 1.04340984e-01, 8.87993158e-02, 4.89191459e-02,\n",
              "       1.81161863e-01, 6.27976098e-02, 4.05172056e-01, 1.21685343e+00,\n",
              "       2.86605923e+00, 4.03370791e+01, 7.04097891e-03, 2.54781388e-02,\n",
              "       3.18937163e-02, 1.17961371e-02, 2.05422988e-02, 3.79490387e-03,\n",
              "       1.62691898e+01, 2.56772232e+01, 1.07261213e+02, 8.80583128e+02,\n",
              "       1.32368594e-01, 2.54265044e-01, 2.72188483e-01, 1.14606223e-01,\n",
              "       2.90075571e-01, 8.39458172e-02])"
            ]
          },
          "metadata": {},
          "execution_count": 119
        }
      ]
    },
    {
      "cell_type": "code",
      "metadata": {
        "id": "GBPAmXyD_SfQ",
        "colab": {
          "base_uri": "https://localhost:8080/"
        },
        "outputId": "72118ef8-a15a-45da-b773-11e91591d797"
      },
      "source": [
        "data.data.std(axis=0)"
      ],
      "execution_count": null,
      "outputs": [
        {
          "output_type": "execute_result",
          "data": {
            "text/plain": [
              "array([3.52095076e+00, 4.29725464e+00, 2.42776193e+01, 3.51604754e+02,\n",
              "       1.40517641e-02, 5.27663291e-02, 7.96497253e-02, 3.87687325e-02,\n",
              "       2.73901809e-02, 7.05415588e-03, 2.77068942e-01, 5.51163427e-01,\n",
              "       2.02007710e+00, 4.54510134e+01, 2.99987837e-03, 1.78924359e-02,\n",
              "       3.01595231e-02, 6.16486075e-03, 8.25910439e-03, 2.64374475e-03,\n",
              "       4.82899258e+00, 6.14085432e+00, 3.35730016e+01, 5.68856459e+02,\n",
              "       2.28123569e-02, 1.57198171e-01, 2.08440875e-01, 6.56745545e-02,\n",
              "       6.18130785e-02, 1.80453893e-02])"
            ]
          },
          "metadata": {},
          "execution_count": 120
        }
      ]
    },
    {
      "cell_type": "code",
      "metadata": {
        "id": "snz5Fj08_SfU",
        "colab": {
          "base_uri": "https://localhost:8080/"
        },
        "outputId": "e38fbde8-b253-400d-f487-a45246443cc0"
      },
      "source": [
        "print(X_train.shape, X_test.shape, y_train.shape, y_test.shape)"
      ],
      "execution_count": null,
      "outputs": [
        {
          "output_type": "stream",
          "name": "stdout",
          "text": [
            "(426, 30) (143, 30) (426,) (143,)\n"
          ]
        }
      ]
    },
    {
      "cell_type": "code",
      "metadata": {
        "id": "p6REJZ5g_SfU",
        "colab": {
          "base_uri": "https://localhost:8080/"
        },
        "outputId": "c22c8f21-2c32-4ab6-ed89-be6c7a75f30a"
      },
      "source": [
        "143*4"
      ],
      "execution_count": null,
      "outputs": [
        {
          "output_type": "execute_result",
          "data": {
            "text/plain": [
              "572"
            ]
          },
          "metadata": {},
          "execution_count": 122
        }
      ]
    },
    {
      "cell_type": "code",
      "metadata": {
        "id": "jpMhuiQG_SfU",
        "colab": {
          "base_uri": "https://localhost:8080/"
        },
        "outputId": "0451bc89-69a3-4c0f-cee8-c65dc37e8eb4"
      },
      "source": [
        "data.data[0] #첫 번째 종양에 대한 데이터"
      ],
      "execution_count": null,
      "outputs": [
        {
          "output_type": "execute_result",
          "data": {
            "text/plain": [
              "array([1.799e+01, 1.038e+01, 1.228e+02, 1.001e+03, 1.184e-01, 2.776e-01,\n",
              "       3.001e-01, 1.471e-01, 2.419e-01, 7.871e-02, 1.095e+00, 9.053e-01,\n",
              "       8.589e+00, 1.534e+02, 6.399e-03, 4.904e-02, 5.373e-02, 1.587e-02,\n",
              "       3.003e-02, 6.193e-03, 2.538e+01, 1.733e+01, 1.846e+02, 2.019e+03,\n",
              "       1.622e-01, 6.656e-01, 7.119e-01, 2.654e-01, 4.601e-01, 1.189e-01])"
            ]
          },
          "metadata": {},
          "execution_count": 123
        }
      ]
    },
    {
      "cell_type": "code",
      "metadata": {
        "id": "BeLXDmZd_SfU",
        "colab": {
          "base_uri": "https://localhost:8080/"
        },
        "outputId": "1981928e-6438-4954-e9b5-6c078f201af6"
      },
      "source": [
        "data.target[0] #데이터에 대한 판정은 0이니까 \"악성\""
      ],
      "execution_count": null,
      "outputs": [
        {
          "output_type": "execute_result",
          "data": {
            "text/plain": [
              "0"
            ]
          },
          "metadata": {},
          "execution_count": 124
        }
      ]
    },
    {
      "cell_type": "markdown",
      "metadata": {
        "id": "uOeEyCtS_SfV"
      },
      "source": [
        "[Quiz] target에서 1과 0의 빈도를 계산해보자."
      ]
    },
    {
      "cell_type": "code",
      "metadata": {
        "id": "znrjE5Lm_SfV",
        "colab": {
          "base_uri": "https://localhost:8080/"
        },
        "outputId": "a54bacae-7b34-44e0-c893-74ef2ef35deb"
      },
      "source": [
        "import numpy as np\n",
        "uniq, freq = np.unique(data.target, return_counts=True)\n",
        "uniq, freq"
      ],
      "execution_count": null,
      "outputs": [
        {
          "output_type": "execute_result",
          "data": {
            "text/plain": [
              "(array([0, 1]), array([212, 357]))"
            ]
          },
          "metadata": {},
          "execution_count": 125
        }
      ]
    },
    {
      "cell_type": "code",
      "metadata": {
        "id": "X-aQqGpIVmUz",
        "colab": {
          "base_uri": "https://localhost:8080/"
        },
        "outputId": "15e4daa5-9a8d-4bc8-fb7f-6f99ef0cf743"
      },
      "source": [
        "import pandas as pd\n",
        "pd.Series(data.target).value_counts()"
      ],
      "execution_count": null,
      "outputs": [
        {
          "output_type": "execute_result",
          "data": {
            "text/plain": [
              "1    357\n",
              "0    212\n",
              "dtype: int64"
            ]
          },
          "metadata": {},
          "execution_count": 126
        }
      ]
    },
    {
      "cell_type": "markdown",
      "metadata": {
        "id": "6KMQUvT2_SfV"
      },
      "source": [
        "모델을 학습데이터로 학습하고, 테스트 데이터로 예측을 수행하여 예측값 y_pred을 생성합니다."
      ]
    },
    {
      "cell_type": "code",
      "metadata": {
        "id": "mri73zGk_SfV",
        "colab": {
          "base_uri": "https://localhost:8080/"
        },
        "outputId": "7edb5100-2519-4e6b-8d2c-2509d1be48e9"
      },
      "source": [
        "model.fit(X_train, y_train) #fit에는 x,y같이 넣어줌\n",
        "y_pred = model.predict(X_test) #예측할 때는 X만 넣어줌. 모르니까 예측하는거니까\n",
        "y_pred"
      ],
      "execution_count": null,
      "outputs": [
        {
          "output_type": "execute_result",
          "data": {
            "text/plain": [
              "array([1, 0, 0, 1, 1, 0, 0, 0, 0, 1, 1, 0, 1, 1, 1, 0, 1, 1, 1, 0, 1, 1,\n",
              "       0, 1, 1, 1, 1, 1, 1, 0, 1, 1, 0, 1, 1, 1, 0, 1, 0, 1, 1, 0, 1, 1,\n",
              "       1, 1, 1, 1, 1, 1, 0, 0, 1, 1, 1, 1, 1, 0, 0, 1, 1, 0, 0, 1, 1, 1,\n",
              "       0, 0, 1, 1, 0, 0, 1, 0, 1, 1, 1, 1, 1, 1, 0, 1, 1, 0, 0, 0, 0, 0,\n",
              "       1, 1, 1, 1, 1, 1, 1, 1, 0, 0, 1, 0, 0, 1, 0, 0, 1, 1, 1, 0, 1, 1,\n",
              "       0, 1, 1, 0, 1, 0, 1, 1, 1, 0, 1, 1, 1, 0, 1, 0, 0, 1, 1, 0, 0, 0,\n",
              "       1, 1, 1, 0, 0, 1, 1, 0, 1, 0, 1])"
            ]
          },
          "metadata": {},
          "execution_count": 127
        }
      ]
    },
    {
      "cell_type": "markdown",
      "metadata": {
        "id": "n2tWgjcX_SfW"
      },
      "source": [
        "이를 테스트데이터의 참값과 비교해 봅니다."
      ]
    },
    {
      "cell_type": "code",
      "metadata": {
        "id": "FK8sZWUk_SfW",
        "colab": {
          "base_uri": "https://localhost:8080/"
        },
        "outputId": "d7da9fd6-c53a-4b9d-ffbc-750bd14837a0"
      },
      "source": [
        "y_test"
      ],
      "execution_count": null,
      "outputs": [
        {
          "output_type": "execute_result",
          "data": {
            "text/plain": [
              "array([1, 0, 0, 1, 1, 0, 0, 0, 1, 1, 1, 0, 1, 0, 1, 0, 1, 1, 1, 0, 0, 1,\n",
              "       0, 1, 1, 1, 1, 1, 1, 0, 1, 1, 1, 1, 1, 1, 0, 1, 0, 1, 1, 0, 1, 1,\n",
              "       1, 1, 1, 1, 1, 1, 0, 0, 1, 1, 1, 1, 1, 0, 0, 1, 1, 0, 0, 1, 1, 1,\n",
              "       0, 0, 1, 1, 0, 0, 1, 0, 1, 1, 1, 0, 1, 1, 0, 1, 0, 0, 0, 0, 0, 0,\n",
              "       1, 1, 1, 1, 1, 1, 1, 1, 0, 0, 1, 0, 0, 1, 0, 0, 1, 1, 1, 0, 1, 1,\n",
              "       0, 1, 1, 0, 1, 0, 1, 1, 1, 0, 1, 1, 1, 0, 1, 0, 0, 1, 1, 0, 0, 0,\n",
              "       1, 1, 1, 0, 1, 1, 1, 0, 1, 0, 1])"
            ]
          },
          "metadata": {},
          "execution_count": 128
        }
      ]
    },
    {
      "cell_type": "markdown",
      "metadata": {
        "id": "d0jtSjrM_SfW"
      },
      "source": [
        "테스트 데이터에서의 정확도는 아래와 같이 수행될 수 있습니다."
      ]
    },
    {
      "cell_type": "code",
      "metadata": {
        "id": "O_OUOh0m_SfW",
        "colab": {
          "base_uri": "https://localhost:8080/"
        },
        "outputId": "270c404a-849f-4c0b-8611-2caa18b499ad"
      },
      "source": [
        "(y_pred == y_test).mean()"
      ],
      "execution_count": null,
      "outputs": [
        {
          "output_type": "execute_result",
          "data": {
            "text/plain": [
              "0.951048951048951"
            ]
          },
          "metadata": {},
          "execution_count": 129
        }
      ]
    },
    {
      "cell_type": "markdown",
      "metadata": {
        "id": "Rgtx4bwF_SfW"
      },
      "source": [
        "위 과정을 score 메소드를 이용하여 한번에 수행할 수 있습니다. train과 test의 차이가 많이 나서 실제 정확도(test에서의)는 만족스럽지 못하다."
      ]
    },
    {
      "cell_type": "code",
      "metadata": {
        "id": "oIybKSSB_SfW",
        "colab": {
          "base_uri": "https://localhost:8080/"
        },
        "outputId": "47ba7ca8-42e0-4afe-fbb9-d647490ab12a"
      },
      "source": [
        "model.score(X_test, y_test) #정확도 계산"
      ],
      "execution_count": null,
      "outputs": [
        {
          "output_type": "execute_result",
          "data": {
            "text/plain": [
              "0.951048951048951"
            ]
          },
          "metadata": {},
          "execution_count": 130
        }
      ]
    },
    {
      "cell_type": "code",
      "source": [
        "model.score(X_train, y_train)"
      ],
      "metadata": {
        "colab": {
          "base_uri": "https://localhost:8080/"
        },
        "id": "mAUY9ESjtKk4",
        "outputId": "1893c627-0c0b-40e2-d37b-3387d4f9a051"
      },
      "execution_count": null,
      "outputs": [
        {
          "output_type": "execute_result",
          "data": {
            "text/plain": [
              "1.0"
            ]
          },
          "metadata": {},
          "execution_count": 131
        }
      ]
    },
    {
      "cell_type": "markdown",
      "metadata": {
        "id": "s9khpxfv_SfX"
      },
      "source": [
        "### 모델 시각화\n",
        "모델의 학습내용은 tree에 저정되어 있습니다. graphviz는 아래와 같이 간단히 설치한다.\n",
        "```bash\n",
        "pip install graphviz\n",
        "```"
      ]
    },
    {
      "cell_type": "code",
      "source": [
        "# !pip install graphviz"
      ],
      "metadata": {
        "id": "fgzTAleft0Wt"
      },
      "execution_count": null,
      "outputs": []
    },
    {
      "cell_type": "code",
      "source": [
        "sp1 = (X_train[:, data.feature_names == 'mean concave points'] <= 0.051).reshape((-1))\n",
        "sp1.shape"
      ],
      "metadata": {
        "colab": {
          "base_uri": "https://localhost:8080/"
        },
        "id": "1Brvar3kZ5Fq",
        "outputId": "5932ea6b-7c58-4e3b-8bdf-707aa0453ea5"
      },
      "execution_count": null,
      "outputs": [
        {
          "output_type": "execute_result",
          "data": {
            "text/plain": [
              "(426,)"
            ]
          },
          "metadata": {},
          "execution_count": 133
        }
      ]
    },
    {
      "cell_type": "code",
      "source": [
        "not True"
      ],
      "metadata": {
        "colab": {
          "base_uri": "https://localhost:8080/"
        },
        "id": "A5jsMfhQd5uV",
        "outputId": "5f1e9e3f-d011-4c9d-9027-9ffdc0e2ed9f"
      },
      "execution_count": null,
      "outputs": [
        {
          "output_type": "execute_result",
          "data": {
            "text/plain": [
              "False"
            ]
          },
          "metadata": {},
          "execution_count": 134
        }
      ]
    },
    {
      "cell_type": "code",
      "source": [
        "left = y_train[sp1]\n",
        "right = y_train[~ sp1]"
      ],
      "metadata": {
        "id": "ipdrNdW2bDJ-"
      },
      "execution_count": null,
      "outputs": []
    },
    {
      "cell_type": "code",
      "source": [
        "print(np.unique(left, return_counts=True))\n",
        "print(np.unique(right, return_counts=True))"
      ],
      "metadata": {
        "colab": {
          "base_uri": "https://localhost:8080/"
        },
        "id": "JMya5ULoeBau",
        "outputId": "5edc2767-e519-4dd4-ba8c-834121bcb503"
      },
      "execution_count": null,
      "outputs": [
        {
          "output_type": "stream",
          "name": "stdout",
          "text": [
            "(array([0, 1]), array([ 16, 251]))\n",
            "(array([0, 1]), array([142,  17]))\n"
          ]
        }
      ]
    },
    {
      "cell_type": "code",
      "metadata": {
        "id": "g0oepWfb_SfX"
      },
      "source": [
        "# sklearn에서 끝이 _ 인 속성은 쓰기 불가용도\n",
        "tree = model.tree_ #_로 끝나는 건 쓰지말고 읽기만 하라는 뜻"
      ],
      "execution_count": null,
      "outputs": []
    },
    {
      "cell_type": "code",
      "metadata": {
        "id": "uzgOUq35_SfX"
      },
      "source": [
        "import graphviz\n",
        "from sklearn.tree import export_graphviz, plot_tree"
      ],
      "execution_count": null,
      "outputs": []
    },
    {
      "cell_type": "markdown",
      "metadata": {
        "id": "2u5fz80a_SfX"
      },
      "source": [
        "아래와 같이 plot_tree 함수로 split point와 tree를 그려볼 수 있습니다."
      ]
    },
    {
      "cell_type": "code",
      "metadata": {
        "id": "NQKaomC0_SfX",
        "colab": {
          "base_uri": "https://localhost:8080/",
          "height": 1000
        },
        "outputId": "7f63aa2d-8ace-466f-df3a-753e18c8dea8"
      },
      "source": [
        "import matplotlib.pyplot as plt\n",
        "fig = plt.figure(figsize=(25,20))\n",
        "_ = plot_tree(model,\n",
        "              feature_names=data.feature_names,\n",
        "              class_names=data.target_names,\n",
        "              filled=True)"
      ],
      "execution_count": null,
      "outputs": [
        {
          "output_type": "display_data",
          "data": {
            "text/plain": [
              "<Figure size 2500x2000 with 1 Axes>"
            ],
            "image/png": "[encoded data removed]"
          },
          "metadata": {}
        }
      ]
    },
    {
      "cell_type": "markdown",
      "metadata": {
        "id": "giKXEike_SfX"
      },
      "source": [
        "아래 작업을 수행하기 위한 준비사항:\n",
        "1. pip install graphviz\n",
        "2. [graphviz 사이트](https://graphviz.org/download/)에서 설치파일을 다운로드하고 설치한다.\n",
        "3. 환경변수에 graphviz 설치폴더의 bin 폴더를 path를 등록.(설치옵션)\n",
        "4. 컴퓨터를 재부팅시킨다."
      ]
    },
    {
      "cell_type": "code",
      "source": [
        "from google.colab import drive\n",
        "import os\n",
        "drive.mount('/content/drive/')\n",
        "os.chdir('/content/drive/My Drive/Colab Notebooks/MLStart')\n",
        "!pwd"
      ],
      "metadata": {
        "colab": {
          "base_uri": "https://localhost:8080/",
          "height": 248
        },
        "id": "dj-yMGLfvS03",
        "outputId": "6c8dd496-6652-4a0a-e6f9-63f8edeae81b"
      },
      "execution_count": null,
      "outputs": [
        {
          "output_type": "stream",
          "name": "stdout",
          "text": [
            "Drive already mounted at /content/drive/; to attempt to forcibly remount, call drive.mount(\"/content/drive/\", force_remount=True).\n"
          ]
        },
        {
          "output_type": "error",
          "ename": "FileNotFoundError",
          "evalue": "ignored",
          "traceback": [
            "\u001b[0;31m---------------------------------------------------------------------------\u001b[0m",
            "\u001b[0;31mFileNotFoundError\u001b[0m                         Traceback (most recent call last)",
            "\u001b[0;32m<ipython-input-140-d814723f9f18>\u001b[0m in \u001b[0;36m<cell line: 4>\u001b[0;34m()\u001b[0m\n\u001b[1;32m      2\u001b[0m \u001b[0;32mimport\u001b[0m \u001b[0mos\u001b[0m\u001b[0;34m\u001b[0m\u001b[0;34m\u001b[0m\u001b[0m\n\u001b[1;32m      3\u001b[0m \u001b[0mdrive\u001b[0m\u001b[0;34m.\u001b[0m\u001b[0mmount\u001b[0m\u001b[0;34m(\u001b[0m\u001b[0;34m'/content/drive/'\u001b[0m\u001b[0;34m)\u001b[0m\u001b[0;34m\u001b[0m\u001b[0;34m\u001b[0m\u001b[0m\n\u001b[0;32m----> 4\u001b[0;31m \u001b[0mos\u001b[0m\u001b[0;34m.\u001b[0m\u001b[0mchdir\u001b[0m\u001b[0;34m(\u001b[0m\u001b[0;34m'/content/drive/My Drive/Colab Notebooks/MLStart'\u001b[0m\u001b[0;34m)\u001b[0m\u001b[0;34m\u001b[0m\u001b[0;34m\u001b[0m\u001b[0m\n\u001b[0m\u001b[1;32m      5\u001b[0m \u001b[0mget_ipython\u001b[0m\u001b[0;34m(\u001b[0m\u001b[0;34m)\u001b[0m\u001b[0;34m.\u001b[0m\u001b[0msystem\u001b[0m\u001b[0;34m(\u001b[0m\u001b[0;34m'pwd'\u001b[0m\u001b[0;34m)\u001b[0m\u001b[0;34m\u001b[0m\u001b[0;34m\u001b[0m\u001b[0m\n",
            "\u001b[0;31mFileNotFoundError\u001b[0m: [Errno 2] No such file or directory: '/content/drive/My Drive/Colab Notebooks/MLStart'"
          ]
        }
      ]
    },
    {
      "cell_type": "code",
      "metadata": {
        "id": "mNm7UmHD_SfY"
      },
      "source": [
        "dot_data = export_graphviz(model, out_file=None,\n",
        "                     feature_names=data.feature_names,\n",
        "                     class_names=data.target_names,\n",
        "                     filled=True, rounded=True,\n",
        "                     special_characters=True)\n",
        "graph = graphviz.Source(dot_data)\n",
        "graph"
      ],
      "execution_count": null,
      "outputs": []
    },
    {
      "cell_type": "code",
      "metadata": {
        "id": "BmMDHCCZ_SfY"
      },
      "source": [
        "export_graphviz(model, out_file='tree.dot',\n",
        "                feature_names=data.feature_names,\n",
        "                class_names=data.target_names,\n",
        "                filled=True, rounded=True,\n",
        "                special_characters=True)\n",
        "\n",
        "with open(\"tree.dot\") as f:\n",
        "    dot_graph = f.read()\n",
        "dot = graphviz.Source(dot_graph); dot.format='png'\n",
        "dot.render(filename='tree')"
      ],
      "execution_count": null,
      "outputs": []
    },
    {
      "cell_type": "code",
      "metadata": {
        "id": "gTm9kn_k_SfY"
      },
      "source": [
        "from sklearn.tree import export_text\n",
        "treetext = export_text(model, decimals=4,\n",
        "                       feature_names=list(data.feature_names))\n",
        "print(treetext)"
      ],
      "execution_count": null,
      "outputs": []
    },
    {
      "cell_type": "markdown",
      "source": [
        "### 엔트로피의 이해\n",
        "x 라는 확률변수의 정보량 : $-log {p(x_i)}$\n",
        "\n",
        "특징: 숫자 2가 밑수인 log. 2는 비트수를 의미. 컴퓨터는 2진수로 이루어져있으니까  \n",
        "확률이 1인 것 -> 매번 동일하게 관찰되는 건 정보량이 없는것이다.  \n",
        "정보량이 0이 되면 0에 가까워짐. 그건 희귀한 사실이니까 정보량이 늘어나는 것이다.\n",
        "\n",
        "\n",
        "- p(앞면) = 0.5\n",
        "- p(뒷면) = 0.4\n",
        "- p(모서리) = 0.1\n",
        "\n",
        "\n"
      ],
      "metadata": {
        "id": "Qgkx1_uR48fU"
      }
    },
    {
      "cell_type": "markdown",
      "source": [],
      "metadata": {
        "id": "YlYbseJO6YGu"
      }
    },
    {
      "cell_type": "code",
      "source": [
        "ps = np.array([.5, .4, .1])\n",
        "getInfo = lambda ps: - np.log2(ps)\n",
        "infos = getInfo(ps)\n",
        "infos"
      ],
      "metadata": {
        "id": "n6tXGSVr51J7"
      },
      "execution_count": null,
      "outputs": []
    },
    {
      "cell_type": "markdown",
      "source": [
        "정보량의 기대값은 어떻게 될까? 이 정보를 관찰할 확률\n",
        "$$\\begin{align}\n",
        "E[f(x)] &= \\sum_i f(x_i) p(x_i) \\\\\n",
        "&= - \\sum_i \\log {p(x_i)} p(x_i) \\\\\n",
        "\\end{align}$$\n",
        "\n",
        "**엔트로피는 정보량에 대한 기대값**이다.\n",
        "\n",
        "\n",
        "하나의 집단에 모든 정보량이 1이면 엔트로피는 0이다(=정보량이 없다는 뜻)\n",
        "\n"
      ],
      "metadata": {
        "id": "ZNDbBllB6k_O"
      }
    },
    {
      "cell_type": "code",
      "source": [
        "infos.dot(ps)"
      ],
      "metadata": {
        "id": "WWFsTJBe7kQZ"
      },
      "execution_count": null,
      "outputs": []
    },
    {
      "cell_type": "code",
      "source": [
        "einfo = 0\n",
        "for i in range(len(ps)):\n",
        "    einfo += infos[i]*ps[i]\n",
        "einfo"
      ],
      "metadata": {
        "id": "9_bWo9Pr7o4x"
      },
      "execution_count": null,
      "outputs": []
    },
    {
      "cell_type": "markdown",
      "source": [
        "이 동전에 대해\n",
        "- 앞면이 나오면 꽝, 뒷면이 10원, 모서리가 나오면 1000원이라고 할 때,\n",
        "- 동전을 1번 던져서 얻을 수 있는 기대 수익은 얼마나 될까?"
      ],
      "metadata": {
        "id": "CkDO_rJo9Ke5"
      }
    },
    {
      "cell_type": "code",
      "source": [
        "gains = [0, 10, 1000]"
      ],
      "metadata": {
        "id": "BhNUBKnH9a84"
      },
      "execution_count": null,
      "outputs": []
    },
    {
      "cell_type": "code",
      "source": [
        "# .5 * 0 + .4*10 + .1*1000\n",
        "ps.dot(gains)\n",
        "\n",
        "#균등한 확률일 때 엔트로피가 가장 높다. .5씩 .5씩 섞여있을 때 엔트로피가 가장 높을 때\n",
        "#순수할 때(=분류가 많이 됐을 때) 엔트로피가 가장 낮아진다."
      ],
      "metadata": {
        "id": "e9RgBO8w9lLi"
      },
      "execution_count": null,
      "outputs": []
    },
    {
      "cell_type": "markdown",
      "source": [
        "[Quiz] 2개의 범주(0, 1)가 있는데, 1이 될 확률이 0.01 ~ 0.99 까지 변할 때, 이때의  entropy 곡선을 그려보자.\n",
        "$$Entroy(p) = -\\sum_{y=0}^1 p(y) * \\log{p(y)}$$"
      ],
      "metadata": {
        "id": "HoSUzN5bkUAT"
      }
    },
    {
      "cell_type": "code",
      "source": [
        "proby1 = np.arange(0.01, 1, 0.01)\n",
        "proby0 = 1 - proby1\n",
        "proby0[:5]"
      ],
      "metadata": {
        "id": "lswwQU-dkTmW"
      },
      "execution_count": null,
      "outputs": []
    },
    {
      "cell_type": "code",
      "source": [
        "def entropy(p0, p1):\n",
        "    rst = 0\n",
        "    rst += -p1*np.log(p1)\n",
        "    rst += -p0*np.log(p0)\n",
        "    return rst"
      ],
      "metadata": {
        "id": "vVXviL0ZleE4"
      },
      "execution_count": null,
      "outputs": []
    },
    {
      "cell_type": "code",
      "source": [
        "import matplotlib.pyplot as plt\n",
        "plt.plot(proby1, entropy(proby0, proby1))\n",
        "\n",
        "#그래프 보면서\n",
        "#균등한 확률일 때 엔트로피가 가장 높다. .5씩 .5씩 섞여있을 때 엔트로피가 가장 높을 때\n",
        "#순수할 때(=분류가 많이 됐을 때) 엔트로피가 가장 낮아진다."
      ],
      "metadata": {
        "id": "er-QyGLhmAmc"
      },
      "execution_count": null,
      "outputs": []
    },
    {
      "cell_type": "markdown",
      "source": [
        "2개의 주사위가 있다:\n",
        "1. 1번 주사위는 1 ~ 6까지 나올 확률이 [.1, .2. .3, .2, .1, .1]\n",
        "2. 2번 주사위는 1 ~ 6까지 나올 확률이 [1/6, 1/6. 1/6, 1/6, 1/6, 1/6]\n",
        "\n",
        "이때 몇번 주사위가 엔트로피가 높을까? 계산하여 그 결과를 출력하자."
      ],
      "metadata": {
        "id": "tk4CibLlsbMI"
      }
    },
    {
      "cell_type": "code",
      "source": [
        "def EntropyValue(probList):\n",
        "    # return -(probList*np.log(probList)).sum()\n",
        "    return - probList.dot(np.log(probList))"
      ],
      "metadata": {
        "id": "Gcva2EjJsb0w"
      },
      "execution_count": null,
      "outputs": []
    },
    {
      "cell_type": "code",
      "source": [
        "print(EntropyValue(np.array([.1, .2, .3, .2, .1, .1])))\n",
        "print(EntropyValue(np.array([1/6, 1/6, 1/6, 1/6, 1/6, 1/6])))"
      ],
      "metadata": {
        "id": "wNKbGksxtjg4"
      },
      "execution_count": null,
      "outputs": []
    },
    {
      "cell_type": "markdown",
      "source": [
        "### split point의 이해\n",
        "왜 DTC 모델은 첫 split point로 mean concave points <= 0.0513 을 선택했는 지 이해해보자.\n",
        "\n",
        "엔트로피와 정보이득:\n",
        "$$\\begin{align}\n",
        "E(y) &= - \\sum_{i=0}^{C} P(y=i) \\log P(y=i) \\\\\n",
        "I_G(s) &= E(root) - \\left( \\cfrac {n_l} n E(left) + \\cfrac {n_r} n E(right)  \\right)\n",
        "\\end{align}$$\n",
        "- $y \\in \\{0, \\cdots, C\\}$\n",
        "- split point는 $I_G$을 최대화하는 방향으로 결정한다."
      ],
      "metadata": {
        "id": "9KeY8sBj_bnW"
      }
    },
    {
      "cell_type": "code",
      "source": [
        "def entropy(y):\n",
        "    freqs = pd.Series(y).value_counts()\n",
        "    probs = freqs / freqs.sum()\n",
        "    return - probs.dot(np.log(probs))"
      ],
      "metadata": {
        "id": "JHQYU4NP_cD2"
      },
      "execution_count": null,
      "outputs": []
    },
    {
      "cell_type": "code",
      "source": [
        "def infogain(y, X, i, j):\n",
        "    parEntropy = entropy(y)\n",
        "    sp = X[i, j]\n",
        "    bv = X[:, j] <= sp\n",
        "    left = y[bv]\n",
        "    right = y[~bv]\n",
        "    N = len(y)\n",
        "    nleft = bv.sum()\n",
        "    nright = N  - nleft\n",
        "    leftEnropy = nleft / N * entropy(left)\n",
        "    rightEnropy = nright / N * entropy(right)\n",
        "    return parEntropy - (leftEnropy + rightEnropy)"
      ],
      "metadata": {
        "id": "5uDEsN3G_cfS"
      },
      "execution_count": null,
      "outputs": []
    },
    {
      "cell_type": "code",
      "source": [
        "MAX, maxi, maxj = 0, None, None\n",
        "for j in range(X_train.shape[1]):\n",
        "    for i in range(X_train.shape[0]):\n",
        "        ig = infogain(y_train, X_train, i, j)\n",
        "        if ig > MAX:\n",
        "            MAX = ig\n",
        "            maxi, maxj = i, j\n",
        "\n",
        "print(MAX) # 0.3903935490045703\n",
        "print(f\"{data.feature_names[maxj]} = {X_train[maxi, maxj]} 이 split point이다.\")"
      ],
      "metadata": {
        "id": "dKy6_FcI_ccg"
      },
      "execution_count": null,
      "outputs": []
    },
    {
      "cell_type": "markdown",
      "source": [
        "0.05074는 0.0513 보다 작은 최대값이다.\n",
        "- 다른 구현 패키지는 데이터 포인트에서 절단점을 찾는데\n",
        "- sklearn은 데이터 포인트를 정렬하고, 데이터 포인트의 중간점에서 절단점을 찾는다.\n",
        " - 장점: 절단점을 찾는 횟수가 한번 더 줄어든다.\n",
        " - 단점: 정렬해야 하는 시간이 추가로 더 생긴다.\n",
        "\n",
        "실제 중간점을 찾아보면 아래와 같다."
      ],
      "metadata": {
        "id": "MJBgfGMnOY05"
      }
    },
    {
      "cell_type": "code",
      "source": [
        "near2psidx = np.abs(X_train[:, maxj] - 0.0513).argsort()[:2]\n",
        "near2psidx"
      ],
      "metadata": {
        "id": "yp6NkBxpJamz"
      },
      "execution_count": null,
      "outputs": []
    },
    {
      "cell_type": "code",
      "source": [
        "near2ps = X_train[near2psidx, maxj]\n",
        "near2ps"
      ],
      "metadata": {
        "id": "QZFWuwtfJPXC"
      },
      "execution_count": null,
      "outputs": []
    },
    {
      "cell_type": "code",
      "source": [
        "near2ps.mean()"
      ],
      "metadata": {
        "id": "qwH6HAbEKPvJ"
      },
      "execution_count": null,
      "outputs": []
    },
    {
      "cell_type": "code",
      "source": [
        "infogain(y_train, X_train, 127, 7)"
      ],
      "metadata": {
        "id": "ilLAGUzBKhOK"
      },
      "execution_count": null,
      "outputs": []
    },
    {
      "cell_type": "markdown",
      "metadata": {
        "id": "UId74JTG_SfY"
      },
      "source": [
        "[Quiz] 위 모델에 대해 DecisionTreeClassifier의 옵션을 조정하여 test 데이터에 대한 정확도를 향상시켜보자."
      ]
    },
    {
      "cell_type": "code",
      "metadata": {
        "id": "h1vvWV0Y_SfY"
      },
      "source": [
        "m = DecisionTreeClassifier(criterion='entropy', max_depth=4, min_samples_leaf=5)\n",
        "m.fit(X_train, y_train)\n",
        "score = m.score(X_test, y_test)\n",
        "score"
      ],
      "execution_count": null,
      "outputs": []
    },
    {
      "cell_type": "code",
      "source": [
        "m.score(X_train, y_train)"
      ],
      "metadata": {
        "id": "94UMaFbFJUjb"
      },
      "execution_count": null,
      "outputs": []
    },
    {
      "cell_type": "code",
      "metadata": {
        "id": "U6XxE_r7_SfZ"
      },
      "source": [
        "best= {}\n",
        "best['score'] = 0\n",
        "mds = [3,4,5,6]\n",
        "msls = range(2, 11)\n",
        "mlns = range(7, 12)\n",
        "for md in mds:\n",
        "    for msl in msls:\n",
        "        for mln in mlns:\n",
        "            m = DecisionTreeClassifier(criterion='entropy', max_depth=md,\n",
        "                                       min_samples_leaf=msl, max_leaf_nodes=mln)\n",
        "            m.fit(X_train, y_train)\n",
        "            score = m.score(X_test, y_test)\n",
        "            if score > best['score']:\n",
        "                print(f\"current best score is {score} at md={md}, msl={msl}, mln={mln}\")\n",
        "                best['score'], best['md'], best['msl'], best['mln'], best['model'] = score, md, msl, mln, m\n",
        "print(best)"
      ],
      "execution_count": null,
      "outputs": []
    },
    {
      "cell_type": "code",
      "source": [
        "data.data.mean(axis=0)"
      ],
      "metadata": {
        "id": "i7ObbAseKO6n"
      },
      "execution_count": null,
      "outputs": []
    },
    {
      "cell_type": "markdown",
      "metadata": {
        "id": "DNxDJyN9_SfZ"
      },
      "source": [
        "### Scaler 사용해보기\n",
        "fit_transform 메소드는 학습과 변환을 한번에 수행한다. 아래 코드는 같은 결과를 생성한다.\n",
        "```python\n",
        "X_tr_scaled = scaler.fit_transform(X_train) #fit(학습)도 하고 transform(변환)도 하는\n",
        "X_tr_scaled = scaler.fit(X_train).transform(X_train)\n",
        "```\n",
        "\n",
        "StandardScaler는 평균을 0, 표준편차를 1로 정규분포화하는 스케일러이다."
      ]
    },
    {
      "cell_type": "code",
      "metadata": {
        "id": "nOFnduAg_SfZ"
      },
      "source": [
        "from sklearn.preprocessing import StandardScaler\n",
        "\n",
        "print(X_train[:1])\n",
        "\n",
        "scaler = StandardScaler()\n",
        "X_tr_scaled = scaler.fit_transform(X_train)\n",
        "print(X_tr_scaled[:1])\n",
        "X_tst_scaled = scaler.transform(X_test)"
      ],
      "execution_count": null,
      "outputs": []
    },
    {
      "cell_type": "code",
      "metadata": {
        "id": "dWR0AFDDdEga"
      },
      "source": [
        "means, stds = X_train.mean(axis=0), X_train.std(axis=0)\n",
        "((X_train - means)/stds)[:1]"
      ],
      "execution_count": null,
      "outputs": []
    },
    {
      "cell_type": "code",
      "metadata": {
        "id": "lvxzILds_SfZ"
      },
      "source": [
        "X_tr_scaled.mean(0)"
      ],
      "execution_count": null,
      "outputs": []
    },
    {
      "cell_type": "code",
      "metadata": {
        "id": "2keuL2K4_SfZ"
      },
      "source": [
        "X_tr_scaled.std(0)"
      ],
      "execution_count": null,
      "outputs": []
    },
    {
      "cell_type": "code",
      "metadata": {
        "id": "RL2mYP1r_SfZ"
      },
      "source": [
        "m2 = DecisionTreeClassifier(criterion='entropy', max_depth=5)\n",
        "m2.fit(X_tr_scaled, y_train)\n",
        "m2.score(X_tst_scaled, y_test)"
      ],
      "execution_count": null,
      "outputs": []
    },
    {
      "cell_type": "code",
      "metadata": {
        "id": "d73jFnMD_SfZ"
      },
      "source": [
        "export_graphviz(m2, out_file='tree2.dot',\n",
        "                feature_names=data.feature_names,\n",
        "                class_names=data.target_names,\n",
        "                filled=True, rounded=True,\n",
        "                special_characters=True)\n",
        "\n",
        "with open(\"tree2.dot\") as f:\n",
        "    dot_graph = f.read()\n",
        "dot = graphviz.Source(dot_graph); dot.format='png'\n",
        "dot.render(filename='tree2')"
      ],
      "execution_count": null,
      "outputs": []
    },
    {
      "cell_type": "code",
      "metadata": {
        "id": "J0JQdk4X_Sfa"
      },
      "source": [
        "model.score(X_train, y_train)"
      ],
      "execution_count": null,
      "outputs": []
    },
    {
      "cell_type": "markdown",
      "source": [
        "스케일된 데이터로 학습한 모델로 스케일링이 않된 데이터로 평가하면 엉뚱한 결론에 도달한다."
      ],
      "metadata": {
        "id": "pkkbv0cd4sV0"
      }
    },
    {
      "cell_type": "code",
      "metadata": {
        "id": "7oz3jZjS_Sfa"
      },
      "source": [
        "m2.score(X_train, y_train)"
      ],
      "execution_count": null,
      "outputs": []
    },
    {
      "cell_type": "code",
      "source": [
        "m2.get_params()"
      ],
      "metadata": {
        "id": "h5iuNSta5kgh"
      },
      "execution_count": null,
      "outputs": []
    },
    {
      "cell_type": "markdown",
      "source": [
        "엔트로피와 정보이득에 대한 이해:\n",
        "$$\\begin{align}\n",
        "E(y) &= - \\sum_{i=0}^{C} P(y=i) \\log P(y=i) \\\\\n",
        "I_G(s) &= E(root) - \\left( \\cfrac {n_l} n E(left) + \\cfrac {n_r} n E(right)  \\right)\n",
        "\\end{align}$$\n",
        "- $y \\in \\{0, \\cdots, C\\}$\n",
        "- split point는 $I_G$을 최대화하는 방향으로 결정한다."
      ],
      "metadata": {
        "id": "f5dFu6gI7Hjy"
      }
    },
    {
      "cell_type": "code",
      "source": [
        "root = np.array([212, 356])\n",
        "# splitter 1에 의한 branch\n",
        "left1 = np.array([2, 0])\n",
        "right1 = np.array([210, 356])\n",
        "\n",
        "# splitter 2에 의한 branch - 어느 것이 좋을까?\n",
        "left2 = np.array([200, 56])\n",
        "right2 = np.array([12, 300])"
      ],
      "metadata": {
        "id": "n3oEmqxR7Gcx"
      },
      "execution_count": null,
      "outputs": []
    },
    {
      "cell_type": "code",
      "source": [
        "MIN = 10**(-8)\n",
        "def entropy(arr):\n",
        "    Ps = arr / arr.sum()\n",
        "    return - Ps.dot(np.log(Ps + MIN))\n",
        "def Igain(root, left, right):\n",
        "    n, nl, nr = root.sum(), left.sum(), right.sum()\n",
        "    return entropy(root) - (nl/n * entropy(left) + nr/n * entropy(right) )"
      ],
      "metadata": {
        "id": "th2yhvzZ8HiO"
      },
      "execution_count": null,
      "outputs": []
    },
    {
      "cell_type": "code",
      "source": [
        "Igain1 = Igain(root, left1, right1)\n",
        "Igain2 = Igain(root, left2, right2)\n",
        "Igain1, Igain2"
      ],
      "metadata": {
        "id": "oZ8KDC4C-AxY"
      },
      "execution_count": null,
      "outputs": []
    },
    {
      "cell_type": "code",
      "source": [
        "entropy(root), entropy(left1), entropy(right1), entropy(left2), entropy(right2)"
      ],
      "metadata": {
        "id": "2LH6KSFU-1fE"
      },
      "execution_count": null,
      "outputs": []
    },
    {
      "cell_type": "markdown",
      "source": [
        "[Quiz] P(y=1) = p, P(y=0) = q = 1 - p 이다:\n",
        "- p 값이 0.01 ~ 0.99 까지 변할 때\n",
        "- Entropy를 계산하여 p, Entropy를 시각화해보자."
      ],
      "metadata": {
        "id": "JkwYB-n8Ag2-"
      }
    },
    {
      "cell_type": "code",
      "source": [
        "p = np.arange(0.01, 1., 0.01)\n",
        "p"
      ],
      "metadata": {
        "id": "8TlrK00wAhUx"
      },
      "execution_count": null,
      "outputs": []
    },
    {
      "cell_type": "code",
      "source": [
        "q = 1 - p\n",
        "pq = np.hstack([p.reshape((-1,1)), q.reshape((-1,1))])\n",
        "ents = pd.DataFrame(pq).agg(entropy, axis=1)\n",
        "\n",
        "import matplotlib.pyplot as plt\n",
        "_ = plt.plot(p, ents.values)\n",
        "plt.xlabel(\"p = Prob(y=1)\")\n",
        "_ = plt.ylabel(\"Entropy(p)\")\n",
        "_ = plt.vlines(.5, 0., .7, 'k', '--')"
      ],
      "metadata": {
        "id": "SyvB41W5Erc2"
      },
      "execution_count": null,
      "outputs": []
    },
    {
      "cell_type": "markdown",
      "source": [
        "위 그래프를 보면, Prob(y=1) = p = 0.5 일때 최대값을 갖는다.\n",
        "- p = 0.5: y = 1의 수와 y = 0인 수가 같다는 것이다.\n",
        "- 즉, 최대 무질서 상태"
      ],
      "metadata": {
        "id": "dIP8trn2GLrT"
      }
    },
    {
      "cell_type": "markdown",
      "source": [
        "[Quiz] tree.png 파일에 있는 3개의 splitter에 대해\n",
        "```\n",
        "mean concave points <= 0.0513\n",
        "worst radius <= 16.8300\n",
        "worst perimeter <= 114.4500\n",
        "```\n",
        "1. root 노드에 적용해보고,\n",
        "2. 정보이득이 큰 순으로 splitter를 결정해보자.\n",
        "3. split의 순서는 어떻게 될까?"
      ],
      "metadata": {
        "id": "cLZGr8pbHuqg"
      }
    },
    {
      "cell_type": "code",
      "source": [
        "np.where(data.feature_names == \"mean concave points\")"
      ],
      "metadata": {
        "id": "8Rf5uV4oM20o"
      },
      "execution_count": null,
      "outputs": []
    },
    {
      "cell_type": "code",
      "source": [
        "mcpIdx = np.where(data.feature_names == \"mean concave points\")[0][0]\n",
        "wrIdx = np.where(data.feature_names == \"worst radius\")[0][0]\n",
        "wpIdx = np.where(data.feature_names == \"worst perimeter\")[0][0]"
      ],
      "metadata": {
        "id": "U51VKvLVJb6W"
      },
      "execution_count": null,
      "outputs": []
    },
    {
      "cell_type": "code",
      "source": [
        "np.unique(y_train, return_counts=True)"
      ],
      "metadata": {
        "id": "eZZnfRM0nbed"
      },
      "execution_count": null,
      "outputs": []
    },
    {
      "cell_type": "code",
      "source": [
        "root = np.unique(y_train, return_counts=True)[1]\n",
        "mcpLeft = np.unique(y_train[X_train[:,mcpIdx] <= 0.0513], return_counts=True)[1]\n",
        "mcpRight = np.unique(y_train[X_train[:,mcpIdx] > 0.0513], return_counts=True)[1]\n",
        "wrLeft = np.unique(y_train[X_train[:,wrIdx] <= 16.8300], return_counts=True)[1]\n",
        "wrRight = np.unique(y_train[X_train[:,wrIdx] > 16.8300], return_counts=True)[1]\n",
        "wpLeft = np.unique(y_train[X_train[:,wpIdx] <= 114.4500], return_counts=True)[1]\n",
        "wpRight = np.unique(y_train[X_train[:,wpIdx] > 114.4500], return_counts=True)[1]\n",
        "root, mcpLeft, mcpRight, wrLeft, wrRight, wpLeft, wpRight,"
      ],
      "metadata": {
        "id": "dLnBcquIKVBw"
      },
      "execution_count": null,
      "outputs": []
    },
    {
      "cell_type": "code",
      "source": [
        "Igain_mcp = Igain(root, mcpLeft, mcpRight)\n",
        "Igain_wr = Igain(root, wrLeft, wrRight)\n",
        "Igain_wp = Igain(root, wpLeft, wpRight)\n",
        "Igain_mcp, Igain_wr, Igain_wp"
      ],
      "metadata": {
        "id": "NAcklDVnHv6_"
      },
      "execution_count": null,
      "outputs": []
    },
    {
      "cell_type": "code",
      "source": [
        "data.feature_names[model.feature_importances_.argsort()[::-1]]"
      ],
      "metadata": {
        "id": "NdKUKZxfNqMm"
      },
      "execution_count": null,
      "outputs": []
    },
    {
      "cell_type": "markdown",
      "source": [
        "worst radius로 왼쪽을 쪼겠을 때의 정보이득량을 계산해보자."
      ],
      "metadata": {
        "id": "w2llw4k6aSD_"
      }
    },
    {
      "cell_type": "code",
      "source": [
        "lbv, rbv = X_train[:,mcpIdx] <= 0.0513, X_train[:,mcpIdx] > 0.0513\n",
        "llbv = (X_train[:,wrIdx] <= 16.8300) & (X_train[:,mcpIdx] <= 0.0513)\n",
        "lrbv = (X_train[:,wrIdx] > 16.8300) & (X_train[:,mcpIdx] <= 0.0513)\n",
        "rlbv = (X_train[:,wpIdx] <= 114.4500) & (X_train[:,mcpIdx] > 0.0513)\n",
        "rrbv = (X_train[:,wpIdx] > 114.4500) & (X_train[:,mcpIdx] > 0.0513)\n",
        "\n",
        "ytr = pd.Series(y_train)\n",
        "tmp = pd.Series([0, 0])\n",
        "tmp.add(ytr[rrbv].value_counts(), fill_value=0)\n",
        "\n",
        "mcpLeft = tmp.add(ytr[lbv].value_counts(), fill_value=0).values\n",
        "mcpRight = tmp.add(ytr[rbv].value_counts(), fill_value=0).values\n",
        "wrll = tmp.add(ytr[llbv].value_counts(), fill_value=0).values\n",
        "wrlr = tmp.add(ytr[lrbv].value_counts(), fill_value=0).values\n",
        "wprl = tmp.add(ytr[rlbv].value_counts(), fill_value=0).values\n",
        "wprr = tmp.add(ytr[rrbv].value_counts(), fill_value=0).values\n",
        "\n",
        "mcpLeft, mcpRight, wrll, wrlr, wprl, wprr"
      ],
      "metadata": {
        "id": "N-HjY-RkaSv1"
      },
      "execution_count": null,
      "outputs": []
    },
    {
      "cell_type": "code",
      "source": [
        "n, nl, nr = root.sum(), mcpLeft.sum(), mcpRight.sum()\n",
        "Igain_wr = nl / n * Igain(mcpLeft, wrll, wrlr)\n",
        "Igain_wp = nr / n * Igain(mcpRight, wprl, wprr)\n",
        "\n",
        "Igain_wr, Igain_wp"
      ],
      "metadata": {
        "id": "iPKr0iUvsDy7"
      },
      "execution_count": null,
      "outputs": []
    },
    {
      "cell_type": "markdown",
      "source": [
        "따라서, wrong perimeters를 이용하여 우측 branch를 먼저 쪼갰다."
      ],
      "metadata": {
        "id": "5zPfdPUkv3CE"
      }
    },
    {
      "cell_type": "markdown",
      "source": [
        "[Quiz] GridSearchCV를 이용하여, 위 max_depth, max_leaf_nodes, min_samples_leaf 구간에 대해 튜닝하여 best model을 선정하자."
      ],
      "metadata": {
        "id": "mlUc646V42XA"
      }
    },
    {
      "cell_type": "code",
      "source": [
        "len(mds), len(mlns), len(msls)"
      ],
      "metadata": {
        "id": "MnPJxadw1gCY"
      },
      "execution_count": null,
      "outputs": []
    },
    {
      "cell_type": "code",
      "source": [
        "trcnt = np.unique(y_train, return_counts=True)[1]\n",
        "trcnt / trcnt.sum()"
      ],
      "metadata": {
        "id": "pXNro76y4Jdq"
      },
      "execution_count": null,
      "outputs": []
    },
    {
      "cell_type": "code",
      "source": [
        "tecnt = np.unique(y_test, return_counts=True)[1]\n",
        "tecnt / tecnt.sum()"
      ],
      "metadata": {
        "id": "VEFZ4DlitXZA"
      },
      "execution_count": null,
      "outputs": []
    },
    {
      "cell_type": "code",
      "metadata": {
        "id": "btjp136e_Sfa"
      },
      "source": [
        "from sklearn.model_selection import GridSearchCV\n",
        "from sklearn.model_selection import StratifiedKFold\n",
        "params = {'max_depth':mds, 'max_leaf_nodes':mlns, 'min_samples_leaf':msls}\n",
        "fold = StratifiedKFold()\n",
        "grid = GridSearchCV(DecisionTreeClassifier(), params, n_jobs=-1, cv=fold, )\n",
        "grid.fit(X_train, y_train)\n",
        "print(grid.best_estimator_)\n",
        "print(grid.best_params_)\n",
        "print(grid.best_score_)"
      ],
      "execution_count": null,
      "outputs": []
    },
    {
      "cell_type": "markdown",
      "source": [
        "GridSearchCV가 수행하는 내용:"
      ],
      "metadata": {
        "id": "IPFAlWaH77XD"
      }
    },
    {
      "cell_type": "code",
      "source": [
        "alls = []\n",
        "i = 0\n",
        "for tridx, teidx in fold.split(X_train, y_train):\n",
        "    scores = {}\n",
        "    for v1 in params['max_depth']:\n",
        "        for v2 in params['max_leaf_nodes']:\n",
        "            for v3 in params['min_samples_leaf']:\n",
        "                Xtr, ytr, Xte, yte = X_train[tridx], y_train[tridx], X_train[teidx], y_train[teidx]\n",
        "                param = {'max_depth':v1, 'max_leaf_nodes':v2, 'min_samples_leaf':v3}\n",
        "                m = DecisionTreeClassifier(criterion='entropy', **param)\n",
        "                m.fit(Xtr, ytr)\n",
        "                scores[tuple((k, v) for k, v in param.items())] = m.score(Xte, yte)\n",
        "\n",
        "    alls.append(scores)"
      ],
      "metadata": {
        "id": "yDel_28Zxo3v"
      },
      "execution_count": null,
      "outputs": []
    },
    {
      "cell_type": "code",
      "source": [
        "import pandas as pd\n",
        "alls = pd.DataFrame(alls)\n",
        "alls.head()"
      ],
      "metadata": {
        "id": "dun77AsIykZ2"
      },
      "execution_count": null,
      "outputs": []
    },
    {
      "cell_type": "code",
      "source": [
        "best_params = dict(alls.columns[alls.mean().argmax()])\n",
        "best_model = DecisionTreeClassifier(criterion='entropy', **best_params)\n",
        "best_model.fit(X_train, y_train)"
      ],
      "metadata": {
        "id": "rIpSRc613wmg"
      },
      "execution_count": null,
      "outputs": []
    },
    {
      "cell_type": "code",
      "source": [
        "best_model.score(X_test, y_test)"
      ],
      "metadata": {
        "id": "MCRwAq-q86Vg"
      },
      "execution_count": null,
      "outputs": []
    },
    {
      "cell_type": "markdown",
      "source": [
        "grid가 best_estimator와 같이 동작한다."
      ],
      "metadata": {
        "id": "Nf71iTgo8Dis"
      }
    },
    {
      "cell_type": "code",
      "source": [
        "grid.score(X_test, y_test)"
      ],
      "metadata": {
        "id": "n8OUZBtp0fRz"
      },
      "execution_count": null,
      "outputs": []
    },
    {
      "cell_type": "code",
      "source": [
        "grid.best_estimator_.score(X_test, y_test)"
      ],
      "metadata": {
        "id": "HKCZ6WXY8J2c"
      },
      "execution_count": null,
      "outputs": []
    },
    {
      "cell_type": "markdown",
      "source": [
        "[Quiz] iris 데이터를 이용하여 DecisionTree로 분류 모델을 생성하고, 튜닝해보자."
      ],
      "metadata": {
        "id": "mKkLtUT_52bg"
      }
    },
    {
      "cell_type": "code",
      "source": [
        "iris = sklearn.datasets.load_iris()"
      ],
      "metadata": {
        "id": "wWl-BLi6NYyL"
      },
      "execution_count": null,
      "outputs": []
    },
    {
      "cell_type": "code",
      "source": [
        "iris.keys()"
      ],
      "metadata": {
        "id": "KKmRMh9J54QL"
      },
      "execution_count": null,
      "outputs": []
    },
    {
      "cell_type": "code",
      "source": [
        "np.unique(iris.target, return_counts=True)"
      ],
      "metadata": {
        "id": "afiY-jpA57yj"
      },
      "execution_count": null,
      "outputs": []
    },
    {
      "cell_type": "code",
      "source": [],
      "metadata": {
        "id": "uAMTt5wV8cyx"
      },
      "execution_count": null,
      "outputs": []
    },
    {
      "cell_type": "code",
      "source": [],
      "metadata": {
        "id": "eAq1EEbg8ct_"
      },
      "execution_count": null,
      "outputs": []
    },
    {
      "cell_type": "code",
      "source": [],
      "metadata": {
        "id": "ZjIhOe8L8crE"
      },
      "execution_count": null,
      "outputs": []
    },
    {
      "cell_type": "code",
      "source": [],
      "metadata": {
        "id": "46ZmNGIs8cno"
      },
      "execution_count": null,
      "outputs": []
    },
    {
      "cell_type": "code",
      "source": [
        "iris.feature_names"
      ],
      "metadata": {
        "id": "9bY0i5jj59Zz"
      },
      "execution_count": null,
      "outputs": []
    },
    {
      "cell_type": "code",
      "source": [
        "iris.target_names"
      ],
      "metadata": {
        "id": "mcAzt4xX6R-a"
      },
      "execution_count": null,
      "outputs": []
    },
    {
      "cell_type": "code",
      "source": [
        "print(iris.DESCR)"
      ],
      "metadata": {
        "id": "lAbHhq4c6YqC"
      },
      "execution_count": null,
      "outputs": []
    },
    {
      "cell_type": "code",
      "source": [
        "X, y = iris.data, iris.target"
      ],
      "metadata": {
        "id": "h8e2Yk5Y6g-i"
      },
      "execution_count": null,
      "outputs": []
    },
    {
      "cell_type": "code",
      "source": [
        "X.mean(axis=0)"
      ],
      "metadata": {
        "id": "HzOh7rx4DKQg"
      },
      "execution_count": null,
      "outputs": []
    },
    {
      "cell_type": "markdown",
      "source": [
        "모델 생성 절차:\n",
        "1. 데이터 전처리\n",
        "2. 데이터를 학습용과 테스트용으로 분리\n",
        "3. 학습데이터로 학습\n",
        "4. 테스트 데이터로 평가\n",
        "5. 모델 튜닝"
      ],
      "metadata": {
        "id": "VJweM0b4Dq3G"
      }
    },
    {
      "cell_type": "code",
      "source": [
        "X_train, X_test, y_train, y_test = train_test_split(X, y, random_state=42)"
      ],
      "metadata": {
        "id": "XxHoBkTWDOfv"
      },
      "execution_count": null,
      "outputs": []
    },
    {
      "cell_type": "code",
      "source": [
        "# base model : 이후 나오는모델은 이것보다 성능이 좋아야되.\n",
        "clf = DecisionTreeClassifier()\n",
        "clf.fit(X_train, y_train)"
      ],
      "metadata": {
        "id": "j1uXpVztDfcu"
      },
      "execution_count": null,
      "outputs": []
    },
    {
      "cell_type": "code",
      "source": [
        "bs = clf.score(X_test, y_test)\n",
        "bs"
      ],
      "metadata": {
        "id": "YklJWI36EFMH"
      },
      "execution_count": null,
      "outputs": []
    },
    {
      "cell_type": "code",
      "source": [],
      "metadata": {
        "id": "n1B9SmfCELKu"
      },
      "execution_count": null,
      "outputs": []
    },
    {
      "cell_type": "markdown",
      "source": [
        "머신러닝:\n",
        "1. 지도학습(X, y)\n",
        " - 회귀: 값을 예측 문제\n",
        " - 분류: 범주를 예측 문제\n",
        "2. 비지도학습(X)\n",
        "\n",
        "sklearn:\n",
        "1. Estimator: fit으로 학습\n",
        "2. Transformer: transform으로 변환\n",
        "3. Predictor: predict로 예측을 수행\n",
        "\n",
        "- DecisionTreeClassifier: Estimator(fit전) , Predictor(fit후)\n",
        "- StandardScaler: Estimator(fit전) , Transformer(fit후)"
      ],
      "metadata": {
        "id": "0QCGN6bIE5aF"
      }
    },
    {
      "cell_type": "markdown",
      "source": [
        "틀렸을 때의 비용이 서로 다르다.\n",
        "\n",
        "class_weight에 대해\n",
        "\n",
        "악성0, 양성1 일 때,\n",
        "양성이었는데 음성으로 진단한 건 그냥 틀린건데\n",
        "음성이었는데 양성으로 오진한거면 큰일난다. 틀린건 같지만 틀린 비용이 크다.\n",
        "살 수 있는 기회를 놓치는 것이기 때문.   \n",
        "\n"
      ],
      "metadata": {
        "id": "grg8yPmcF1Nz"
      }
    }
  ]
}