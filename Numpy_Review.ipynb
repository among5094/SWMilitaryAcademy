{
 "cells": [
  {
   "cell_type": "markdown",
   "id": "7e586ea6",
   "metadata": {},
   "source": [
    "# SW사관학교_1일차  \n",
    "\n",
    "### array의 특징  \n",
    "  \n",
    "1. 메모리 공간에 성분들을 연속으로 배열하고 있다. \n",
    "\n",
    " - 행렬인 경우 행우선으로 연속하여 배열된다.\n",
    "2. 각 성분들은 모두 동일한 데이터 타입이여야 한다.(몇 칸 이동하는지 알아야 한다.)\n",
    "3. 색인을 통해 다양한 방법으로 그 성분들에 접근할 수 있다.   \n",
    "4. 통째로 읽어서 한 버네 연산을 수행한다. \n",
    "5. 연산간에 사이즈가 작은 것은 broadcasting 규칙에 의해 사이즈를 맞춰준다."
   ]
  },
  {
   "cell_type": "code",
   "execution_count": null,
   "id": "b84cef0e",
   "metadata": {},
   "outputs": [],
   "source": []
  },
  {
   "cell_type": "code",
   "execution_count": 2,
   "id": "f4905bf4",
   "metadata": {},
   "outputs": [],
   "source": [
    "import numpy as np"
   ]
  },
  {
   "cell_type": "code",
   "execution_count": 51,
   "id": "58156791",
   "metadata": {},
   "outputs": [],
   "source": [
    "a = np.array([3,6,2])\n",
    "a\n",
    "l=[3,6,2]"
   ]
  },
  {
   "cell_type": "markdown",
   "id": "207d34a5",
   "metadata": {},
   "source": [
    "array의 색인:  \n",
    "\n",
    "- 점색인(point indexing) : array의 하나의 성분을 가져오는 것  \n",
    "ex) a[ [1] ] \n",
    "- 불연속색인(fancy indexin) : 점색인을 여러번하는 것  \n",
    "ex) a[ [2,0] ] \n",
    "- 연속색인(slicing) : 특정방향으로 특정 간격에서 연속해서 가져오는 것  \n",
    "(전처리하는 것만 잘해도 됨. 그것도 제대로 못하는 사람이 있기 때문에... \n",
    "코드 가지고 와서 모델 만드는 건 할 수 있는데 필요한 데이터를 추출하는 건 못함)"
   ]
  },
  {
   "cell_type": "code",
   "execution_count": 4,
   "id": "6defe500",
   "metadata": {},
   "outputs": [],
   "source": [
    "a = np.array([3,6,2]) #만들긴 했는데 아직 결과는 없음"
   ]
  },
  {
   "cell_type": "code",
   "execution_count": 5,
   "id": "8d4702dd",
   "metadata": {},
   "outputs": [
    {
     "data": {
      "text/plain": [
       "6"
      ]
     },
     "execution_count": 5,
     "metadata": {},
     "output_type": "execute_result"
    }
   ],
   "source": [
    "a[1]#array는 순서에 의한 접근이 가능하다, 색인 연산자, 똑같은 표기더라도 "
   ]
  },
  {
   "cell_type": "code",
   "execution_count": 7,
   "id": "b6cd7199",
   "metadata": {},
   "outputs": [
    {
     "data": {
      "text/plain": [
       "numpy.int32"
      ]
     },
     "execution_count": 7,
     "metadata": {},
     "output_type": "execute_result"
    }
   ],
   "source": [
    "type(a[1])"
   ]
  },
  {
   "cell_type": "code",
   "execution_count": 8,
   "id": "3c2fa921",
   "metadata": {},
   "outputs": [
    {
     "data": {
      "text/plain": [
       "numpy.ndarray"
      ]
     },
     "execution_count": 8,
     "metadata": {},
     "output_type": "execute_result"
    }
   ],
   "source": [
    "type(a)"
   ]
  },
  {
   "cell_type": "code",
   "execution_count": null,
   "id": "5662ceb3",
   "metadata": {},
   "outputs": [],
   "source": [
    "a[[1]] #하나밖에 없지만 여러개 가지고 온 효과"
   ]
  },
  {
   "cell_type": "code",
   "execution_count": 10,
   "id": "bd81c88c",
   "metadata": {},
   "outputs": [
    {
     "data": {
      "text/plain": [
       "numpy.ndarray"
      ]
     },
     "execution_count": 10,
     "metadata": {},
     "output_type": "execute_result"
    }
   ],
   "source": [
    "type(a[[1]])"
   ]
  },
  {
   "cell_type": "markdown",
   "id": "f20da23c",
   "metadata": {},
   "source": [
    "2와 3의 순서대로 가져오고 싶다. "
   ]
  },
  {
   "cell_type": "code",
   "execution_count": 11,
   "id": "70926789",
   "metadata": {},
   "outputs": [
    {
     "data": {
      "text/plain": [
       "array([2, 3])"
      ]
     },
     "execution_count": 11,
     "metadata": {},
     "output_type": "execute_result"
    }
   ],
   "source": [
    "a[[2,0]]"
   ]
  },
  {
   "cell_type": "markdown",
   "id": "1e88629b",
   "metadata": {},
   "source": [
    "### 연속색인\n",
    "array.[start:ed:(-)step]  \n",
    "-start는 안 쓰면 기본값 0\n",
    "-end도 안 쓰면 기본값이 len(array)  \n",
    "    그러나 end는 indexing되지 않는다.   \n",
    "-부호 -와 step은 안 써도 상관없다.(옵션)  \n",
    "-step 얼마나 건너 뛸거냐를 나타냄. 기본값은 1  "
   ]
  },
  {
   "cell_type": "code",
   "execution_count": 12,
   "id": "3277927e",
   "metadata": {},
   "outputs": [
    {
     "data": {
      "text/plain": [
       "array([2, 3])"
      ]
     },
     "execution_count": 12,
     "metadata": {},
     "output_type": "execute_result"
    }
   ],
   "source": [
    "a[-1::-2] #연속색인 또는 슬라이싱"
   ]
  },
  {
   "cell_type": "code",
   "execution_count": 14,
   "id": "150724bd",
   "metadata": {},
   "outputs": [
    {
     "data": {
      "text/plain": [
       "array([3, 6, 2])"
      ]
     },
     "execution_count": 14,
     "metadata": {},
     "output_type": "execute_result"
    }
   ],
   "source": [
    "a[0:] #전부 가지고 오라는 의미, 0은 디폴트값을 의미"
   ]
  },
  {
   "cell_type": "code",
   "execution_count": 15,
   "id": "abad0966",
   "metadata": {},
   "outputs": [
    {
     "data": {
      "text/plain": [
       "array([3, 6, 2])"
      ]
     },
     "execution_count": 15,
     "metadata": {},
     "output_type": "execute_result"
    }
   ],
   "source": [
    "a[0:len(a)] #a[0:3] 이라는 의미"
   ]
  },
  {
   "cell_type": "code",
   "execution_count": 16,
   "id": "6d7ecdd9",
   "metadata": {},
   "outputs": [
    {
     "data": {
      "text/plain": [
       "array([3, 6])"
      ]
     },
     "execution_count": 16,
     "metadata": {},
     "output_type": "execute_result"
    }
   ],
   "source": [
    "a[:2]#0번째, 1번째만 포함됨"
   ]
  },
  {
   "cell_type": "code",
   "execution_count": 17,
   "id": "063cb4e8",
   "metadata": {},
   "outputs": [
    {
     "data": {
      "text/plain": [
       "array([3, 6])"
      ]
     },
     "execution_count": 17,
     "metadata": {},
     "output_type": "execute_result"
    }
   ],
   "source": [
    "a[-3:2] #-의 의미는? \"끝에서\"첫 번째, \"끝에서\" 두 번째 의미"
   ]
  },
  {
   "cell_type": "code",
   "execution_count": 19,
   "id": "2f28db15",
   "metadata": {},
   "outputs": [
    {
     "data": {
      "text/plain": [
       "array([3, 6, 2])"
      ]
     },
     "execution_count": 19,
     "metadata": {},
     "output_type": "execute_result"
    }
   ],
   "source": [
    "a[:-1] #끝에서... end는 색인포함x\n"
   ]
  },
  {
   "cell_type": "code",
   "execution_count": 21,
   "id": "71678857",
   "metadata": {},
   "outputs": [
    {
     "data": {
      "text/plain": [
       "array([2, 3])"
      ]
     },
     "execution_count": 21,
     "metadata": {},
     "output_type": "execute_result"
    }
   ],
   "source": [
    "a[::2] #처음부터 끝까지 2칸 건너띄어서 3,6,2인데 3에서 2만 출력  \n",
    "a[::-2]#방향을 반대로 돌려서 뒤에서 두칸 띄어 3,6,2중에 2,3"
   ]
  },
  {
   "cell_type": "code",
   "execution_count": null,
   "id": "59b85ed1",
   "metadata": {},
   "outputs": [],
   "source": [
    "a[-1::-2] #끝에서부터 끝까지 방향을 두 칸씩 \n",
    "#연속"
   ]
  },
  {
   "cell_type": "markdown",
   "id": "4a04b6db",
   "metadata": {},
   "source": [
    "2와 3을 순서대로 가져오고 싶다."
   ]
  },
  {
   "cell_type": "code",
   "execution_count": 22,
   "id": "9c3068f6",
   "metadata": {},
   "outputs": [
    {
     "data": {
      "text/plain": [
       "array([3, 6, 2])"
      ]
     },
     "execution_count": 22,
     "metadata": {},
     "output_type": "execute_result"
    }
   ],
   "source": [
    "a[[0,1,2]]"
   ]
  },
  {
   "cell_type": "markdown",
   "id": "cded8884",
   "metadata": {},
   "source": [
    "- 먼저 3과 2만 가져오고 싶다."
   ]
  },
  {
   "cell_type": "code",
   "execution_count": 28,
   "id": "02b5beb8",
   "metadata": {
    "scrolled": true
   },
   "outputs": [
    {
     "data": {
      "text/plain": [
       "array([3, 2])"
      ]
     },
     "execution_count": 28,
     "metadata": {},
     "output_type": "execute_result"
    }
   ],
   "source": [
    "a[[True,False,True]] #0번째,2번째는 가지고 오고, 1번째는 가지고 오지 않는다.  "
   ]
  },
  {
   "cell_type": "markdown",
   "id": "afe57778",
   "metadata": {},
   "source": [
    "색인할 지를 결정하는 논리벡터 array와 동일한 길이여야한다. "
   ]
  },
  {
   "cell_type": "code",
   "execution_count": 27,
   "id": "144d0cd8",
   "metadata": {},
   "outputs": [
    {
     "name": "stdout",
     "output_type": "stream",
     "text": [
      "boolean index did not match indexed array along dimension 0; dimension is 3 but corresponding boolean dimension is 2\n"
     ]
    }
   ],
   "source": [
    "#[[True, False]] #이것은 문제가 생긴다. 2번째 인덱스를 정해주지 않았기 때문에 \"순서문제\"\n",
    "#bv = []\n",
    "#len(bv) == len(a)\n",
    "\n",
    "try:\n",
    "    a[[True,False]]\n",
    "except Exception as e:\n",
    "    print(e)"
   ]
  },
  {
   "cell_type": "code",
   "execution_count": 25,
   "id": "cb09492d",
   "metadata": {},
   "outputs": [
    {
     "data": {
      "text/plain": [
       "array([2, 3])"
      ]
     },
     "execution_count": 25,
     "metadata": {},
     "output_type": "execute_result"
    }
   ],
   "source": [
    "a[[True,False,True]][::-1] #순서를 반대로 돌려"
   ]
  },
  {
   "cell_type": "markdown",
   "id": "04dff847",
   "metadata": {},
   "source": [
    "## 연산"
   ]
  },
  {
   "cell_type": "markdown",
   "id": "1bd1258d",
   "metadata": {},
   "source": [
    "#### 배열과 스칼라간의 연산\n",
    "스칼라 값은 배열의 사이즈만큼 broadcasing 되어 연산이 이루어진다."
   ]
  },
  {
   "cell_type": "code",
   "execution_count": 32,
   "id": "a90a514f",
   "metadata": {},
   "outputs": [
    {
     "data": {
      "text/plain": [
       "array([4, 7, 3])"
      ]
     },
     "execution_count": 32,
     "metadata": {},
     "output_type": "execute_result"
    }
   ],
   "source": [
    "#a + [1,1,1] #메모리를 더 많이 쓰는 것\n",
    "a + 1 "
   ]
  },
  {
   "cell_type": "code",
   "execution_count": 33,
   "id": "8b35c1e3",
   "metadata": {},
   "outputs": [
    {
     "name": "stdout",
     "output_type": "stream",
     "text": [
      "name 'l' is not defined\n"
     ]
    }
   ],
   "source": [
    "\n",
    "try:\n",
    "    l+1 #리스트와 스칼라는 연산이 정의되어 있지 않다. \n",
    "except Exception as e:\n",
    "    print(e)"
   ]
  },
  {
   "cell_type": "code",
   "execution_count": 37,
   "id": "6a819662",
   "metadata": {},
   "outputs": [
    {
     "ename": "NameError",
     "evalue": "name 'l' is not defined",
     "output_type": "error",
     "traceback": [
      "\u001b[1;31m---------------------------------------------------------------------------\u001b[0m",
      "\u001b[1;31mNameError\u001b[0m                                 Traceback (most recent call last)",
      "Cell \u001b[1;32mIn[37], line 2\u001b[0m\n\u001b[0;32m      1\u001b[0m o \u001b[38;5;241m=\u001b[39m []\n\u001b[1;32m----> 2\u001b[0m \u001b[38;5;28;01mfor\u001b[39;00m i \u001b[38;5;129;01min\u001b[39;00m \u001b[43ml\u001b[49m:\n\u001b[0;32m      3\u001b[0m     o\u001b[38;5;241m.\u001b[39mappend(i\u001b[38;5;241m+\u001b[39m\u001b[38;5;241m1\u001b[39m)\n\u001b[0;32m      5\u001b[0m o\n",
      "\u001b[1;31mNameError\u001b[0m: name 'l' is not defined"
     ]
    }
   ],
   "source": [
    "o = []\n",
    "for i in l:\n",
    "    o.append(i+1)\n",
    "\n",
    "o"
   ]
  },
  {
   "cell_type": "markdown",
   "id": "d8853e60",
   "metadata": {},
   "source": [
    "### 배열과 배열의 연산\n",
    "\n",
    "1. 모양(shape)이 같으면 연산이 이루어진다. \n",
    "2. 모양이 다르면 broadcasting 규칙에 의해 연산이 이루어진다. \n",
    "3. broadcasting 규칙에 위배되면 연산이 발생하지 않는다.\n",
    "(모양의 마지막을 본다.)"
   ]
  },
  {
   "cell_type": "code",
   "execution_count": 40,
   "id": "d495154c",
   "metadata": {},
   "outputs": [
    {
     "data": {
      "text/plain": [
       "array([7, 8, 9])"
      ]
     },
     "execution_count": 40,
     "metadata": {},
     "output_type": "execute_result"
    }
   ],
   "source": [
    "r = np.array([7,8,9])\n",
    "r"
   ]
  },
  {
   "cell_type": "code",
   "execution_count": 41,
   "id": "555678a3",
   "metadata": {},
   "outputs": [
    {
     "data": {
      "text/plain": [
       "array([3, 6, 2])"
      ]
     },
     "execution_count": 41,
     "metadata": {},
     "output_type": "execute_result"
    }
   ],
   "source": [
    "a"
   ]
  },
  {
   "cell_type": "code",
   "execution_count": 55,
   "id": "ca21a0fc",
   "metadata": {},
   "outputs": [
    {
     "data": {
      "text/plain": [
       "array([10, 14, 11])"
      ]
     },
     "execution_count": 55,
     "metadata": {},
     "output_type": "execute_result"
    }
   ],
   "source": [
    "a+r #성분별 덧셈이 이루어진다. \n",
    "#통째로 ram에 올려서 cpu에서 한 번에 덧셈함"
   ]
  },
  {
   "cell_type": "code",
   "execution_count": 52,
   "id": "5fc2531d",
   "metadata": {},
   "outputs": [
    {
     "data": {
      "text/plain": [
       "[3, 6, 2]"
      ]
     },
     "execution_count": 52,
     "metadata": {},
     "output_type": "execute_result"
    }
   ],
   "source": [
    "\n",
    "l"
   ]
  },
  {
   "cell_type": "code",
   "execution_count": 48,
   "id": "73e86a2b",
   "metadata": {},
   "outputs": [
    {
     "data": {
      "text/plain": [
       "[7, 8, 9]"
      ]
     },
     "execution_count": 48,
     "metadata": {},
     "output_type": "execute_result"
    }
   ],
   "source": [
    "s = [7,8,9]\n",
    "s"
   ]
  },
  {
   "cell_type": "code",
   "execution_count": 50,
   "id": "d4cd3b84",
   "metadata": {},
   "outputs": [
    {
     "data": {
      "text/plain": [
       "[3, 6, 2, 7, 8, 9]"
      ]
     },
     "execution_count": 50,
     "metadata": {},
     "output_type": "execute_result"
    }
   ],
   "source": [
    "l+s #우리가 원했던 바가 아님. "
   ]
  },
  {
   "cell_type": "code",
   "execution_count": 54,
   "id": "23054db5",
   "metadata": {},
   "outputs": [
    {
     "data": {
      "text/plain": [
       "[10, 14, 11]"
      ]
     },
     "execution_count": 54,
     "metadata": {},
     "output_type": "execute_result"
    }
   ],
   "source": [
    "[i+j for i,j in zip(l,s)] #i,j에 각각 뽑고나서 더하기(i+j)"
   ]
  },
  {
   "cell_type": "code",
   "execution_count": 59,
   "id": "3e0d9e78",
   "metadata": {},
   "outputs": [
    {
     "data": {
      "text/plain": [
       "[4, 5, 2, 3]"
      ]
     },
     "execution_count": 59,
     "metadata": {},
     "output_type": "execute_result"
    }
   ],
   "source": [
    "y=[4,5,2,3]\n",
    "y"
   ]
  },
  {
   "cell_type": "code",
   "execution_count": 57,
   "id": "853c3a23",
   "metadata": {},
   "outputs": [
    {
     "data": {
      "text/plain": [
       "array([3, 6, 2])"
      ]
     },
     "execution_count": 57,
     "metadata": {},
     "output_type": "execute_result"
    }
   ],
   "source": [
    "a"
   ]
  },
  {
   "cell_type": "code",
   "execution_count": 60,
   "id": "0a6a0a28",
   "metadata": {},
   "outputs": [
    {
     "name": "stdout",
     "output_type": "stream",
     "text": [
      "operands could not be broadcast together with shapes (3,) (4,) \n"
     ]
    }
   ],
   "source": [
    "try:\n",
    "    a+y #인덱스의 개수가 맞지 않음\n",
    "except Exception as e:\n",
    "    print(e)"
   ]
  },
  {
   "cell_type": "code",
   "execution_count": 61,
   "id": "e7d7ed6c",
   "metadata": {},
   "outputs": [
    {
     "data": {
      "text/plain": [
       "[2, 5, 2, 7, 8, 9]"
      ]
     },
     "execution_count": 61,
     "metadata": {},
     "output_type": "execute_result"
    }
   ],
   "source": [
    "y=[2,5,2,7,8,9]\n",
    "y"
   ]
  },
  {
   "cell_type": "code",
   "execution_count": 72,
   "id": "76432f57",
   "metadata": {},
   "outputs": [
    {
     "data": {
      "text/plain": [
       "((3,), (2, 3))"
      ]
     },
     "execution_count": 72,
     "metadata": {},
     "output_type": "execute_result"
    }
   ],
   "source": [
    "a.shape, y.reshape((2,3)).shape"
   ]
  },
  {
   "cell_type": "code",
   "execution_count": 62,
   "id": "2d7623d0",
   "metadata": {},
   "outputs": [
    {
     "data": {
      "text/plain": [
       "array([3, 6, 2])"
      ]
     },
     "execution_count": 62,
     "metadata": {},
     "output_type": "execute_result"
    }
   ],
   "source": [
    "a"
   ]
  },
  {
   "cell_type": "code",
   "execution_count": null,
   "id": "d24a7053",
   "metadata": {},
   "outputs": [],
   "source": []
  },
  {
   "cell_type": "code",
   "execution_count": 64,
   "id": "8bd519b5",
   "metadata": {},
   "outputs": [
    {
     "name": "stdout",
     "output_type": "stream",
     "text": [
      "operands could not be broadcast together with shapes (3,) (6,) \n"
     ]
    }
   ],
   "source": [
    "try:\n",
    "    a+y #인덱스의 개수가 맞지 않음\n",
    "except Exception as e:\n",
    "    print(e)\n",
    "    \n",
    "#R은 브로드캐스팅 지원하는데 파이썬은 아님"
   ]
  },
  {
   "cell_type": "code",
   "execution_count": 70,
   "id": "26e3450a",
   "metadata": {},
   "outputs": [
    {
     "data": {
      "text/plain": [
       "array([ 5, 11,  4, 10, 14, 11])"
      ]
     },
     "execution_count": 70,
     "metadata": {},
     "output_type": "execute_result"
    }
   ],
   "source": [
    "y=np.array([2,5,2,7,8,9])\n",
    "y.shape\n",
    "y.reshape((2,3)) #모양 변경, 2개의 행과 3개의 열을 가진 Matrix로 바꿔줌\n",
    "\n",
    "y.reshape((2,3))+a #이렇게 변경된 행렬에 + a 해주기. (a는 3,6,2)\n",
    "\n",
    "(y.reshape((2,3))+a).reshape(-1)\n"
   ]
  },
  {
   "cell_type": "code",
   "execution_count": 75,
   "id": "42738de2",
   "metadata": {},
   "outputs": [
    {
     "data": {
      "text/plain": [
       "array([3, 6, 2])"
      ]
     },
     "execution_count": 75,
     "metadata": {},
     "output_type": "execute_result"
    }
   ],
   "source": [
    "a"
   ]
  },
  {
   "cell_type": "code",
   "execution_count": 76,
   "id": "bf57003b",
   "metadata": {},
   "outputs": [
    {
     "data": {
      "text/plain": [
       "array([2, 5, 2, 7, 8, 9])"
      ]
     },
     "execution_count": 76,
     "metadata": {},
     "output_type": "execute_result"
    }
   ],
   "source": [
    "y"
   ]
  },
  {
   "cell_type": "code",
   "execution_count": 209,
   "id": "f4f0099f",
   "metadata": {},
   "outputs": [
    {
     "data": {
      "text/plain": [
       "array([-1,  1])"
      ]
     },
     "execution_count": 209,
     "metadata": {},
     "output_type": "execute_result"
    }
   ],
   "source": [
    "z = np.array([-1,1]) #ㅇ\n",
    "z"
   ]
  },
  {
   "cell_type": "code",
   "execution_count": 210,
   "id": "5bd93ac6",
   "metadata": {},
   "outputs": [
    {
     "ename": "ValueError",
     "evalue": "cannot reshape array of size 6 into shape (2,1)",
     "output_type": "error",
     "traceback": [
      "\u001b[1;31m---------------------------------------------------------------------------\u001b[0m",
      "\u001b[1;31mValueError\u001b[0m                                Traceback (most recent call last)",
      "Cell \u001b[1;32mIn[210], line 1\u001b[0m\n\u001b[1;32m----> 1\u001b[0m \u001b[43my\u001b[49m\u001b[38;5;241;43m.\u001b[39;49m\u001b[43mreshape\u001b[49m\u001b[43m(\u001b[49m\u001b[43m(\u001b[49m\u001b[38;5;241;43m2\u001b[39;49m\u001b[43m,\u001b[49m\u001b[38;5;241;43m1\u001b[39;49m\u001b[43m)\u001b[49m\u001b[43m)\u001b[49m\n",
      "\u001b[1;31mValueError\u001b[0m: cannot reshape array of size 6 into shape (2,1)"
     ]
    }
   ],
   "source": [
    "y.reshape((2,1))"
   ]
  },
  {
   "cell_type": "code",
   "execution_count": 211,
   "id": "fab27d95",
   "metadata": {},
   "outputs": [
    {
     "data": {
      "text/plain": [
       "array([[-1],\n",
       "       [ 1]])"
      ]
     },
     "execution_count": 211,
     "metadata": {},
     "output_type": "execute_result"
    }
   ],
   "source": [
    "z.reshape((2,1))"
   ]
  },
  {
   "cell_type": "code",
   "execution_count": null,
   "id": "aa0d22e0",
   "metadata": {},
   "outputs": [],
   "source": []
  },
  {
   "cell_type": "code",
   "execution_count": 83,
   "id": "fdfa0fda",
   "metadata": {},
   "outputs": [
    {
     "data": {
      "text/plain": [
       "array([[ 1,  4,  1],\n",
       "       [ 8,  9, 10]])"
      ]
     },
     "execution_count": 83,
     "metadata": {},
     "output_type": "execute_result"
    }
   ],
   "source": [
    "#y+z -> 오류 why? 모양의 마지막이 다르니까\n",
    "y.reshape((3,2)) + z #맨 끝자리가 2로 같다.\n",
    "\n",
    "#y.reshape((2,3)) + z #이 문장은 오류남\n",
    "#y.reshape((2,3)) + z.reshape((2,1)) #그러나 얘는 끝자리가 같음.\n",
    "\n"
   ]
  },
  {
   "cell_type": "code",
   "execution_count": 84,
   "id": "32a24765",
   "metadata": {},
   "outputs": [
    {
     "data": {
      "text/plain": [
       "array([[-1, -1, -1],\n",
       "       [ 1,  1,  1]])"
      ]
     },
     "execution_count": 84,
     "metadata": {},
     "output_type": "execute_result"
    }
   ],
   "source": [
    "np.hstack([z.reshape((2,1)), z.reshape((2,1)), z.reshape((2,1))]) #<- 이렇게 브로드캐스팅됨\n"
   ]
  },
  {
   "cell_type": "code",
   "execution_count": 86,
   "id": "f461935e",
   "metadata": {},
   "outputs": [
    {
     "data": {
      "text/plain": [
       "array([2, 5, 2, 7, 8, 9])"
      ]
     },
     "execution_count": 86,
     "metadata": {},
     "output_type": "execute_result"
    }
   ],
   "source": [
    "y #1,3,5줄에는 1더하고 2,4,6줄에는 -1더하고 싶었는데 브로드캐스팅 규칙에 의하면 그게 안됨"
   ]
  },
  {
   "cell_type": "markdown",
   "id": "36bdd281",
   "metadata": {},
   "source": [
    "#### 브로드캐스팅 규칙\n",
    "두 배열 a,b의 모양이 a.shape = (n,m,s,t), b.shape = (x,y,z)와 같을 때   \n",
    "a+b의 연산이 이뤄지기 위해서는:  \n",
    "1. 각 배열의 마지막 모양의 값인 t와 z에 대해 \n",
    " - t == z 이거나,  \n",
    " - t 또는 z중 어느 하나가 1이어야 한다.\n",
    " \n",
    " 2. 1이 만족되면 다음 모양인 s,y에 대해 \n",
    " - s == y 이거나,  \n",
    " - s 또는 y중 어느 하나가 1이어야 한다.\n",
    " \n",
    " 3. 2가 만족되면 다음 모양은 m,x에 대해\n",
    "  - m == x이건,  \n",
    "  - m 또는 y중 어느 하나가 1이여야 한다.\n",
    " \n",
    " 4. a의 모양 n이 남은 상태에서 b의 모양이 더 이상 없을 때\n",
    "  - b는 a만큼 반복된다."
   ]
  },
  {
   "cell_type": "markdown",
   "id": "6bdf4c28",
   "metadata": {},
   "source": [
    "-----점심 이후----------"
   ]
  },
  {
   "cell_type": "code",
   "execution_count": 91,
   "id": "f6bf364c",
   "metadata": {},
   "outputs": [
    {
     "data": {
      "text/plain": [
       "array([[ 5, 11,  4],\n",
       "       [10, 14, 11]])"
      ]
     },
     "execution_count": 91,
     "metadata": {},
     "output_type": "execute_result"
    }
   ],
   "source": [
    "y.reshape((2,3))+a #끝이 3이 되게 만들고 +a"
   ]
  },
  {
   "cell_type": "code",
   "execution_count": 93,
   "id": "5fe96df3",
   "metadata": {},
   "outputs": [
    {
     "data": {
      "text/plain": [
       "array([[[ 0,  1,  2,  3]],\n",
       "\n",
       "       [[ 4,  5,  6,  7]],\n",
       "\n",
       "       [[ 8,  9, 10, 11]]])"
      ]
     },
     "execution_count": 93,
     "metadata": {},
     "output_type": "execute_result"
    }
   ],
   "source": [
    "t = np.arange(12).reshape((3,1,4)) #end는 제외됨\n",
    "t"
   ]
  },
  {
   "cell_type": "code",
   "execution_count": 97,
   "id": "3ddcd369",
   "metadata": {},
   "outputs": [
    {
     "data": {
      "text/plain": [
       "array([[0, 1, 2, 3],\n",
       "       [4, 5, 6, 7]])"
      ]
     },
     "execution_count": 97,
     "metadata": {},
     "output_type": "execute_result"
    }
   ],
   "source": [
    "#u = np.arange(4)\n",
    "u = np.arange(8).reshape((2,4)) #젤 끝은 4라서 통과, 2랑 1은 가능, 3과 없으니까, 2번 복사가 이루어짐\n",
    "u"
   ]
  },
  {
   "cell_type": "code",
   "execution_count": 98,
   "id": "1225ff83",
   "metadata": {},
   "outputs": [
    {
     "data": {
      "text/plain": [
       "array([[[ 0,  2,  4,  6],\n",
       "        [ 4,  6,  8, 10]],\n",
       "\n",
       "       [[ 4,  6,  8, 10],\n",
       "        [ 8, 10, 12, 14]],\n",
       "\n",
       "       [[ 8, 10, 12, 14],\n",
       "        [12, 14, 16, 18]]])"
      ]
     },
     "execution_count": 98,
     "metadata": {},
     "output_type": "execute_result"
    }
   ],
   "source": [
    "t+u #연산가능, 끝이 4이고 다음은 0과 1비교. 1이 하나라도 있으니 가능. 다음 3과"
   ]
  },
  {
   "cell_type": "code",
   "execution_count": 101,
   "id": "22f6f0b6",
   "metadata": {},
   "outputs": [
    {
     "ename": "ValueError",
     "evalue": "cannot reshape array of size 12 into shape (3,1)",
     "output_type": "error",
     "traceback": [
      "\u001b[1;31m---------------------------------------------------------------------------\u001b[0m",
      "\u001b[1;31mValueError\u001b[0m                                Traceback (most recent call last)",
      "Cell \u001b[1;32mIn[101], line 1\u001b[0m\n\u001b[1;32m----> 1\u001b[0m v\u001b[38;5;241m=\u001b[39m\u001b[43mnp\u001b[49m\u001b[38;5;241;43m.\u001b[39;49m\u001b[43marange\u001b[49m\u001b[43m(\u001b[49m\u001b[38;5;241;43m12\u001b[39;49m\u001b[43m)\u001b[49m\u001b[38;5;241;43m.\u001b[39;49m\u001b[43mreshape\u001b[49m\u001b[43m(\u001b[49m\u001b[43m(\u001b[49m\u001b[38;5;241;43m3\u001b[39;49m\u001b[43m,\u001b[49m\u001b[38;5;241;43m1\u001b[39;49m\u001b[43m)\u001b[49m\u001b[43m)\u001b[49m\n\u001b[0;32m      2\u001b[0m v\n\u001b[0;32m      3\u001b[0m t\u001b[38;5;241m+\u001b[39mv\n",
      "\u001b[1;31mValueError\u001b[0m: cannot reshape array of size 12 into shape (3,1)"
     ]
    }
   ],
   "source": [
    "v=np.arange(12).reshape((3,1))\n",
    "v\n",
    "t+v"
   ]
  },
  {
   "cell_type": "markdown",
   "id": "d045a23d",
   "metadata": {},
   "source": [
    "#### 연산의 방향"
   ]
  },
  {
   "cell_type": "code",
   "execution_count": 108,
   "id": "13aff8ad",
   "metadata": {},
   "outputs": [
    {
     "data": {
      "text/plain": [
       "array([[[ 40,  55,  90],\n",
       "        [ 44,  37,  71],\n",
       "        [ 68,  65,  96],\n",
       "        [ 97,  83,  82],\n",
       "        [100,  67,  86],\n",
       "        [ 74,  59,  87],\n",
       "        [ 46,  65,  65],\n",
       "        [ 72,  96,  48],\n",
       "        [ 77,  39,  96],\n",
       "        [ 54,  97,  47]],\n",
       "\n",
       "       [[ 81,  71,  97],\n",
       "        [ 36,  78,  71],\n",
       "        [ 79,  45,  48],\n",
       "        [ 82,  71,  41],\n",
       "        [ 80,  67,  57],\n",
       "        [ 39,  75,  33],\n",
       "        [ 52,  57,  64],\n",
       "        [ 42,  98,  99],\n",
       "        [ 40,  30,  48],\n",
       "        [ 39,  95,  46]]])"
      ]
     },
     "execution_count": 108,
     "metadata": {},
     "output_type": "execute_result"
    }
   ],
   "source": [
    "np.random.seed = 123\n",
    "score = np.random.randint(30, 101, (2,10,3)) #()\n",
    "score\n"
   ]
  },
  {
   "cell_type": "markdown",
   "id": "90b13ff5",
   "metadata": {},
   "source": [
    "score의 shape을 보면: \n",
    "- 3차원 배열이다.(Matirx는 2개 있는데 ) \n",
    "- 2개의 (10,3) 행렬을 가지고 있다. \n",
    "- 0 axis(축)의 길이는 2이고,  \n",
    "- 1axis(축)의 길이는 10이고, \n",
    "- 2axis(축)의 길이는 3이다.  "
   ]
  },
  {
   "cell_type": "code",
   "execution_count": 107,
   "id": "60728eaa",
   "metadata": {},
   "outputs": [
    {
     "data": {
      "text/plain": [
       "(2, 10, 3)"
      ]
     },
     "execution_count": 107,
     "metadata": {},
     "output_type": "execute_result"
    }
   ],
   "source": [
    "score.shape"
   ]
  },
  {
   "cell_type": "code",
   "execution_count": 109,
   "id": "781d3888",
   "metadata": {},
   "outputs": [
    {
     "data": {
      "text/plain": [
       "3"
      ]
     },
     "execution_count": 109,
     "metadata": {},
     "output_type": "execute_result"
    }
   ],
   "source": [
    "score.ndim #3차원인걸 알 수 있다. "
   ]
  },
  {
   "cell_type": "markdown",
   "id": "5a4b8ae3",
   "metadata": {},
   "source": [
    "반별 과목 평균을 구하려면 (2,3)의 결과가 필요"
   ]
  },
  {
   "cell_type": "code",
   "execution_count": 110,
   "id": "82536c9d",
   "metadata": {},
   "outputs": [
    {
     "data": {
      "text/plain": [
       "array([[67.2, 66.3, 76.8],\n",
       "       [57. , 68.7, 60.4]])"
      ]
     },
     "execution_count": 110,
     "metadata": {},
     "output_type": "execute_result"
    }
   ],
   "source": [
    "score.mean(1)\n",
    "#(평균의 대상이 됨.)\n",
    "#a.mean(axis=None, dtype=None, out=None, keepdims=False)"
   ]
  },
  {
   "cell_type": "markdown",
   "id": "83fd1eb8",
   "metadata": {},
   "source": [
    "반별 학생 평균을 구하려면 (2,10)의 결과가 필요 why? 2개의 반에 10명의 평균을 구하는 거니까"
   ]
  },
  {
   "cell_type": "code",
   "execution_count": 114,
   "id": "6759685c",
   "metadata": {},
   "outputs": [
    {
     "data": {
      "text/plain": [
       "array([[61.66666667, 50.66666667, 76.33333333, 87.33333333, 84.33333333,\n",
       "        73.33333333, 58.66666667, 72.        , 70.66666667, 66.        ],\n",
       "       [83.        , 61.66666667, 57.33333333, 64.66666667, 68.        ,\n",
       "        49.        , 57.66666667, 79.66666667, 39.33333333, 60.        ]])"
      ]
     },
     "execution_count": 114,
     "metadata": {},
     "output_type": "execute_result"
    }
   ],
   "source": [
    "score.mean(2)"
   ]
  },
  {
   "cell_type": "markdown",
   "id": "d9d38157",
   "metadata": {},
   "source": [
    "반 평균을 구하려면 (2, )의 결과가 필요"
   ]
  },
  {
   "cell_type": "code",
   "execution_count": 115,
   "id": "7a042068",
   "metadata": {},
   "outputs": [
    {
     "data": {
      "text/plain": [
       "array([70.1       , 62.03333333])"
      ]
     },
     "execution_count": 115,
     "metadata": {},
     "output_type": "execute_result"
    }
   ],
   "source": [
    "score.mean((1,2)) #mean메소드"
   ]
  },
  {
   "cell_type": "code",
   "execution_count": 116,
   "id": "d8e91cc3",
   "metadata": {},
   "outputs": [
    {
     "data": {
      "text/plain": [
       "array([70.1       , 62.03333333])"
      ]
     },
     "execution_count": 116,
     "metadata": {},
     "output_type": "execute_result"
    }
   ],
   "source": [
    "np.mean(score, (1,2)) "
   ]
  },
  {
   "cell_type": "code",
   "execution_count": 117,
   "id": "49d64c2d",
   "metadata": {},
   "outputs": [
    {
     "data": {
      "text/plain": [
       "array([2103, 1861])"
      ]
     },
     "execution_count": 117,
     "metadata": {},
     "output_type": "execute_result"
    }
   ],
   "source": [
    "score.sum((1,2)) #반의 점수 합계, 배열의 메소드"
   ]
  },
  {
   "cell_type": "code",
   "execution_count": 118,
   "id": "a202c725",
   "metadata": {},
   "outputs": [
    {
     "data": {
      "text/plain": [
       "array([2103, 1861])"
      ]
     },
     "execution_count": 118,
     "metadata": {},
     "output_type": "execute_result"
    }
   ],
   "source": [
    "np.sum(score, (1,2))#np의 함수"
   ]
  },
  {
   "cell_type": "markdown",
   "id": "e5a1b191",
   "metadata": {},
   "source": [
    "#### 정렬하기"
   ]
  },
  {
   "cell_type": "code",
   "execution_count": 128,
   "id": "06c95d03",
   "metadata": {},
   "outputs": [
    {
     "data": {
      "text/plain": [
       "array([3. , 5.6, 7.2, 1.2, 3.4])"
      ]
     },
     "execution_count": 128,
     "metadata": {},
     "output_type": "execute_result"
    }
   ],
   "source": [
    "r = np.array([3, 5.6 , 7.2 , 1.2 , 3.4])\n",
    "r"
   ]
  },
  {
   "cell_type": "code",
   "execution_count": 129,
   "id": "3252e5f2",
   "metadata": {},
   "outputs": [
    {
     "data": {
      "text/plain": [
       "array([1.2, 3. , 3.4, 5.6, 7.2])"
      ]
     },
     "execution_count": 129,
     "metadata": {},
     "output_type": "execute_result"
    }
   ],
   "source": [
    "#정렬하기\n",
    "#\"r자체를 정렬하여 r을 바꾼다. \"\n",
    "r.sort() #(axis=-1, kind=None, order)\n",
    "r"
   ]
  },
  {
   "cell_type": "code",
   "execution_count": 133,
   "id": "cedb3b84",
   "metadata": {},
   "outputs": [
    {
     "data": {
      "text/plain": [
       "array([0, 1, 2, 3, 4], dtype=int64)"
      ]
     },
     "execution_count": 133,
     "metadata": {},
     "output_type": "execute_result"
    }
   ],
   "source": [
    "r.argsort() #정렬한 순번을 줌"
   ]
  },
  {
   "cell_type": "code",
   "execution_count": 134,
   "id": "c2958cfa",
   "metadata": {},
   "outputs": [
    {
     "data": {
      "text/plain": [
       "array([1.2, 3. , 3.4, 5.6, 7.2])"
      ]
     },
     "execution_count": 134,
     "metadata": {},
     "output_type": "execute_result"
    }
   ],
   "source": [
    "r[r.argsort()] #정"
   ]
  },
  {
   "cell_type": "code",
   "execution_count": 138,
   "id": "96e8a811",
   "metadata": {},
   "outputs": [
    {
     "data": {
      "text/plain": [
       "array([1.2, 3. , 3.4, 5.6, 7.2])"
      ]
     },
     "execution_count": 138,
     "metadata": {},
     "output_type": "execute_result"
    }
   ],
   "source": [
    "#-------- r을 정렬한 새로운 array를 리턴, r.sort()는 r자체를 정렬함\n",
    "np.sort(r)\n",
    "r"
   ]
  },
  {
   "cell_type": "code",
   "execution_count": 136,
   "id": "3dfd53b6",
   "metadata": {},
   "outputs": [
    {
     "data": {
      "text/plain": [
       "array([0, 1, 2, 3, 4], dtype=int64)"
      ]
     },
     "execution_count": 136,
     "metadata": {},
     "output_type": "execute_result"
    }
   ],
   "source": [
    "np.argsort(r)"
   ]
  },
  {
   "cell_type": "markdown",
   "id": "c79fefdd",
   "metadata": {},
   "source": [
    "반별로 과목별로 top5 성적의 학생 id를 구하라"
   ]
  },
  {
   "cell_type": "code",
   "execution_count": 147,
   "id": "4b0b3689",
   "metadata": {},
   "outputs": [
    {
     "data": {
      "text/plain": [
       "array([[[3, 4, 4],\n",
       "        [4, 3, 9],\n",
       "        [2, 8, 3],\n",
       "        [5, 5, 8],\n",
       "        [7, 7, 7],\n",
       "        [9, 2, 2],\n",
       "        [6, 6, 0],\n",
       "        [0, 0, 5],\n",
       "        [8, 9, 1],\n",
       "        [1, 1, 6]],\n",
       "\n",
       "       [[0, 7, 7],\n",
       "        [4, 0, 0],\n",
       "        [6, 3, 9],\n",
       "        [2, 1, 3],\n",
       "        [7, 4, 4],\n",
       "        [3, 6, 2],\n",
       "        [9, 2, 1],\n",
       "        [1, 9, 5],\n",
       "        [5, 8, 6],\n",
       "        [8, 5, 8]]], dtype=int64)"
      ]
     },
     "execution_count": 147,
     "metadata": {},
     "output_type": "execute_result"
    }
   ],
   "source": [
    "np.argsort(score,1)[:, ::-1] #내림차순으로"
   ]
  },
  {
   "cell_type": "code",
   "execution_count": 150,
   "id": "c93132b5",
   "metadata": {},
   "outputs": [
    {
     "data": {
      "text/plain": [
       "array([[[  3,   4,   4,  40,  55,  90],\n",
       "        [  4,   3,   9,  37,  44,  71],\n",
       "        [  2,   8,   3,  65,  68,  96],\n",
       "        [  5,   5,   8,  82,  83,  97],\n",
       "        [  7,   7,   7,  67,  86, 100],\n",
       "        [  9,   2,   2,  59,  74,  87],\n",
       "        [  6,   6,   0,  46,  65,  65],\n",
       "        [  0,   0,   5,  48,  72,  96],\n",
       "        [  8,   9,   1,  39,  77,  96],\n",
       "        [  1,   1,   6,  47,  54,  97]],\n",
       "\n",
       "       [[  0,   7,   7,  71,  81,  97],\n",
       "        [  4,   0,   0,  36,  71,  78],\n",
       "        [  6,   3,   9,  45,  48,  79],\n",
       "        [  2,   1,   3,  41,  71,  82],\n",
       "        [  7,   4,   4,  57,  67,  80],\n",
       "        [  3,   6,   2,  33,  39,  75],\n",
       "        [  9,   2,   1,  52,  57,  64],\n",
       "        [  1,   9,   5,  42,  98,  99],\n",
       "        [  5,   8,   6,  30,  40,  48],\n",
       "        [  8,   5,   8,  39,  46,  95]]], dtype=int64)"
      ]
     },
     "execution_count": 150,
     "metadata": {},
     "output_type": "execute_result"
    }
   ],
   "source": [
    "np.sort(score)\n",
    "np.concatenate([np.argsort(score,1)[:, ::-1], score], 2)\n",
    "#결과 (주소 인덱스) _ _ _ (원래 데이터) _ _ _ 4열의 제일 점수가 높은 사람의 index가 1열에 있다. 5열의 점수가 높은 사람의 index가 2열에 있다."
   ]
  },
  {
   "cell_type": "code",
   "execution_count": 149,
   "id": "e176b4f4",
   "metadata": {},
   "outputs": [
    {
     "data": {
      "text/plain": [
       "array([[[3, 4, 4],\n",
       "        [4, 3, 9],\n",
       "        [2, 8, 3],\n",
       "        [5, 5, 8],\n",
       "        [7, 7, 7]],\n",
       "\n",
       "       [[0, 7, 7],\n",
       "        [4, 0, 0],\n",
       "        [6, 3, 9],\n",
       "        [2, 1, 3],\n",
       "        [7, 4, 4]]], dtype=int64)"
      ]
     },
     "execution_count": 149,
     "metadata": {},
     "output_type": "execute_result"
    }
   ],
   "source": [
    "np.argsort(score,1)[:, -1: -6: -1] #"
   ]
  },
  {
   "cell_type": "code",
   "execution_count": 152,
   "id": "c90c85fb",
   "metadata": {},
   "outputs": [
    {
     "data": {
      "text/plain": [
       "array([3.12692801, 4.12692801])"
      ]
     },
     "execution_count": 152,
     "metadata": {},
     "output_type": "execute_result"
    }
   ],
   "source": [
    "# 몰라도 되는거긴 한데 그냥 해봄\n",
    "\n",
    "a,b = np.array([1,2]), np.array([3,4]) \n",
    "np.logaddexp(a,b)"
   ]
  },
  {
   "cell_type": "code",
   "execution_count": 153,
   "id": "4e186093",
   "metadata": {},
   "outputs": [
    {
     "data": {
      "text/plain": [
       "array([3.12692801, 4.12692801])"
      ]
     },
     "execution_count": 153,
     "metadata": {},
     "output_type": "execute_result"
    }
   ],
   "source": [
    "np.log(np.exp(a)+np.exp(b))"
   ]
  },
  {
   "cell_type": "markdown",
   "id": "4e44e4d5",
   "metadata": {},
   "source": [
    "#### np.함수"
   ]
  },
  {
   "cell_type": "code",
   "execution_count": 156,
   "id": "a58cbbd4",
   "metadata": {},
   "outputs": [
    {
     "data": {
      "text/plain": [
       "array([ 1, 16])"
      ]
     },
     "execution_count": 156,
     "metadata": {},
     "output_type": "execute_result"
    }
   ],
   "source": [
    "#1의 3승은 1, 2의 4승은 16\n",
    "np.power(a,b) # a**b도 된다. a의 b승\n",
    "a**b"
   ]
  },
  {
   "cell_type": "markdown",
   "id": "af3c9ce8",
   "metadata": {},
   "source": [
    "mod( ) #나머지 리턴할때  \n",
    "fabs #\n",
    "f가 붙으면 \n",
    "\n",
    "\n",
    "divmod # 나누어서 나머지    \n",
    "absolute #절댓값 구하기   \n",
    "sign #부호 리턴, 음수면 -, 0이면 0  \n",
    "\n",
    "log  \n",
    "log2  \n",
    "log10  \n",
    "log1p #대체로 데이터는 양수인데 가끔 0일때 있다. 로그에 0이 있으면 무한대로 가니까 1을 더하고 log취하기\n",
    "\n",
    "\n",
    "minimum #큰 거 뽑기 작은 거 뽑기   \n",
    "\n",
    "자료구조 시간에 배운 바닥함수, 천장함수   \n",
    "floor  \n",
    "ceil   \n",
    "\n",
    "\n"
   ]
  },
  {
   "cell_type": "code",
   "execution_count": null,
   "id": "5f8947e1",
   "metadata": {},
   "outputs": [],
   "source": []
  },
  {
   "cell_type": "code",
   "execution_count": null,
   "id": "89485c9e",
   "metadata": {},
   "outputs": [],
   "source": []
  },
  {
   "cell_type": "markdown",
   "id": "76c7f11b",
   "metadata": {},
   "source": [
    "## 중요한 함수\n"
   ]
  },
  {
   "cell_type": "code",
   "execution_count": 157,
   "id": "25888ebc",
   "metadata": {},
   "outputs": [
    {
     "data": {
      "text/plain": [
       "array([[ 0,  1,  2,  3],\n",
       "       [ 4,  5,  6,  7],\n",
       "       [ 8,  9, 10, 11]])"
      ]
     },
     "execution_count": 157,
     "metadata": {},
     "output_type": "execute_result"
    }
   ],
   "source": [
    "a2d = np.arange((12)).reshape((3,4)) #\n",
    "a2d"
   ]
  },
  {
   "cell_type": "code",
   "execution_count": 163,
   "id": "b16558ef",
   "metadata": {},
   "outputs": [
    {
     "data": {
      "text/plain": [
       "array([5, 6])"
      ]
     },
     "execution_count": 163,
     "metadata": {},
     "output_type": "execute_result"
    }
   ],
   "source": [
    "a2d[2,2]\n",
    "\n",
    "#5,6을 가지고 오고 싶으면, 1번째 행의 1,2열을 가지고 와야됨\n",
    "a2d[1,1:3]"
   ]
  },
  {
   "cell_type": "code",
   "execution_count": 164,
   "id": "5ffff6e3",
   "metadata": {},
   "outputs": [
    {
     "data": {
      "text/plain": [
       "array([5, 9])"
      ]
     },
     "execution_count": 164,
     "metadata": {},
     "output_type": "execute_result"
    }
   ],
   "source": [
    "#5,9를 가지고 오고 싶으면\n",
    "a2d[1:, 1] #1부터 끝까지, 1번째 열만"
   ]
  },
  {
   "cell_type": "code",
   "execution_count": 165,
   "id": "a9a666d9",
   "metadata": {},
   "outputs": [
    {
     "data": {
      "text/plain": [
       "array([[1, 3],\n",
       "       [5, 7]])"
      ]
     },
     "execution_count": 165,
     "metadata": {},
     "output_type": "execute_result"
    }
   ],
   "source": [
    "#1,5,3,7가지고 오고 싶으면\n",
    "a2d[:2, 1::2] #첨부터 2개의 행에 대해서, 1"
   ]
  },
  {
   "cell_type": "markdown",
   "id": "67ada56e",
   "metadata": {},
   "source": [
    "pairwise point indexing"
   ]
  },
  {
   "cell_type": "code",
   "execution_count": 167,
   "id": "f935563f",
   "metadata": {},
   "outputs": [
    {
     "data": {
      "text/plain": [
       "array([ 0,  5, 10])"
      ]
     },
     "execution_count": 167,
     "metadata": {},
     "output_type": "execute_result"
    }
   ],
   "source": [
    "#0,5,10을 가지고 오고 싶으면? pairwise point indexing\n",
    "a2d[ [0,1,2], [0,1,2] ] #행에 대한것 0행,1행,2행, 열에 대해서 0열 1열 2열"
   ]
  },
  {
   "cell_type": "code",
   "execution_count": 169,
   "id": "d0da2d64",
   "metadata": {},
   "outputs": [
    {
     "data": {
      "text/plain": [
       "array([ 0,  5, 11])"
      ]
     },
     "execution_count": 169,
     "metadata": {},
     "output_type": "execute_result"
    }
   ],
   "source": [
    "#0,5,11을 가지고 오고 싶으면? pairwise point indexing\n",
    "a2d[ [0,1,2], [0,1,3] ] #행에 대한것 0행,1행,2행, 열에 대해서 0열 1열 2열 -> 페어와이즈 포인팅 0행0열, 1행1열, 2행3열"
   ]
  },
  {
   "cell_type": "markdown",
   "id": "bad6ba52",
   "metadata": {},
   "source": [
    "고차원의 색인"
   ]
  },
  {
   "cell_type": "markdown",
   "id": "c0568a69",
   "metadata": {},
   "source": [
    "b = a.T : a.[i,j]. = b[j,i]"
   ]
  },
  {
   "cell_type": "code",
   "execution_count": 171,
   "id": "9a069822",
   "metadata": {},
   "outputs": [
    {
     "data": {
      "text/plain": [
       "array([[ 0,  4,  8],\n",
       "       [ 1,  5,  9],\n",
       "       [ 2,  6, 10],\n",
       "       [ 3,  7, 11]])"
      ]
     },
     "execution_count": 171,
     "metadata": {},
     "output_type": "execute_result"
    }
   ],
   "source": [
    "a2d.T #2차원 배열일 때 가능"
   ]
  },
  {
   "cell_type": "code",
   "execution_count": 158,
   "id": "ede33a30",
   "metadata": {},
   "outputs": [
    {
     "data": {
      "text/plain": [
       "array([[ 0,  4,  8],\n",
       "       [ 1,  5,  9],\n",
       "       [ 2,  6, 10],\n",
       "       [ 3,  7, 11]])"
      ]
     },
     "execution_count": 158,
     "metadata": {},
     "output_type": "execute_result"
    }
   ],
   "source": [
    "a2d.T #2차원인 경우에는 그냥 T라고 하면 됨"
   ]
  },
  {
   "cell_type": "code",
   "execution_count": 172,
   "id": "7225d1a3",
   "metadata": {},
   "outputs": [
    {
     "data": {
      "text/plain": [
       "array([[ 0,  4,  8],\n",
       "       [ 1,  5,  9],\n",
       "       [ 2,  6, 10],\n",
       "       [ 3,  7, 11]])"
      ]
     },
     "execution_count": 172,
     "metadata": {},
     "output_type": "execute_result"
    }
   ],
   "source": [
    "np.transpose(a2d, (1,0)) #바꿀 순서를 지정해주는 것"
   ]
  },
  {
   "cell_type": "code",
   "execution_count": 176,
   "id": "95e3ac3f",
   "metadata": {},
   "outputs": [
    {
     "data": {
      "text/plain": [
       "array([[ 0,  4,  8],\n",
       "       [ 1,  5,  9],\n",
       "       [ 2,  6, 10],\n",
       "       [ 3,  7, 11]])"
      ]
     },
     "execution_count": 176,
     "metadata": {},
     "output_type": "execute_result"
    }
   ],
   "source": [
    "np.swapaxes(a2d, 0, 1) #0,1이나 1,0이나 같음. 0과 1을 바꿔, 1과 0을 바꿔라서 순서 달라져도 괜찮음"
   ]
  },
  {
   "cell_type": "code",
   "execution_count": 178,
   "id": "c399f422",
   "metadata": {},
   "outputs": [
    {
     "data": {
      "text/plain": [
       "array([[[ 0,  1,  2,  3,  4],\n",
       "        [ 5,  6,  7,  8,  9],\n",
       "        [10, 11, 12, 13, 14],\n",
       "        [15, 16, 17, 18, 19]],\n",
       "\n",
       "       [[20, 21, 22, 23, 24],\n",
       "        [25, 26, 27, 28, 29],\n",
       "        [30, 31, 32, 33, 34],\n",
       "        [35, 36, 37, 38, 39]],\n",
       "\n",
       "       [[40, 41, 42, 43, 44],\n",
       "        [45, 46, 47, 48, 49],\n",
       "        [50, 51, 52, 53, 54],\n",
       "        [55, 56, 57, 58, 59]]])"
      ]
     },
     "execution_count": 178,
     "metadata": {},
     "output_type": "execute_result"
    }
   ],
   "source": [
    "a3d = np.arange(60).reshape((3,4,5))\n",
    "a3d"
   ]
  },
  {
   "cell_type": "code",
   "execution_count": 179,
   "id": "344a24b7",
   "metadata": {},
   "outputs": [
    {
     "data": {
      "text/plain": [
       "array([[[ 0, 20, 40],\n",
       "        [ 5, 25, 45],\n",
       "        [10, 30, 50],\n",
       "        [15, 35, 55]],\n",
       "\n",
       "       [[ 1, 21, 41],\n",
       "        [ 6, 26, 46],\n",
       "        [11, 31, 51],\n",
       "        [16, 36, 56]],\n",
       "\n",
       "       [[ 2, 22, 42],\n",
       "        [ 7, 27, 47],\n",
       "        [12, 32, 52],\n",
       "        [17, 37, 57]],\n",
       "\n",
       "       [[ 3, 23, 43],\n",
       "        [ 8, 28, 48],\n",
       "        [13, 33, 53],\n",
       "        [18, 38, 58]],\n",
       "\n",
       "       [[ 4, 24, 44],\n",
       "        [ 9, 29, 49],\n",
       "        [14, 34, 54],\n",
       "        [19, 39, 59]]])"
      ]
     },
     "execution_count": 179,
     "metadata": {},
     "output_type": "execute_result"
    }
   ],
   "source": [
    "# b = a3d.T 이면 결과는 a[i,j,k] = b[k,j,i]랑 같음 \n",
    "a3d.T"
   ]
  },
  {
   "cell_type": "code",
   "execution_count": 180,
   "id": "8c27fce3",
   "metadata": {},
   "outputs": [
    {
     "data": {
      "text/plain": [
       "array([[[ 0, 20, 40],\n",
       "        [ 5, 25, 45],\n",
       "        [10, 30, 50],\n",
       "        [15, 35, 55]],\n",
       "\n",
       "       [[ 1, 21, 41],\n",
       "        [ 6, 26, 46],\n",
       "        [11, 31, 51],\n",
       "        [16, 36, 56]],\n",
       "\n",
       "       [[ 2, 22, 42],\n",
       "        [ 7, 27, 47],\n",
       "        [12, 32, 52],\n",
       "        [17, 37, 57]],\n",
       "\n",
       "       [[ 3, 23, 43],\n",
       "        [ 8, 28, 48],\n",
       "        [13, 33, 53],\n",
       "        [18, 38, 58]],\n",
       "\n",
       "       [[ 4, 24, 44],\n",
       "        [ 9, 29, 49],\n",
       "        [14, 34, 54],\n",
       "        [19, 39, 59]]])"
      ]
     },
     "execution_count": 180,
     "metadata": {},
     "output_type": "execute_result"
    }
   ],
   "source": [
    "np.swapaxes(a3d, 0, 2) #축 바꾸기, 바꿔야할 축을 지정해줌"
   ]
  },
  {
   "cell_type": "code",
   "execution_count": 181,
   "id": "07cade05",
   "metadata": {},
   "outputs": [
    {
     "data": {
      "text/plain": [
       "array([[[ 0, 20, 40],\n",
       "        [ 5, 25, 45],\n",
       "        [10, 30, 50],\n",
       "        [15, 35, 55]],\n",
       "\n",
       "       [[ 1, 21, 41],\n",
       "        [ 6, 26, 46],\n",
       "        [11, 31, 51],\n",
       "        [16, 36, 56]],\n",
       "\n",
       "       [[ 2, 22, 42],\n",
       "        [ 7, 27, 47],\n",
       "        [12, 32, 52],\n",
       "        [17, 37, 57]],\n",
       "\n",
       "       [[ 3, 23, 43],\n",
       "        [ 8, 28, 48],\n",
       "        [13, 33, 53],\n",
       "        [18, 38, 58]],\n",
       "\n",
       "       [[ 4, 24, 44],\n",
       "        [ 9, 29, 49],\n",
       "        [14, 34, 54],\n",
       "        [19, 39, 59]]])"
      ]
     },
     "execution_count": 181,
     "metadata": {},
     "output_type": "execute_result"
    }
   ],
   "source": [
    "np.transpose(a3d, (2,1,0))"
   ]
  },
  {
   "cell_type": "code",
   "execution_count": 182,
   "id": "43e2c256",
   "metadata": {},
   "outputs": [
    {
     "data": {
      "text/plain": [
       "(array([1, 2]), array([3, 4]))"
      ]
     },
     "execution_count": 182,
     "metadata": {},
     "output_type": "execute_result"
    }
   ],
   "source": [
    "a, b"
   ]
  },
  {
   "cell_type": "code",
   "execution_count": 185,
   "id": "0b80dc99",
   "metadata": {},
   "outputs": [
    {
     "data": {
      "text/plain": [
       "array([1, 2, 3, 4])"
      ]
     },
     "execution_count": 185,
     "metadata": {},
     "output_type": "execute_result"
    }
   ],
   "source": [
    "#배열 합치기 \n",
    "np.concatenate([a,b], -1) #축을 아무리 바꿔도 1차원이라 달라지지 않는다. "
   ]
  },
  {
   "cell_type": "code",
   "execution_count": 196,
   "id": "af4ce564",
   "metadata": {},
   "outputs": [
    {
     "data": {
      "text/plain": [
       "array([[1, 3],\n",
       "       [2, 4]])"
      ]
     },
     "execution_count": 196,
     "metadata": {},
     "output_type": "execute_result"
    }
   ],
   "source": [
    "np.concatenate([a.reshape((2,1)), b.reshape((2,1))], -1)\n",
    "np.hstack([a.reshape((2,1)), b.reshape((2,1))])"
   ]
  },
  {
   "cell_type": "code",
   "execution_count": 197,
   "id": "6e1488e7",
   "metadata": {},
   "outputs": [
    {
     "data": {
      "text/plain": [
       "array([[1, 2],\n",
       "       [3, 4]])"
      ]
     },
     "execution_count": 197,
     "metadata": {},
     "output_type": "execute_result"
    }
   ],
   "source": [
    "#두 함수 같은 의미\n",
    "np.concatenate([a.reshape((1,2)), b.reshape((1,2))], 0) #12,34로 쌓고 싶으면?, 0은 행 방향으로 쌓으라는 뜻\n",
    "np.vstack([a.reshape((1,2)), b.reshape((1,2))])"
   ]
  },
  {
   "cell_type": "markdown",
   "id": "012f354d",
   "metadata": {},
   "source": [
    "vstack과 hstack은 행, 렬에 대해 데이터를 쌓는 것 \n",
    "관련 링크: https://ponyozzang.tistory.com/507  \n",
    "수직결합, 수평결합  \n",
    "이 두가지를 동시에 할 수 있는 것 concat  \n",
    "numpy에 대해서 제일 중요한 것 2가지는 index와 axis축(연산의 방향을 결정하기 때문)  "
   ]
  },
  {
   "cell_type": "code",
   "execution_count": 198,
   "id": "8bf97164",
   "metadata": {},
   "outputs": [
    {
     "data": {
      "text/plain": [
       "array([[1., 1., 1., 1.],\n",
       "       [1., 1., 1., 1.],\n",
       "       [1., 1., 1., 1.]])"
      ]
     },
     "execution_count": 198,
     "metadata": {},
     "output_type": "execute_result"
    }
   ],
   "source": [
    "#지금 중요한 메소드 하는 중임\n",
    "\n",
    "np.ones((3,4)) #1로 초기화된"
   ]
  },
  {
   "cell_type": "code",
   "execution_count": 200,
   "id": "0b9181ae",
   "metadata": {},
   "outputs": [
    {
     "data": {
      "text/plain": [
       "array([[[1, 1, 1, 1, 1],\n",
       "        [1, 1, 1, 1, 1],\n",
       "        [1, 1, 1, 1, 1],\n",
       "        [1, 1, 1, 1, 1]],\n",
       "\n",
       "       [[1, 1, 1, 1, 1],\n",
       "        [1, 1, 1, 1, 1],\n",
       "        [1, 1, 1, 1, 1],\n",
       "        [1, 1, 1, 1, 1]],\n",
       "\n",
       "       [[1, 1, 1, 1, 1],\n",
       "        [1, 1, 1, 1, 1],\n",
       "        [1, 1, 1, 1, 1],\n",
       "        [1, 1, 1, 1, 1]]])"
      ]
     },
     "execution_count": 200,
     "metadata": {},
     "output_type": "execute_result"
    }
   ],
   "source": [
    "np.ones_like(a3d)"
   ]
  },
  {
   "cell_type": "code",
   "execution_count": 201,
   "id": "03a8f56f",
   "metadata": {},
   "outputs": [
    {
     "data": {
      "text/plain": [
       "array([[0., 0., 0., 0.],\n",
       "       [0., 0., 0., 0.],\n",
       "       [0., 0., 0., 0.]])"
      ]
     },
     "execution_count": 201,
     "metadata": {},
     "output_type": "execute_result"
    }
   ],
   "source": [
    "np.zeros((3,4)) #전부다 0으로 초기화"
   ]
  },
  {
   "cell_type": "code",
   "execution_count": 202,
   "id": "a90d8aaf",
   "metadata": {},
   "outputs": [
    {
     "data": {
      "text/plain": [
       "array([[[0, 0, 0, 0, 0],\n",
       "        [0, 0, 0, 0, 0],\n",
       "        [0, 0, 0, 0, 0],\n",
       "        [0, 0, 0, 0, 0]],\n",
       "\n",
       "       [[0, 0, 0, 0, 0],\n",
       "        [0, 0, 0, 0, 0],\n",
       "        [0, 0, 0, 0, 0],\n",
       "        [0, 0, 0, 0, 0]],\n",
       "\n",
       "       [[0, 0, 0, 0, 0],\n",
       "        [0, 0, 0, 0, 0],\n",
       "        [0, 0, 0, 0, 0],\n",
       "        [0, 0, 0, 0, 0]]])"
      ]
     },
     "execution_count": 202,
     "metadata": {},
     "output_type": "execute_result"
    }
   ],
   "source": [
    "np.zeros_like(a3d)"
   ]
  },
  {
   "cell_type": "code",
   "execution_count": 204,
   "id": "814788b4",
   "metadata": {},
   "outputs": [
    {
     "data": {
      "text/plain": [
       "array([[[[1.10104247e-311, 1.10108748e-311, 0.00000000e+000, ...,\n",
       "          0.00000000e+000, 0.00000000e+000, 0.00000000e+000],\n",
       "         [0.00000000e+000, 0.00000000e+000, 0.00000000e+000, ...,\n",
       "          0.00000000e+000, 0.00000000e+000, 0.00000000e+000],\n",
       "         [0.00000000e+000, 0.00000000e+000, 0.00000000e+000, ...,\n",
       "          0.00000000e+000, 0.00000000e+000, 0.00000000e+000],\n",
       "         ...,\n",
       "         [0.00000000e+000, 0.00000000e+000, 0.00000000e+000, ...,\n",
       "          0.00000000e+000, 0.00000000e+000, 0.00000000e+000],\n",
       "         [0.00000000e+000, 0.00000000e+000, 0.00000000e+000, ...,\n",
       "          0.00000000e+000, 0.00000000e+000, 0.00000000e+000],\n",
       "         [0.00000000e+000, 0.00000000e+000, 0.00000000e+000, ...,\n",
       "          0.00000000e+000, 0.00000000e+000, 0.00000000e+000]],\n",
       "\n",
       "        [[0.00000000e+000, 0.00000000e+000, 0.00000000e+000, ...,\n",
       "          0.00000000e+000, 0.00000000e+000, 0.00000000e+000],\n",
       "         [0.00000000e+000, 0.00000000e+000, 0.00000000e+000, ...,\n",
       "          0.00000000e+000, 0.00000000e+000, 0.00000000e+000],\n",
       "         [0.00000000e+000, 0.00000000e+000, 0.00000000e+000, ...,\n",
       "          0.00000000e+000, 0.00000000e+000, 0.00000000e+000],\n",
       "         ...,\n",
       "         [0.00000000e+000, 0.00000000e+000, 0.00000000e+000, ...,\n",
       "          0.00000000e+000, 0.00000000e+000, 0.00000000e+000],\n",
       "         [0.00000000e+000, 0.00000000e+000, 0.00000000e+000, ...,\n",
       "          0.00000000e+000, 0.00000000e+000, 0.00000000e+000],\n",
       "         [0.00000000e+000, 0.00000000e+000, 0.00000000e+000, ...,\n",
       "          0.00000000e+000, 0.00000000e+000, 0.00000000e+000]],\n",
       "\n",
       "        [[0.00000000e+000, 0.00000000e+000, 0.00000000e+000, ...,\n",
       "          0.00000000e+000, 0.00000000e+000, 0.00000000e+000],\n",
       "         [0.00000000e+000, 0.00000000e+000, 0.00000000e+000, ...,\n",
       "          0.00000000e+000, 0.00000000e+000, 0.00000000e+000],\n",
       "         [0.00000000e+000, 0.00000000e+000, 0.00000000e+000, ...,\n",
       "          0.00000000e+000, 0.00000000e+000, 0.00000000e+000],\n",
       "         ...,\n",
       "         [0.00000000e+000, 0.00000000e+000, 0.00000000e+000, ...,\n",
       "          0.00000000e+000, 0.00000000e+000, 0.00000000e+000],\n",
       "         [0.00000000e+000, 0.00000000e+000, 0.00000000e+000, ...,\n",
       "          0.00000000e+000, 0.00000000e+000, 0.00000000e+000],\n",
       "         [0.00000000e+000, 0.00000000e+000, 0.00000000e+000, ...,\n",
       "          0.00000000e+000, 0.00000000e+000, 0.00000000e+000]],\n",
       "\n",
       "        [[0.00000000e+000, 0.00000000e+000, 0.00000000e+000, ...,\n",
       "          0.00000000e+000, 0.00000000e+000, 0.00000000e+000],\n",
       "         [0.00000000e+000, 0.00000000e+000, 0.00000000e+000, ...,\n",
       "          0.00000000e+000, 0.00000000e+000, 0.00000000e+000],\n",
       "         [0.00000000e+000, 0.00000000e+000, 0.00000000e+000, ...,\n",
       "          0.00000000e+000, 0.00000000e+000, 0.00000000e+000],\n",
       "         ...,\n",
       "         [0.00000000e+000, 0.00000000e+000, 0.00000000e+000, ...,\n",
       "          0.00000000e+000, 0.00000000e+000, 0.00000000e+000],\n",
       "         [0.00000000e+000, 0.00000000e+000, 0.00000000e+000, ...,\n",
       "          0.00000000e+000, 0.00000000e+000, 0.00000000e+000],\n",
       "         [0.00000000e+000, 0.00000000e+000, 0.00000000e+000, ...,\n",
       "          0.00000000e+000, 0.00000000e+000, 0.00000000e+000]]],\n",
       "\n",
       "\n",
       "       [[[0.00000000e+000, 0.00000000e+000, 0.00000000e+000, ...,\n",
       "          0.00000000e+000, 0.00000000e+000, 0.00000000e+000],\n",
       "         [0.00000000e+000, 0.00000000e+000, 0.00000000e+000, ...,\n",
       "          0.00000000e+000, 0.00000000e+000, 0.00000000e+000],\n",
       "         [0.00000000e+000, 0.00000000e+000, 0.00000000e+000, ...,\n",
       "          0.00000000e+000, 0.00000000e+000, 0.00000000e+000],\n",
       "         ...,\n",
       "         [0.00000000e+000, 0.00000000e+000, 0.00000000e+000, ...,\n",
       "          0.00000000e+000, 0.00000000e+000, 0.00000000e+000],\n",
       "         [0.00000000e+000, 0.00000000e+000, 0.00000000e+000, ...,\n",
       "          0.00000000e+000, 0.00000000e+000, 0.00000000e+000],\n",
       "         [0.00000000e+000, 0.00000000e+000, 0.00000000e+000, ...,\n",
       "          0.00000000e+000, 0.00000000e+000, 0.00000000e+000]],\n",
       "\n",
       "        [[0.00000000e+000, 0.00000000e+000, 0.00000000e+000, ...,\n",
       "          0.00000000e+000, 0.00000000e+000, 0.00000000e+000],\n",
       "         [0.00000000e+000, 0.00000000e+000, 0.00000000e+000, ...,\n",
       "          0.00000000e+000, 0.00000000e+000, 0.00000000e+000],\n",
       "         [0.00000000e+000, 0.00000000e+000, 0.00000000e+000, ...,\n",
       "          0.00000000e+000, 0.00000000e+000, 0.00000000e+000],\n",
       "         ...,\n",
       "         [0.00000000e+000, 0.00000000e+000, 0.00000000e+000, ...,\n",
       "          0.00000000e+000, 0.00000000e+000, 0.00000000e+000],\n",
       "         [0.00000000e+000, 0.00000000e+000, 0.00000000e+000, ...,\n",
       "          0.00000000e+000, 0.00000000e+000, 0.00000000e+000],\n",
       "         [0.00000000e+000, 0.00000000e+000, 0.00000000e+000, ...,\n",
       "          0.00000000e+000, 0.00000000e+000, 0.00000000e+000]],\n",
       "\n",
       "        [[0.00000000e+000, 0.00000000e+000, 0.00000000e+000, ...,\n",
       "          0.00000000e+000, 0.00000000e+000, 0.00000000e+000],\n",
       "         [0.00000000e+000, 0.00000000e+000, 0.00000000e+000, ...,\n",
       "          0.00000000e+000, 0.00000000e+000, 0.00000000e+000],\n",
       "         [0.00000000e+000, 0.00000000e+000, 0.00000000e+000, ...,\n",
       "          0.00000000e+000, 0.00000000e+000, 0.00000000e+000],\n",
       "         ...,\n",
       "         [0.00000000e+000, 0.00000000e+000, 0.00000000e+000, ...,\n",
       "          0.00000000e+000, 0.00000000e+000, 0.00000000e+000],\n",
       "         [0.00000000e+000, 0.00000000e+000, 0.00000000e+000, ...,\n",
       "          0.00000000e+000, 0.00000000e+000, 0.00000000e+000],\n",
       "         [0.00000000e+000, 0.00000000e+000, 0.00000000e+000, ...,\n",
       "          0.00000000e+000, 0.00000000e+000, 0.00000000e+000]],\n",
       "\n",
       "        [[0.00000000e+000, 0.00000000e+000, 0.00000000e+000, ...,\n",
       "          0.00000000e+000, 0.00000000e+000, 0.00000000e+000],\n",
       "         [0.00000000e+000, 0.00000000e+000, 0.00000000e+000, ...,\n",
       "          0.00000000e+000, 0.00000000e+000, 0.00000000e+000],\n",
       "         [0.00000000e+000, 0.00000000e+000, 0.00000000e+000, ...,\n",
       "          0.00000000e+000, 0.00000000e+000, 0.00000000e+000],\n",
       "         ...,\n",
       "         [0.00000000e+000, 0.00000000e+000, 0.00000000e+000, ...,\n",
       "          0.00000000e+000, 0.00000000e+000, 0.00000000e+000],\n",
       "         [0.00000000e+000, 0.00000000e+000, 0.00000000e+000, ...,\n",
       "          0.00000000e+000, 0.00000000e+000, 0.00000000e+000],\n",
       "         [0.00000000e+000, 0.00000000e+000, 0.00000000e+000, ...,\n",
       "          0.00000000e+000, 0.00000000e+000, 0.00000000e+000]]],\n",
       "\n",
       "\n",
       "       [[[0.00000000e+000, 0.00000000e+000, 0.00000000e+000, ...,\n",
       "          0.00000000e+000, 0.00000000e+000, 0.00000000e+000],\n",
       "         [0.00000000e+000, 0.00000000e+000, 0.00000000e+000, ...,\n",
       "          0.00000000e+000, 0.00000000e+000, 0.00000000e+000],\n",
       "         [0.00000000e+000, 0.00000000e+000, 0.00000000e+000, ...,\n",
       "          0.00000000e+000, 0.00000000e+000, 0.00000000e+000],\n",
       "         ...,\n",
       "         [0.00000000e+000, 0.00000000e+000, 0.00000000e+000, ...,\n",
       "          0.00000000e+000, 0.00000000e+000, 0.00000000e+000],\n",
       "         [0.00000000e+000, 0.00000000e+000, 0.00000000e+000, ...,\n",
       "          0.00000000e+000, 0.00000000e+000, 0.00000000e+000],\n",
       "         [0.00000000e+000, 0.00000000e+000, 0.00000000e+000, ...,\n",
       "          0.00000000e+000, 0.00000000e+000, 0.00000000e+000]],\n",
       "\n",
       "        [[0.00000000e+000, 0.00000000e+000, 0.00000000e+000, ...,\n",
       "          0.00000000e+000, 0.00000000e+000, 0.00000000e+000],\n",
       "         [0.00000000e+000, 0.00000000e+000, 0.00000000e+000, ...,\n",
       "          0.00000000e+000, 0.00000000e+000, 0.00000000e+000],\n",
       "         [0.00000000e+000, 0.00000000e+000, 0.00000000e+000, ...,\n",
       "          0.00000000e+000, 0.00000000e+000, 0.00000000e+000],\n",
       "         ...,\n",
       "         [0.00000000e+000, 0.00000000e+000, 0.00000000e+000, ...,\n",
       "          0.00000000e+000, 0.00000000e+000, 0.00000000e+000],\n",
       "         [0.00000000e+000, 0.00000000e+000, 0.00000000e+000, ...,\n",
       "          0.00000000e+000, 0.00000000e+000, 0.00000000e+000],\n",
       "         [0.00000000e+000, 0.00000000e+000, 0.00000000e+000, ...,\n",
       "          0.00000000e+000, 0.00000000e+000, 0.00000000e+000]],\n",
       "\n",
       "        [[0.00000000e+000, 0.00000000e+000, 0.00000000e+000, ...,\n",
       "          0.00000000e+000, 0.00000000e+000, 0.00000000e+000],\n",
       "         [0.00000000e+000, 0.00000000e+000, 0.00000000e+000, ...,\n",
       "          0.00000000e+000, 0.00000000e+000, 0.00000000e+000],\n",
       "         [0.00000000e+000, 0.00000000e+000, 0.00000000e+000, ...,\n",
       "          0.00000000e+000, 0.00000000e+000, 0.00000000e+000],\n",
       "         ...,\n",
       "         [0.00000000e+000, 0.00000000e+000, 0.00000000e+000, ...,\n",
       "          0.00000000e+000, 0.00000000e+000, 0.00000000e+000],\n",
       "         [0.00000000e+000, 0.00000000e+000, 0.00000000e+000, ...,\n",
       "          0.00000000e+000, 0.00000000e+000, 0.00000000e+000],\n",
       "         [0.00000000e+000, 0.00000000e+000, 0.00000000e+000, ...,\n",
       "          0.00000000e+000, 0.00000000e+000, 0.00000000e+000]],\n",
       "\n",
       "        [[0.00000000e+000, 0.00000000e+000, 0.00000000e+000, ...,\n",
       "          0.00000000e+000, 0.00000000e+000, 0.00000000e+000],\n",
       "         [0.00000000e+000, 0.00000000e+000, 0.00000000e+000, ...,\n",
       "          0.00000000e+000, 0.00000000e+000, 0.00000000e+000],\n",
       "         [0.00000000e+000, 0.00000000e+000, 0.00000000e+000, ...,\n",
       "          0.00000000e+000, 0.00000000e+000, 0.00000000e+000],\n",
       "         ...,\n",
       "         [0.00000000e+000, 0.00000000e+000, 0.00000000e+000, ...,\n",
       "          0.00000000e+000, 0.00000000e+000, 0.00000000e+000],\n",
       "         [0.00000000e+000, 0.00000000e+000, 0.00000000e+000, ...,\n",
       "          0.00000000e+000, 0.00000000e+000, 0.00000000e+000],\n",
       "         [0.00000000e+000, 0.00000000e+000, 0.00000000e+000, ...,\n",
       "          0.00000000e+000, 0.00000000e+000, 0.00000000e+000]]]])"
      ]
     },
     "execution_count": 204,
     "metadata": {},
     "output_type": "execute_result"
    }
   ],
   "source": [
    "np.empty((3,4,100,100))"
   ]
  },
  {
   "cell_type": "code",
   "execution_count": 205,
   "id": "3e036b36",
   "metadata": {},
   "outputs": [
    {
     "data": {
      "text/plain": [
       "array([[[-543735352,        518,        205,          0,          0],\n",
       "        [         0,          0,          0,          0,    2097230],\n",
       "        [1633952379,  975332724,  808591904,  808268594,  909258038],\n",
       "        [ 976629844,  809121842,  926232118,  808464434,  539763290]],\n",
       "\n",
       "       [[1735617826,  577005919,  857874490,  959789158,  808661047],\n",
       "        [ 876164147,  946038115,  811819362, 1714763058,  912483893],\n",
       "        [ 576991845, 1965170732, 1852990835,  577072481, 1965170746],\n",
       "        [1852990835,  577072481, 1931616300, 1769173861,  975335023]],\n",
       "\n",
       "       [[ 962929184,  929391969,  842543457,  859071799,  862074679],\n",
       "        [ 812003939, 1647785062, 1634034230,  740439602, 1936532000],\n",
       "        [2037669735,  975332720, 2019893792, 1953850213, 1701994341],\n",
       "        [1936029041,  539763316, 1919252002, 1852795251,  572537378]]])"
      ]
     },
     "execution_count": 205,
     "metadata": {},
     "output_type": "execute_result"
    }
   ],
   "source": [
    "np.empty_like(a3d) #비어있는 값을 암거나 출력하기 때문에 전부 쓰레기값이 들어있다. "
   ]
  },
  {
   "cell_type": "code",
   "execution_count": 206,
   "id": "8ea6debe",
   "metadata": {},
   "outputs": [
    {
     "data": {
      "text/plain": [
       "array([  1.,   3.,   5.,   7.,   9.,  11.,  13.,  15.,  17.,  19.,  21.,\n",
       "        23.,  25.,  27.,  29.,  31.,  33.,  35.,  37.,  39.,  41.,  43.,\n",
       "        45.,  47.,  49.,  51.,  53.,  55.,  57.,  59.,  61.,  63.,  65.,\n",
       "        67.,  69.,  71.,  73.,  75.,  77.,  79.,  81.,  83.,  85.,  87.,\n",
       "        89.,  91.,  93.,  95.,  97.,  99., 101.])"
      ]
     },
     "execution_count": 206,
     "metadata": {},
     "output_type": "execute_result"
    }
   ],
   "source": [
    "np.linspace(1, 101, 51) #1부터 101까지 51개, 51등분, 제일 마지막은 포함o\n",
    "#왜 마지막만 포함할까? \n",
    "#이 함수의 목적이 첫 점과 끝점을 다 포함하면서 균등한 공간으로 잘라내서 그래프를 그리려고 하기 때문에 이런 의도 때문에 마지막 포함"
   ]
  },
  {
   "cell_type": "code",
   "execution_count": 207,
   "id": "9f1f5a75",
   "metadata": {},
   "outputs": [
    {
     "data": {
      "text/plain": [
       "array([ 1,  3,  5,  7,  9, 11, 13, 15, 17, 19, 21, 23, 25, 27, 29, 31, 33,\n",
       "       35, 37, 39, 41, 43, 45, 47, 49, 51, 53, 55, 57, 59, 61, 63, 65, 67,\n",
       "       69, 71, 73, 75, 77, 79, 81, 83, 85, 87, 89, 91, 93, 95, 97, 99])"
      ]
     },
     "execution_count": 207,
     "metadata": {},
     "output_type": "execute_result"
    }
   ],
   "source": [
    "np.arange(1,101,2)# 마지막 포함x"
   ]
  },
  {
   "cell_type": "code",
   "execution_count": null,
   "id": "3be6fadd",
   "metadata": {},
   "outputs": [],
   "source": []
  },
  {
   "cell_type": "code",
   "execution_count": null,
   "id": "20685b67",
   "metadata": {},
   "outputs": [],
   "source": []
  },
  {
   "cell_type": "code",
   "execution_count": null,
   "id": "18004148",
   "metadata": {},
   "outputs": [],
   "source": []
  },
  {
   "cell_type": "code",
   "execution_count": null,
   "id": "f3d04430",
   "metadata": {},
   "outputs": [],
   "source": []
  },
  {
   "cell_type": "code",
   "execution_count": null,
   "id": "d495172e",
   "metadata": {},
   "outputs": [],
   "source": []
  },
  {
   "cell_type": "code",
   "execution_count": null,
   "id": "f221b598",
   "metadata": {},
   "outputs": [],
   "source": []
  },
  {
   "cell_type": "code",
   "execution_count": null,
   "id": "27af381a",
   "metadata": {},
   "outputs": [],
   "source": []
  },
  {
   "cell_type": "code",
   "execution_count": null,
   "id": "c4d664bc",
   "metadata": {},
   "outputs": [],
   "source": []
  },
  {
   "cell_type": "code",
   "execution_count": null,
   "id": "67203de3",
   "metadata": {},
   "outputs": [],
   "source": []
  },
  {
   "cell_type": "code",
   "execution_count": null,
   "id": "86093c58",
   "metadata": {},
   "outputs": [],
   "source": []
  },
  {
   "cell_type": "code",
   "execution_count": null,
   "id": "353e7ada",
   "metadata": {},
   "outputs": [],
   "source": []
  },
  {
   "cell_type": "code",
   "execution_count": null,
   "id": "cd935b29",
   "metadata": {},
   "outputs": [],
   "source": []
  },
  {
   "cell_type": "code",
   "execution_count": null,
   "id": "2819cceb",
   "metadata": {},
   "outputs": [],
   "source": []
  }
 ],
 "metadata": {
  "kernelspec": {
   "display_name": "Python 3 (ipykernel)",
   "language": "python",
   "name": "python3"
  },
  "language_info": {
   "codemirror_mode": {
    "name": "ipython",
    "version": 3
   },
   "file_extension": ".py",
   "mimetype": "text/x-python",
   "name": "python",
   "nbconvert_exporter": "python",
   "pygments_lexer": "ipython3",
   "version": "3.10.9"
  }
 },
 "nbformat": 4,
 "nbformat_minor": 5
}
