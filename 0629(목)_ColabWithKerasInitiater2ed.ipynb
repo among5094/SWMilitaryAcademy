{
  "nbformat": 4,
  "nbformat_minor": 0,
  "metadata": {
    "colab": {
      "provenance": [],
      "toc_visible": true,
      "include_colab_link": true
    },
    "kernelspec": {
      "name": "python3",
      "display_name": "Python 3"
    },
    "language_info": {
      "name": "python"
    }
  },
  "cells": [
    {
      "cell_type": "markdown",
      "metadata": {
        "id": "view-in-github",
        "colab_type": "text"
      },
      "source": [
        "<a href=\"https://colab.research.google.com/github/among5094/SWMilitaryAcademy/blob/main/0629(%EB%AA%A9)_ColabWithKerasInitiater2ed.ipynb\" target=\"_parent\"><img src=\"https://colab.research.google.com/assets/colab-badge.svg\" alt=\"Open In Colab\"/></a>"
      ]
    },
    {
      "cell_type": "code",
      "execution_count": null,
      "metadata": {
        "id": "n4qvNlzv3FxO",
        "colab": {
          "base_uri": "https://localhost:8080/"
        },
        "outputId": "9b7d1517-567e-4d6e-d011-9e10f0a6e644"
      },
      "outputs": [
        {
          "output_type": "stream",
          "name": "stdout",
          "text": [
            "Mounted at /content/drive/\n",
            "/content/drive/My Drive/Colab Notebooks\n"
          ]
        }
      ],
      "source": [
        "from google.colab import drive\n",
        "import os, shutil\n",
        "\n",
        "drive.mount('/content/drive/')\n",
        "os.chdir('drive/My Drive/Colab Notebooks')\n",
        "!pwd"
      ]
    },
    {
      "cell_type": "code",
      "source": [
        "!git clone https://github.com/rickiepark/deep-learning-with-python-2nd\n",
        "%ls"
      ],
      "metadata": {
        "colab": {
          "base_uri": "https://localhost:8080/"
        },
        "id": "Asmhpcx_3X2M",
        "outputId": "affbbb8d-d0ab-40f2-8f6b-3d195e523894"
      },
      "execution_count": null,
      "outputs": [
        {
          "output_type": "stream",
          "name": "stdout",
          "text": [
            "Cloning into 'deep-learning-with-python-2nd'...\n",
            "remote: Enumerating objects: 291, done.\u001b[K\n",
            "remote: Counting objects: 100% (133/133), done.\u001b[K\n",
            "remote: Compressing objects: 100% (76/76), done.\u001b[K\n",
            "remote: Total 291 (delta 91), reused 61 (delta 57), pack-reused 158\u001b[K\n",
            "Receiving objects: 100% (291/291), 29.59 MiB | 14.09 MiB/s, done.\n",
            "Resolving deltas: 100% (162/162), done.\n",
            " 0519_UsingPython.ipynb\n",
            "'0627(화)_pandasReview수업복습'\n",
            "'0628(수)_StatisticsVsML_problem_stud.ipynb의 사본'\n",
            "'0629(목)_ColabWithKerasInitiater2ed.ipynb'\n",
            "'0629(목)_회귀.ipynb'\n",
            " 230627_SW사관학교\n",
            "'23.06.28(수)_sklearn_ begin.ipynb'\n",
            "'Colaboratory에 오신 것을 환영합니다의 사본'\n",
            " data\n",
            " \u001b[0m\u001b[01;34mdeep-learning-with-python-2nd\u001b[0m/\n",
            " sample_submission.csv\n",
            "'StatisticsVsML_problem_stud.ipynb의 사본'\n",
            " test.csv\n",
            " train.csv\n",
            " Untitled0.ipynb\n",
            " 나도코딩_openCV.ipynb\n",
            " 와인품질분류.zip\n"
          ]
        }
      ]
    },
    {
      "cell_type": "code",
      "source": [],
      "metadata": {
        "id": "D2x9_-2o3yPr"
      },
      "execution_count": null,
      "outputs": []
    }
  ]
}