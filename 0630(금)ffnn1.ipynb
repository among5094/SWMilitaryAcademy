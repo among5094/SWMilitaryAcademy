{
  "cells": [
    {
      "cell_type": "markdown",
      "metadata": {
        "id": "view-in-github",
        "colab_type": "text"
      },
      "source": [
        "<a href=\"https://colab.research.google.com/github/among5094/SWMilitaryAcademy/blob/main/0630(%EA%B8%88)ffnn1.ipynb\" target=\"_parent\"><img src=\"https://colab.research.google.com/assets/colab-badge.svg\" alt=\"Open In Colab\"/></a>"
      ]
    },
    {
      "cell_type": "markdown",
      "metadata": {
        "id": "GUPWsCSivgRT"
      },
      "source": [
        "### 7. custom FFNN\n",
        "#### 1) 활성화함수가 있는 FFNN\n",
        "활성화 함수가 있는 FFNN를 구현해 보자.\n",
        "$$\\begin{aligned}\n",
        "s &= x \\cdot w + b \\\\\n",
        "\\hat y &= f(s) \\\\\n",
        "e = Loss(w,b) &= (\\hat y - y)^2 \\\\\n",
        "& \\\\\n",
        "\\cfrac {\\partial Loss(w,b)}{\\partial w} &= \\cfrac{\\partial Loss(w,b)}{\\partial \\hat y} \\cfrac{\\partial \\hat y}{\\partial s} \\cfrac{\\partial s}{\\partial w} \\\\\n",
        "&= x^T \\cdot 2(\\hat y - y)f^{'}(s)\\\\\n",
        "\\cfrac {\\partial Loss(w,b)}{\\partial b} &= 1 \\cdot 2(\\hat y - y)f^{'}(s) \\\\\n",
        "(p, o=1) &= (B, p)^T \\cdot [(B, 1) \\times (B, 1)]\n",
        "\\end{aligned}$$\n",
        "- p: 변수의 수\n",
        "- o: 출력의 수\n",
        "- B: batch size\n",
        "\n",
        "참고로:\n",
        "$$\\begin{aligned}\n",
        "f(x) &= \\tanh(x) \\\\\n",
        "f^{'}(x) &= 1 - \\tanh^2(x)\n",
        "\\end{aligned}$$\n",
        "\n",
        "이를 위해 propagate_forward(self, x)함수를 구해보자."
      ]
    },
    {
      "cell_type": "code",
      "execution_count": null,
      "metadata": {
        "id": "i7efCKMZvgRY"
      },
      "outputs": [],
      "source": [
        "%matplotlib inline\n",
        "import numpy as np\n",
        "np.random.seed(123)\n",
        "\n",
        "x_train = np.random.rand(1024, 1)\n",
        "y_train = x_train * 0.1 - 0.05 # w = 0.1, b = -0.05\n",
        "\n",
        "x_val = np.random.rand(32).reshape(-1,1)\n",
        "y_val = x_val * 0.1 - 0.05\n",
        "\n",
        "x_test = np.arange(0, 10, 2).reshape(-1,1)*.1\n",
        "y_test = x_test * 0.1 - 0.05"
      ]
    },
    {
      "cell_type": "code",
      "execution_count": null,
      "metadata": {
        "id": "r2_CRk9ZvgRa"
      },
      "outputs": [],
      "source": [
        "class FFNN:\n",
        "    def __init__(self, lr=0.01):\n",
        "        self.lr = lr\n",
        "        # initial weights: w는 .5, b는 .0\n",
        "        self.w = np.array([0.5]).reshape(-1, 1)\n",
        "        self.b = np.array([0.])\n",
        "\n",
        "    def calc_sum(self, x, w, b):\n",
        "        return np.dot(x, w) + b\n",
        "\n",
        "    # feed forward network\n",
        "    def predict(self, x):\n",
        "        return np.tanh(self.calc_sum(x, self.w, self.b))\n",
        "\n",
        "    # train for one batch. x 자체가 batch\n",
        "    def train_on_batch(self, x, y, istrain=True):\n",
        "        yhat = self.predict(x)\n",
        "        loss = np.sum((yhat - y)**2)\n",
        "        if istrain:\n",
        "            rows = x.shape[0]\n",
        "            dw = x.T.dot((yhat - y)*(1 - yhat**2))\n",
        "            db = np.ones(rows).dot((yhat - y)*(1 - yhat**2))\n",
        "            self.w -= self.lr * dw\n",
        "            self.b -= self.lr * db\n",
        "        return loss\n",
        "\n",
        "    def fit(self, x, y, batch_size=16, epochs=100, val_data=None):\n",
        "        Losses = {}\n",
        "        Losses[\"train_loss\"] = []\n",
        "        if val_data is not None:\n",
        "            Losses[\"val_loss\"] = []\n",
        "\n",
        "        rows = x.shape[0]\n",
        "        idxs = np.arange(rows)\n",
        "        for i in range(epochs):\n",
        "            Loss = 0\n",
        "            np.random.shuffle(idxs)\n",
        "\n",
        "            for j in range(0, rows, batch_size):\n",
        "                x_batch = x[idxs[j:j+batch_size]]\n",
        "                y_batch = y[idxs[j:j+batch_size]]\n",
        "                Loss += self.train_on_batch(x_batch, y_batch)\n",
        "\n",
        "            Loss /= rows\n",
        "            print(\"Train Loss at Epoch %d is %.8f\" %(i, Loss))\n",
        "            Losses[\"train_loss\"].append(Loss)\n",
        "            if val_data is not None:\n",
        "                valrows = val_data[0].shape[0]\n",
        "                val_loss = self.train_on_batch(*val_data, istrain=False)/valrows\n",
        "                print(\"Val Loss at Epoch %d is %.8f\" %(i, val_loss))\n",
        "                Losses[\"val_loss\"].append(val_loss)\n",
        "\n",
        "        return Losses"
      ]
    },
    {
      "cell_type": "code",
      "execution_count": null,
      "metadata": {
        "id": "51C3_ScTvgRb"
      },
      "outputs": [],
      "source": [
        "model = FFNN()"
      ]
    },
    {
      "cell_type": "code",
      "execution_count": null,
      "metadata": {
        "colab": {
          "base_uri": "https://localhost:8080/"
        },
        "id": "QBqQI9IRvgRb",
        "outputId": "76b9172e-fd29-4fb4-e474-4c98f55a8ed5"
      },
      "outputs": [
        {
          "output_type": "stream",
          "name": "stdout",
          "text": [
            "Train Loss at Epoch 0 is 0.00690161\n",
            "Val Loss at Epoch 0 is 0.00256712\n",
            "Train Loss at Epoch 1 is 0.00114082\n",
            "Val Loss at Epoch 1 is 0.00068765\n",
            "Train Loss at Epoch 2 is 0.00030936\n",
            "Val Loss at Epoch 2 is 0.00017958\n",
            "Train Loss at Epoch 3 is 0.00008346\n",
            "Val Loss at Epoch 3 is 0.00004913\n",
            "Train Loss at Epoch 4 is 0.00002237\n",
            "Val Loss at Epoch 4 is 0.00001389\n",
            "Train Loss at Epoch 5 is 0.00000608\n",
            "Val Loss at Epoch 5 is 0.00000370\n",
            "Train Loss at Epoch 6 is 0.00000163\n",
            "Val Loss at Epoch 6 is 0.00000098\n",
            "Train Loss at Epoch 7 is 0.00000044\n",
            "Val Loss at Epoch 7 is 0.00000025\n",
            "Train Loss at Epoch 8 is 0.00000012\n",
            "Val Loss at Epoch 8 is 0.00000007\n",
            "Train Loss at Epoch 9 is 0.00000003\n",
            "Val Loss at Epoch 9 is 0.00000002\n",
            "Train Loss at Epoch 10 is 0.00000001\n",
            "Val Loss at Epoch 10 is 0.00000000\n",
            "Train Loss at Epoch 11 is 0.00000000\n",
            "Val Loss at Epoch 11 is 0.00000000\n",
            "Train Loss at Epoch 12 is 0.00000000\n",
            "Val Loss at Epoch 12 is 0.00000000\n",
            "Train Loss at Epoch 13 is 0.00000000\n",
            "Val Loss at Epoch 13 is 0.00000000\n",
            "Train Loss at Epoch 14 is 0.00000000\n",
            "Val Loss at Epoch 14 is 0.00000000\n",
            "Train Loss at Epoch 15 is 0.00000000\n",
            "Val Loss at Epoch 15 is 0.00000000\n",
            "Train Loss at Epoch 16 is 0.00000000\n",
            "Val Loss at Epoch 16 is 0.00000000\n",
            "Train Loss at Epoch 17 is 0.00000000\n",
            "Val Loss at Epoch 17 is 0.00000000\n",
            "Train Loss at Epoch 18 is 0.00000000\n",
            "Val Loss at Epoch 18 is 0.00000000\n",
            "Train Loss at Epoch 19 is 0.00000000\n",
            "Val Loss at Epoch 19 is 0.00000000\n",
            "Train Loss at Epoch 20 is 0.00000000\n",
            "Val Loss at Epoch 20 is 0.00000000\n",
            "Train Loss at Epoch 21 is 0.00000000\n",
            "Val Loss at Epoch 21 is 0.00000000\n",
            "Train Loss at Epoch 22 is 0.00000000\n",
            "Val Loss at Epoch 22 is 0.00000000\n",
            "Train Loss at Epoch 23 is 0.00000000\n",
            "Val Loss at Epoch 23 is 0.00000000\n",
            "Train Loss at Epoch 24 is 0.00000000\n",
            "Val Loss at Epoch 24 is 0.00000000\n",
            "Train Loss at Epoch 25 is 0.00000000\n",
            "Val Loss at Epoch 25 is 0.00000000\n",
            "Train Loss at Epoch 26 is 0.00000000\n",
            "Val Loss at Epoch 26 is 0.00000000\n",
            "Train Loss at Epoch 27 is 0.00000000\n",
            "Val Loss at Epoch 27 is 0.00000000\n",
            "Train Loss at Epoch 28 is 0.00000000\n",
            "Val Loss at Epoch 28 is 0.00000000\n",
            "Train Loss at Epoch 29 is 0.00000000\n",
            "Val Loss at Epoch 29 is 0.00000000\n",
            "Train Loss at Epoch 30 is 0.00000000\n",
            "Val Loss at Epoch 30 is 0.00000000\n",
            "Train Loss at Epoch 31 is 0.00000000\n",
            "Val Loss at Epoch 31 is 0.00000000\n",
            "Train Loss at Epoch 32 is 0.00000000\n",
            "Val Loss at Epoch 32 is 0.00000000\n",
            "Train Loss at Epoch 33 is 0.00000000\n",
            "Val Loss at Epoch 33 is 0.00000000\n",
            "Train Loss at Epoch 34 is 0.00000000\n",
            "Val Loss at Epoch 34 is 0.00000000\n",
            "Train Loss at Epoch 35 is 0.00000000\n",
            "Val Loss at Epoch 35 is 0.00000000\n",
            "Train Loss at Epoch 36 is 0.00000000\n",
            "Val Loss at Epoch 36 is 0.00000000\n",
            "Train Loss at Epoch 37 is 0.00000000\n",
            "Val Loss at Epoch 37 is 0.00000000\n",
            "Train Loss at Epoch 38 is 0.00000000\n",
            "Val Loss at Epoch 38 is 0.00000000\n",
            "Train Loss at Epoch 39 is 0.00000000\n",
            "Val Loss at Epoch 39 is 0.00000000\n",
            "Train Loss at Epoch 40 is 0.00000000\n",
            "Val Loss at Epoch 40 is 0.00000000\n",
            "Train Loss at Epoch 41 is 0.00000000\n",
            "Val Loss at Epoch 41 is 0.00000000\n",
            "Train Loss at Epoch 42 is 0.00000000\n",
            "Val Loss at Epoch 42 is 0.00000000\n",
            "Train Loss at Epoch 43 is 0.00000000\n",
            "Val Loss at Epoch 43 is 0.00000000\n",
            "Train Loss at Epoch 44 is 0.00000000\n",
            "Val Loss at Epoch 44 is 0.00000000\n",
            "Train Loss at Epoch 45 is 0.00000000\n",
            "Val Loss at Epoch 45 is 0.00000000\n",
            "Train Loss at Epoch 46 is 0.00000000\n",
            "Val Loss at Epoch 46 is 0.00000000\n",
            "Train Loss at Epoch 47 is 0.00000000\n",
            "Val Loss at Epoch 47 is 0.00000000\n",
            "Train Loss at Epoch 48 is 0.00000000\n",
            "Val Loss at Epoch 48 is 0.00000000\n",
            "Train Loss at Epoch 49 is 0.00000000\n",
            "Val Loss at Epoch 49 is 0.00000000\n",
            "Train Loss at Epoch 50 is 0.00000000\n",
            "Val Loss at Epoch 50 is 0.00000000\n",
            "Train Loss at Epoch 51 is 0.00000000\n",
            "Val Loss at Epoch 51 is 0.00000000\n",
            "Train Loss at Epoch 52 is 0.00000000\n",
            "Val Loss at Epoch 52 is 0.00000000\n",
            "Train Loss at Epoch 53 is 0.00000000\n",
            "Val Loss at Epoch 53 is 0.00000000\n",
            "Train Loss at Epoch 54 is 0.00000000\n",
            "Val Loss at Epoch 54 is 0.00000000\n",
            "Train Loss at Epoch 55 is 0.00000000\n",
            "Val Loss at Epoch 55 is 0.00000000\n",
            "Train Loss at Epoch 56 is 0.00000000\n",
            "Val Loss at Epoch 56 is 0.00000000\n",
            "Train Loss at Epoch 57 is 0.00000000\n",
            "Val Loss at Epoch 57 is 0.00000000\n",
            "Train Loss at Epoch 58 is 0.00000000\n",
            "Val Loss at Epoch 58 is 0.00000000\n",
            "Train Loss at Epoch 59 is 0.00000000\n",
            "Val Loss at Epoch 59 is 0.00000000\n",
            "Train Loss at Epoch 60 is 0.00000000\n",
            "Val Loss at Epoch 60 is 0.00000000\n",
            "Train Loss at Epoch 61 is 0.00000000\n",
            "Val Loss at Epoch 61 is 0.00000000\n",
            "Train Loss at Epoch 62 is 0.00000000\n",
            "Val Loss at Epoch 62 is 0.00000000\n",
            "Train Loss at Epoch 63 is 0.00000000\n",
            "Val Loss at Epoch 63 is 0.00000000\n",
            "Train Loss at Epoch 64 is 0.00000000\n",
            "Val Loss at Epoch 64 is 0.00000000\n",
            "Train Loss at Epoch 65 is 0.00000000\n",
            "Val Loss at Epoch 65 is 0.00000000\n",
            "Train Loss at Epoch 66 is 0.00000000\n",
            "Val Loss at Epoch 66 is 0.00000000\n",
            "Train Loss at Epoch 67 is 0.00000000\n",
            "Val Loss at Epoch 67 is 0.00000000\n",
            "Train Loss at Epoch 68 is 0.00000000\n",
            "Val Loss at Epoch 68 is 0.00000000\n",
            "Train Loss at Epoch 69 is 0.00000000\n",
            "Val Loss at Epoch 69 is 0.00000000\n",
            "Train Loss at Epoch 70 is 0.00000000\n",
            "Val Loss at Epoch 70 is 0.00000000\n",
            "Train Loss at Epoch 71 is 0.00000000\n",
            "Val Loss at Epoch 71 is 0.00000000\n",
            "Train Loss at Epoch 72 is 0.00000000\n",
            "Val Loss at Epoch 72 is 0.00000000\n",
            "Train Loss at Epoch 73 is 0.00000000\n",
            "Val Loss at Epoch 73 is 0.00000000\n",
            "Train Loss at Epoch 74 is 0.00000000\n",
            "Val Loss at Epoch 74 is 0.00000000\n",
            "Train Loss at Epoch 75 is 0.00000000\n",
            "Val Loss at Epoch 75 is 0.00000000\n",
            "Train Loss at Epoch 76 is 0.00000000\n",
            "Val Loss at Epoch 76 is 0.00000000\n",
            "Train Loss at Epoch 77 is 0.00000000\n",
            "Val Loss at Epoch 77 is 0.00000000\n",
            "Train Loss at Epoch 78 is 0.00000000\n",
            "Val Loss at Epoch 78 is 0.00000000\n",
            "Train Loss at Epoch 79 is 0.00000000\n",
            "Val Loss at Epoch 79 is 0.00000000\n",
            "Train Loss at Epoch 80 is 0.00000000\n",
            "Val Loss at Epoch 80 is 0.00000000\n",
            "Train Loss at Epoch 81 is 0.00000000\n",
            "Val Loss at Epoch 81 is 0.00000000\n",
            "Train Loss at Epoch 82 is 0.00000000\n",
            "Val Loss at Epoch 82 is 0.00000000\n",
            "Train Loss at Epoch 83 is 0.00000000\n",
            "Val Loss at Epoch 83 is 0.00000000\n",
            "Train Loss at Epoch 84 is 0.00000000\n",
            "Val Loss at Epoch 84 is 0.00000000\n",
            "Train Loss at Epoch 85 is 0.00000000\n",
            "Val Loss at Epoch 85 is 0.00000000\n",
            "Train Loss at Epoch 86 is 0.00000000\n",
            "Val Loss at Epoch 86 is 0.00000000\n",
            "Train Loss at Epoch 87 is 0.00000000\n",
            "Val Loss at Epoch 87 is 0.00000000\n",
            "Train Loss at Epoch 88 is 0.00000000\n",
            "Val Loss at Epoch 88 is 0.00000000\n",
            "Train Loss at Epoch 89 is 0.00000000\n",
            "Val Loss at Epoch 89 is 0.00000000\n",
            "Train Loss at Epoch 90 is 0.00000000\n",
            "Val Loss at Epoch 90 is 0.00000000\n",
            "Train Loss at Epoch 91 is 0.00000000\n",
            "Val Loss at Epoch 91 is 0.00000000\n",
            "Train Loss at Epoch 92 is 0.00000000\n",
            "Val Loss at Epoch 92 is 0.00000000\n",
            "Train Loss at Epoch 93 is 0.00000000\n",
            "Val Loss at Epoch 93 is 0.00000000\n",
            "Train Loss at Epoch 94 is 0.00000000\n",
            "Val Loss at Epoch 94 is 0.00000000\n",
            "Train Loss at Epoch 95 is 0.00000000\n",
            "Val Loss at Epoch 95 is 0.00000000\n",
            "Train Loss at Epoch 96 is 0.00000000\n",
            "Val Loss at Epoch 96 is 0.00000000\n",
            "Train Loss at Epoch 97 is 0.00000000\n",
            "Val Loss at Epoch 97 is 0.00000000\n",
            "Train Loss at Epoch 98 is 0.00000000\n",
            "Val Loss at Epoch 98 is 0.00000000\n",
            "Train Loss at Epoch 99 is 0.00000000\n",
            "Val Loss at Epoch 99 is 0.00000000\n"
          ]
        }
      ],
      "source": [
        "hist = model.fit(x_train, y_train, val_data=(x_val, y_val))"
      ]
    },
    {
      "cell_type": "code",
      "execution_count": null,
      "metadata": {
        "scrolled": true,
        "colab": {
          "base_uri": "https://localhost:8080/",
          "height": 294
        },
        "id": "bgc5mMjQvgRc",
        "outputId": "6e361a44-a134-4d72-9a38-31c5aa4232d6"
      },
      "outputs": [
        {
          "output_type": "execute_result",
          "data": {
            "text/plain": [
              "<matplotlib.axes._subplots.AxesSubplot at 0x7f0565bddd90>"
            ]
          },
          "metadata": {},
          "execution_count": 9
        },
        {
          "output_type": "display_data",
          "data": {
            "image/png": "[encoded data removed]",
            "text/plain": [
              "<Figure size 432x288 with 1 Axes>"
            ]
          },
          "metadata": {
            "needs_background": "light"
          }
        }
      ],
      "source": [
        "import pandas as pd\n",
        "import matplotlib.pyplot as plt\n",
        "\n",
        "pd.DataFrame(hist)[30:].plot()"
      ]
    },
    {
      "cell_type": "code",
      "execution_count": null,
      "metadata": {
        "id": "-0Tx_cmNvgRc"
      },
      "outputs": [],
      "source": [
        "testdf = pd.DataFrame({'pred':model.predict(x_test).ravel(), 'target':y_test.ravel()})"
      ]
    },
    {
      "cell_type": "code",
      "execution_count": null,
      "metadata": {
        "id": "ROgXSCApvgRd",
        "outputId": "b4ae4088-f791-414a-f9b7-dac41fb7fcd3",
        "colab": {
          "base_uri": "https://localhost:8080/",
          "height": 206
        }
      },
      "outputs": [
        {
          "output_type": "execute_result",
          "data": {
            "text/html": [
              "\n",
              "  <div id=\"df-1549c7f5-62ee-4877-947f-1af01fd28d37\">\n",
              "    <div class=\"colab-df-container\">\n",
              "      <div>\n",
              "<style scoped>\n",
              "    .dataframe tbody tr th:only-of-type {\n",
              "        vertical-align: middle;\n",
              "    }\n",
              "\n",
              "    .dataframe tbody tr th {\n",
              "        vertical-align: top;\n",
              "    }\n",
              "\n",
              "    .dataframe thead th {\n",
              "        text-align: right;\n",
              "    }\n",
              "</style>\n",
              "<table border=\"1\" class=\"dataframe\">\n",
              "  <thead>\n",
              "    <tr style=\"text-align: right;\">\n",
              "      <th></th>\n",
              "      <th>pred</th>\n",
              "      <th>target</th>\n",
              "    </tr>\n",
              "  </thead>\n",
              "  <tbody>\n",
              "    <tr>\n",
              "      <th>0</th>\n",
              "      <td>-0.049984</td>\n",
              "      <td>-0.05</td>\n",
              "    </tr>\n",
              "    <tr>\n",
              "      <th>1</th>\n",
              "      <td>-0.030006</td>\n",
              "      <td>-0.03</td>\n",
              "    </tr>\n",
              "    <tr>\n",
              "      <th>2</th>\n",
              "      <td>-0.010005</td>\n",
              "      <td>-0.01</td>\n",
              "    </tr>\n",
              "    <tr>\n",
              "      <th>3</th>\n",
              "      <td>0.010005</td>\n",
              "      <td>0.01</td>\n",
              "    </tr>\n",
              "    <tr>\n",
              "      <th>4</th>\n",
              "      <td>0.030006</td>\n",
              "      <td>0.03</td>\n",
              "    </tr>\n",
              "  </tbody>\n",
              "</table>\n",
              "</div>\n",
              "      <button class=\"colab-df-convert\" onclick=\"convertToInteractive('df-1549c7f5-62ee-4877-947f-1af01fd28d37')\"\n",
              "              title=\"Convert this dataframe to an interactive table.\"\n",
              "              style=\"display:none;\">\n",
              "        \n",
              "  <svg xmlns=\"http://www.w3.org/2000/svg\" height=\"24px\"viewBox=\"0 0 24 24\"\n",
              "       width=\"24px\">\n",
              "    <path d=\"M0 0h24v24H0V0z\" fill=\"none\"/>\n",
              "    <path d=\"M18.56 5.44l.94 2.06.94-2.06 2.06-.94-2.06-.94-.94-2.06-.94 2.06-2.06.94zm-11 1L8.5 8.5l.94-2.06 2.06-.94-2.06-.94L8.5 2.5l-.94 2.06-2.06.94zm10 10l.94 2.06.94-2.06 2.06-.94-2.06-.94-.94-2.06-.94 2.06-2.06.94z\"/><path d=\"M17.41 7.96l-1.37-1.37c-.4-.4-.92-.59-1.43-.59-.52 0-1.04.2-1.43.59L10.3 9.45l-7.72 7.72c-.78.78-.78 2.05 0 2.83L4 21.41c.39.39.9.59 1.41.59.51 0 1.02-.2 1.41-.59l7.78-7.78 2.81-2.81c.8-.78.8-2.07 0-2.86zM5.41 20L4 18.59l7.72-7.72 1.47 1.35L5.41 20z\"/>\n",
              "  </svg>\n",
              "      </button>\n",
              "      \n",
              "  <style>\n",
              "    .colab-df-container {\n",
              "      display:flex;\n",
              "      flex-wrap:wrap;\n",
              "      gap: 12px;\n",
              "    }\n",
              "\n",
              "    .colab-df-convert {\n",
              "      background-color: #E8F0FE;\n",
              "      border: none;\n",
              "      border-radius: 50%;\n",
              "      cursor: pointer;\n",
              "      display: none;\n",
              "      fill: #1967D2;\n",
              "      height: 32px;\n",
              "      padding: 0 0 0 0;\n",
              "      width: 32px;\n",
              "    }\n",
              "\n",
              "    .colab-df-convert:hover {\n",
              "      background-color: #E2EBFA;\n",
              "      box-shadow: 0px 1px 2px rgba(60, 64, 67, 0.3), 0px 1px 3px 1px rgba(60, 64, 67, 0.15);\n",
              "      fill: #174EA6;\n",
              "    }\n",
              "\n",
              "    [theme=dark] .colab-df-convert {\n",
              "      background-color: #3B4455;\n",
              "      fill: #D2E3FC;\n",
              "    }\n",
              "\n",
              "    [theme=dark] .colab-df-convert:hover {\n",
              "      background-color: #434B5C;\n",
              "      box-shadow: 0px 1px 3px 1px rgba(0, 0, 0, 0.15);\n",
              "      filter: drop-shadow(0px 1px 2px rgba(0, 0, 0, 0.3));\n",
              "      fill: #FFFFFF;\n",
              "    }\n",
              "  </style>\n",
              "\n",
              "      <script>\n",
              "        const buttonEl =\n",
              "          document.querySelector('#df-1549c7f5-62ee-4877-947f-1af01fd28d37 button.colab-df-convert');\n",
              "        buttonEl.style.display =\n",
              "          google.colab.kernel.accessAllowed ? 'block' : 'none';\n",
              "\n",
              "        async function convertToInteractive(key) {\n",
              "          const element = document.querySelector('#df-1549c7f5-62ee-4877-947f-1af01fd28d37');\n",
              "          const dataTable =\n",
              "            await google.colab.kernel.invokeFunction('convertToInteractive',\n",
              "                                                     [key], {});\n",
              "          if (!dataTable) return;\n",
              "\n",
              "          const docLinkHtml = 'Like what you see? Visit the ' +\n",
              "            '<a target=\"_blank\" href=https://colab.research.google.com/notebooks/data_table.ipynb>data table notebook</a>'\n",
              "            + ' to learn more about interactive tables.';\n",
              "          element.innerHTML = '';\n",
              "          dataTable['output_type'] = 'display_data';\n",
              "          await google.colab.output.renderOutput(dataTable, element);\n",
              "          const docLink = document.createElement('div');\n",
              "          docLink.innerHTML = docLinkHtml;\n",
              "          element.appendChild(docLink);\n",
              "        }\n",
              "      </script>\n",
              "    </div>\n",
              "  </div>\n",
              "  "
            ],
            "text/plain": [
              "       pred  target\n",
              "0 -0.049984   -0.05\n",
              "1 -0.030006   -0.03\n",
              "2 -0.010005   -0.01\n",
              "3  0.010005    0.01\n",
              "4  0.030006    0.03"
            ]
          },
          "metadata": {},
          "execution_count": 11
        }
      ],
      "source": [
        "testdf"
      ]
    },
    {
      "cell_type": "code",
      "source": [
        "model.w, model.b"
      ],
      "metadata": {
        "colab": {
          "base_uri": "https://localhost:8080/"
        },
        "id": "UUZOHeXo-s7n",
        "outputId": "c7e133a4-92e0-4a42-fe84-ecfbc505ba66"
      },
      "execution_count": null,
      "outputs": [
        {
          "output_type": "execute_result",
          "data": {
            "text/plain": [
              "(array([[0.10005079]]), array([-0.0500252]))"
            ]
          },
          "metadata": {},
          "execution_count": 12
        }
      ]
    },
    {
      "cell_type": "markdown",
      "metadata": {
        "id": "0G-uSob5vgRd"
      },
      "source": [
        "[Quiz] test 데이터에 대한 $R^2$를 구하자.\n",
        "$$1 - \\cfrac {SSE}{SST} = 1 - \\cfrac {\\sum_i (y_i - \\hat y_i)^2}{\\sum_i (y_i - \\bar y)^2}$$"
      ]
    },
    {
      "cell_type": "code",
      "execution_count": null,
      "metadata": {
        "id": "VLVXEuLNvgRe",
        "outputId": "2599585a-5419-4d3d-ec01-0022838d11d2",
        "colab": {
          "base_uri": "https://localhost:8080/"
        }
      },
      "outputs": [
        {
          "output_type": "execute_result",
          "data": {
            "text/plain": [
              "0.9999999013871843"
            ]
          },
          "metadata": {},
          "execution_count": 13
        }
      ],
      "source": [
        "1 - ((testdf.pred - testdf.target)**2).mean() / testdf.target.var(ddof=0)"
      ]
    },
    {
      "cell_type": "code",
      "execution_count": null,
      "metadata": {
        "colab": {
          "base_uri": "https://localhost:8080/"
        },
        "id": "xEDIjtVXvgRe",
        "outputId": "9bd318c6-d4f9-4d7a-c03e-f5effdd2e39f"
      },
      "outputs": [
        {
          "output_type": "execute_result",
          "data": {
            "text/plain": [
              "0.9999999162625023"
            ]
          },
          "metadata": {},
          "execution_count": 14
        }
      ],
      "source": [
        "1 - (testdf.pred - testdf.target).var() / testdf.target.var()"
      ]
    },
    {
      "cell_type": "code",
      "execution_count": null,
      "metadata": {
        "id": "NK9-0rn8vgRf"
      },
      "outputs": [],
      "source": []
    }
  ],
  "metadata": {
    "kernelspec": {
      "display_name": "Python 3",
      "language": "python",
      "name": "python3"
    },
    "language_info": {
      "codemirror_mode": {
        "name": "ipython",
        "version": 3
      },
      "file_extension": ".py",
      "mimetype": "text/x-python",
      "name": "python",
      "nbconvert_exporter": "python",
      "pygments_lexer": "ipython3",
      "version": "3.8.3"
    },
    "toc": {
      "base_numbering": 1,
      "nav_menu": {},
      "number_sections": false,
      "sideBar": true,
      "skip_h1_title": false,
      "title_cell": "Table of Contents",
      "title_sidebar": "Contents",
      "toc_cell": false,
      "toc_position": {},
      "toc_section_display": true,
      "toc_window_display": false
    },
    "varInspector": {
      "cols": {
        "lenName": 16,
        "lenType": 16,
        "lenVar": 40
      },
      "kernels_config": {
        "python": {
          "delete_cmd_postfix": "",
          "delete_cmd_prefix": "del ",
          "library": "var_list.py",
          "varRefreshCmd": "print(var_dic_list())"
        },
        "r": {
          "delete_cmd_postfix": ") ",
          "delete_cmd_prefix": "rm(",
          "library": "var_list.r",
          "varRefreshCmd": "cat(var_dic_list()) "
        }
      },
      "types_to_exclude": [
        "module",
        "function",
        "builtin_function_or_method",
        "instance",
        "_Feature"
      ],
      "window_display": false
    },
    "colab": {
      "provenance": [],
      "toc_visible": true,
      "include_colab_link": true
    }
  },
  "nbformat": 4,
  "nbformat_minor": 0
}